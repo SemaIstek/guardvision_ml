{
 "cells": [
  {
   "cell_type": "code",
   "execution_count": 1,
   "id": "1bcee9dc",
   "metadata": {},
   "outputs": [],
   "source": [
    "from pycocotools.coco import COCO\n",
    "import os\n",
    "from tqdm import tqdm\n",
    "import shutil"
   ]
  },
  {
   "cell_type": "markdown",
   "id": "a420b75e",
   "metadata": {},
   "source": [
    "# COCO → YOLO dönüştürme (train / val / test ayrı)"
   ]
  },
  {
   "cell_type": "code",
   "execution_count": 2,
   "id": "806a331a",
   "metadata": {},
   "outputs": [],
   "source": [
    "# COCO JSON → YOLO formatına dönüştürür\n",
    "from pycocotools.coco import COCO\n",
    "import os\n",
    "from tqdm import tqdm\n",
    "import shutil\n",
    "\n",
    "def convert_coco_to_yolo_flex(json_path, image_root_dirs, output_dir):\n",
    "    labels_dir = os.path.join(output_dir, \"labels\")\n",
    "    images_out_dir = os.path.join(output_dir, \"images\")\n",
    "\n",
    "    os.makedirs(labels_dir, exist_ok=True)\n",
    "    os.makedirs(images_out_dir, exist_ok=True)\n",
    "\n",
    "    coco = COCO(json_path)\n",
    "\n",
    "    categories = coco.loadCats(coco.getCatIds())\n",
    "    class_id_map = {cat['id']: idx for idx, cat in enumerate(categories)}\n",
    "    class_names = [cat['name'] for cat in categories]\n",
    "\n",
    "    with open(os.path.join(output_dir, 'classes.txt'), 'w') as f:\n",
    "        f.write('\\n'.join(class_names))\n",
    "\n",
    "    missing = 0\n",
    "    found = 0\n",
    "\n",
    "    for img_id in tqdm(coco.getImgIds(), desc=os.path.basename(json_path)):\n",
    "        img = coco.loadImgs(img_id)[0]\n",
    "        file_name = os.path.basename(img['file_name'])\n",
    "        width = img['width']\n",
    "        height = img['height']\n",
    "\n",
    "        # Görseli bul\n",
    "        found_path = None\n",
    "        for root_dir in image_root_dirs:\n",
    "            for root, _, files in os.walk(root_dir):\n",
    "                if file_name in files:\n",
    "                    found_path = os.path.join(root, file_name)\n",
    "                    break\n",
    "            if found_path:\n",
    "                break\n",
    "\n",
    "        if not found_path:\n",
    "            missing += 1\n",
    "            continue\n",
    "        else:\n",
    "            found += 1\n",
    "            shutil.copyfile(found_path, os.path.join(images_out_dir, file_name))\n",
    "\n",
    "        # Annotation'ı kaydet\n",
    "        ann_ids = coco.getAnnIds(imgIds=img_id)\n",
    "        anns = coco.loadAnns(ann_ids)\n",
    "        yolo_lines = []\n",
    "        for ann in anns:\n",
    "            x, y, w, h = ann['bbox']\n",
    "            x_center = (x + w / 2) / width\n",
    "            y_center = (y + h / 2) / height\n",
    "            w /= width\n",
    "            h /= height\n",
    "            class_id = class_id_map[ann['category_id']]\n",
    "            yolo_lines.append(f\"{class_id} {x_center} {y_center} {w} {h}\")\n",
    "\n",
    "        label_path = os.path.join(labels_dir, os.path.splitext(file_name)[0] + '.txt')\n",
    "        with open(label_path, 'w') as f:\n",
    "            f.write('\\n'.join(yolo_lines))\n",
    "\n",
    "    print(f\"Eşleşen: {found} — Eksik görseller: {missing}\")\n"
   ]
  },
  {
   "cell_type": "code",
   "execution_count": 4,
   "id": "aae76da0",
   "metadata": {},
   "outputs": [
    {
     "name": "stdout",
     "output_type": "stream",
     "text": [
      "loading annotations into memory...\n",
      "Done (t=0.06s)\n",
      "creating index...\n",
      "index created!\n"
     ]
    },
    {
     "name": "stderr",
     "output_type": "stream",
     "text": [
      "merged_annotations_cleaned_train.json: 100%|██████████| 1070/1070 [00:20<00:00, 52.37it/s]\n"
     ]
    },
    {
     "name": "stdout",
     "output_type": "stream",
     "text": [
      "Eşleşen: 1070 — Eksik görseller: 0\n",
      "loading annotations into memory...\n",
      "Done (t=0.02s)\n",
      "creating index...\n",
      "index created!\n"
     ]
    },
    {
     "name": "stderr",
     "output_type": "stream",
     "text": [
      "merged_annotations_cleaned_val.json: 100%|██████████| 356/356 [00:07<00:00, 48.95it/s]\n"
     ]
    },
    {
     "name": "stdout",
     "output_type": "stream",
     "text": [
      "Eşleşen: 356 — Eksik görseller: 0\n",
      "loading annotations into memory...\n",
      "Done (t=0.02s)\n",
      "creating index...\n",
      "index created!\n"
     ]
    },
    {
     "name": "stderr",
     "output_type": "stream",
     "text": [
      "merged_annotations_cleaned_test.json: 100%|██████████| 358/358 [00:07<00:00, 50.17it/s]"
     ]
    },
    {
     "name": "stdout",
     "output_type": "stream",
     "text": [
      "Eşleşen: 358 — Eksik görseller: 0\n"
     ]
    },
    {
     "name": "stderr",
     "output_type": "stream",
     "text": [
      "\n"
     ]
    }
   ],
   "source": [
    "base_dir = r\"C:\\Users\\hp\\Desktop\\YOLOv11_union_100\"\n",
    "image_dirs = [os.path.join(base_dir, d) for d in os.listdir(base_dir) if os.path.isdir(os.path.join(base_dir, d))]\n",
    "\n",
    "convert_coco_to_yolo_flex(\n",
    "    json_path=os.path.join(base_dir, \"merged_annotations_cleaned_train.json\"),\n",
    "    image_root_dirs=image_dirs,\n",
    "    output_dir=os.path.join(base_dir, \"yolo_union_train\")\n",
    ")\n",
    "\n",
    "convert_coco_to_yolo_flex(\n",
    "    json_path=os.path.join(base_dir, \"merged_annotations_cleaned_val.json\"),\n",
    "    image_root_dirs=image_dirs,\n",
    "    output_dir=os.path.join(base_dir, \"yolo_union_val\")\n",
    ")\n",
    "\n",
    "convert_coco_to_yolo_flex(\n",
    "    json_path=os.path.join(base_dir, \"merged_annotations_cleaned_test.json\"),\n",
    "    image_root_dirs=image_dirs,\n",
    "    output_dir=os.path.join(base_dir, \"yolo_union_test\")\n",
    ")\n",
    "\n"
   ]
  },
  {
   "cell_type": "markdown",
   "id": "ad1a2ce2",
   "metadata": {},
   "source": [
    "# YOLO Dataset Yapılandırması ve dataset.yaml Dosyasının Oluşturulması"
   ]
  },
  {
   "cell_type": "code",
   "execution_count": 5,
   "id": "3905b85d",
   "metadata": {},
   "outputs": [],
   "source": [
    "def create_dataset_yaml(train_dir, val_dir, output_yaml_path):\n",
    "    with open(os.path.join(train_dir, \"classes.txt\"), 'r') as f:\n",
    "        class_names = [line.strip() for line in f.readlines()]\n",
    "\n",
    "    lines = [\n",
    "        f\"path: \",\n",
    "        f\"train: {train_dir}/images\",\n",
    "        f\"val: {val_dir}/images\",\n",
    "        \"\",\n",
    "        \"names:\"\n",
    "    ] + [f\"  {i}: {name}\" for i, name in enumerate(class_names)]\n",
    "\n",
    "    with open(output_yaml_path, 'w') as f:\n",
    "        f.write('\\n'.join(lines))\n",
    "\n",
    "    print(f\"✅ YAML dosyası oluşturuldu: {output_yaml_path}\")\n"
   ]
  },
  {
   "cell_type": "code",
   "execution_count": 6,
   "id": "9a66bd96",
   "metadata": {},
   "outputs": [
    {
     "name": "stdout",
     "output_type": "stream",
     "text": [
      "✅ YAML dosyası oluşturuldu: C:\\Users\\hp\\Desktop\\YOLOv11_union_100\\yolo_union_dataset.yaml\n"
     ]
    }
   ],
   "source": [
    "create_dataset_yaml(\n",
    "    train_dir=os.path.join(base_dir, \"yolo_union_train\"),\n",
    "    val_dir=os.path.join(base_dir, \"yolo_union_val\"),\n",
    "    output_yaml_path=os.path.join(base_dir, \"yolo_union_dataset.yaml\")\n",
    ")\n"
   ]
  },
  {
   "cell_type": "markdown",
   "id": "20025ee8",
   "metadata": {},
   "source": [
    "# YOLOv11 ile Model Eğitimi (Train + Val)"
   ]
  },
  {
   "cell_type": "code",
   "execution_count": 7,
   "id": "eab35329",
   "metadata": {},
   "outputs": [
    {
     "name": "stdout",
     "output_type": "stream",
     "text": [
      "Downloading https://github.com/ultralytics/assets/releases/download/v8.3.0/yolo11n.pt to 'yolo11n.pt'...\n"
     ]
    },
    {
     "name": "stderr",
     "output_type": "stream",
     "text": [
      "100%|██████████| 5.35M/5.35M [00:00<00:00, 9.76MB/s]\n"
     ]
    },
    {
     "name": "stdout",
     "output_type": "stream",
     "text": [
      "New https://pypi.org/project/ultralytics/8.3.158 available  Update with 'pip install -U ultralytics'\n",
      "Ultralytics 8.3.155  Python-3.9.1 torch-2.7.1+cpu CPU (Intel Core(TM) i5-6200U 2.30GHz)\n",
      "\u001b[34m\u001b[1mengine\\trainer: \u001b[0magnostic_nms=False, amp=True, augment=False, auto_augment=randaugment, batch=16, bgr=0.0, box=7.5, cache=False, cfg=None, classes=None, close_mosaic=10, cls=0.5, conf=None, copy_paste=0.0, copy_paste_mode=flip, cos_lr=False, cutmix=0.0, data=C:\\Users\\hp\\Desktop\\YOLOv11_union_100\\yolo_union_dataset.yaml, degrees=0.0, deterministic=True, device=cpu, dfl=1.5, dnn=False, dropout=0.0, dynamic=False, embed=None, epochs=100, erasing=0.4, exist_ok=False, fliplr=0.5, flipud=0.0, format=torchscript, fraction=1.0, freeze=None, half=False, hsv_h=0.015, hsv_s=0.7, hsv_v=0.4, imgsz=640, int8=False, iou=0.7, keras=False, kobj=1.0, line_width=None, lr0=0.01, lrf=0.01, mask_ratio=4, max_det=300, mixup=0.0, mode=train, model=yolo11n.pt, momentum=0.937, mosaic=1.0, multi_scale=False, name=train, nbs=64, nms=False, opset=None, optimize=False, optimizer=auto, overlap_mask=True, patience=100, perspective=0.0, plots=True, pose=12.0, pretrained=True, profile=False, project=None, rect=False, resume=False, retina_masks=False, save=True, save_conf=False, save_crop=False, save_dir=runs\\detect\\train, save_frames=False, save_json=False, save_period=-1, save_txt=False, scale=0.5, seed=0, shear=0.0, show=False, show_boxes=True, show_conf=True, show_labels=True, simplify=True, single_cls=False, source=None, split=val, stream_buffer=False, task=detect, time=None, tracker=botsort.yaml, translate=0.1, val=True, verbose=True, vid_stride=1, visualize=False, warmup_bias_lr=0.1, warmup_epochs=3.0, warmup_momentum=0.8, weight_decay=0.0005, workers=8, workspace=None\n",
      "Overriding model.yaml nc=80 with nc=28\n",
      "\n",
      "                   from  n    params  module                                       arguments                     \n",
      "  0                  -1  1       464  ultralytics.nn.modules.conv.Conv             [3, 16, 3, 2]                 \n",
      "  1                  -1  1      4672  ultralytics.nn.modules.conv.Conv             [16, 32, 3, 2]                \n",
      "  2                  -1  1      6640  ultralytics.nn.modules.block.C3k2            [32, 64, 1, False, 0.25]      \n",
      "  3                  -1  1     36992  ultralytics.nn.modules.conv.Conv             [64, 64, 3, 2]                \n",
      "  4                  -1  1     26080  ultralytics.nn.modules.block.C3k2            [64, 128, 1, False, 0.25]     \n",
      "  5                  -1  1    147712  ultralytics.nn.modules.conv.Conv             [128, 128, 3, 2]              \n",
      "  6                  -1  1     87040  ultralytics.nn.modules.block.C3k2            [128, 128, 1, True]           \n",
      "  7                  -1  1    295424  ultralytics.nn.modules.conv.Conv             [128, 256, 3, 2]              \n",
      "  8                  -1  1    346112  ultralytics.nn.modules.block.C3k2            [256, 256, 1, True]           \n",
      "  9                  -1  1    164608  ultralytics.nn.modules.block.SPPF            [256, 256, 5]                 \n",
      " 10                  -1  1    249728  ultralytics.nn.modules.block.C2PSA           [256, 256, 1]                 \n",
      " 11                  -1  1         0  torch.nn.modules.upsampling.Upsample         [None, 2, 'nearest']          \n",
      " 12             [-1, 6]  1         0  ultralytics.nn.modules.conv.Concat           [1]                           \n",
      " 13                  -1  1    111296  ultralytics.nn.modules.block.C3k2            [384, 128, 1, False]          \n",
      " 14                  -1  1         0  torch.nn.modules.upsampling.Upsample         [None, 2, 'nearest']          \n",
      " 15             [-1, 4]  1         0  ultralytics.nn.modules.conv.Concat           [1]                           \n",
      " 16                  -1  1     32096  ultralytics.nn.modules.block.C3k2            [256, 64, 1, False]           \n",
      " 17                  -1  1     36992  ultralytics.nn.modules.conv.Conv             [64, 64, 3, 2]                \n",
      " 18            [-1, 13]  1         0  ultralytics.nn.modules.conv.Concat           [1]                           \n",
      " 19                  -1  1     86720  ultralytics.nn.modules.block.C3k2            [192, 128, 1, False]          \n",
      " 20                  -1  1    147712  ultralytics.nn.modules.conv.Conv             [128, 128, 3, 2]              \n",
      " 21            [-1, 10]  1         0  ultralytics.nn.modules.conv.Concat           [1]                           \n",
      " 22                  -1  1    378880  ultralytics.nn.modules.block.C3k2            [384, 256, 1, True]           \n",
      " 23        [16, 19, 22]  1    436132  ultralytics.nn.modules.head.Detect           [28, [64, 128, 256]]          \n",
      "YOLO11n summary: 181 layers, 2,595,300 parameters, 2,595,284 gradients, 6.5 GFLOPs\n",
      "\n",
      "Transferred 448/499 items from pretrained weights\n",
      "Freezing layer 'model.23.dfl.conv.weight'\n",
      "\u001b[34m\u001b[1mtrain: \u001b[0mFast image access  (ping: 0.10.0 ms, read: 607.2626.3 MB/s, size: 467.2 KB)\n"
     ]
    },
    {
     "name": "stderr",
     "output_type": "stream",
     "text": [
      "\u001b[34m\u001b[1mtrain: \u001b[0mScanning C:\\Users\\hp\\Desktop\\YOLOv11_union_100\\yolo_union_train\\labels... 881 images, 21 backgrounds, 10 corrupt: 100%|██████████| 881/881 [00:02<00:00, 300.66it/s]"
     ]
    },
    {
     "name": "stdout",
     "output_type": "stream",
     "text": [
      "\u001b[34m\u001b[1mtrain: \u001b[0mC:\\Users\\hp\\Desktop\\YOLOv11_union_100\\yolo_union_train\\images\\056d2176-000087.jpg: ignoring corrupt image/label: non-normalized or out of bounds coordinates [     1.6507      1.5216      1.9279]\n",
      "\u001b[34m\u001b[1mtrain: \u001b[0mC:\\Users\\hp\\Desktop\\YOLOv11_union_100\\yolo_union_train\\images\\174da6c5-20250506_144440.jpg: corrupt JPEG restored and saved\n",
      "\u001b[34m\u001b[1mtrain: \u001b[0mC:\\Users\\hp\\Desktop\\YOLOv11_union_100\\yolo_union_train\\images\\2f6ebdf2-000046.jpg: ignoring corrupt image/label: non-normalized or out of bounds coordinates [      1.105      1.0759]\n",
      "\u001b[34m\u001b[1mtrain: \u001b[0mC:\\Users\\hp\\Desktop\\YOLOv11_union_100\\yolo_union_train\\images\\46bb4812-000137.jpg: ignoring corrupt image/label: non-normalized or out of bounds coordinates [     4.9925      1.3188      2.8348      1.0442      1.1548]\n",
      "\u001b[34m\u001b[1mtrain: \u001b[0mC:\\Users\\hp\\Desktop\\YOLOv11_union_100\\yolo_union_train\\images\\61bb8487-000075.jpg: ignoring corrupt image/label: non-normalized or out of bounds coordinates [     1.6817]\n",
      "\u001b[34m\u001b[1mtrain: \u001b[0mC:\\Users\\hp\\Desktop\\YOLOv11_union_100\\yolo_union_train\\images\\6497f918-20250506_144313.jpg: corrupt JPEG restored and saved\n",
      "\u001b[34m\u001b[1mtrain: \u001b[0mC:\\Users\\hp\\Desktop\\YOLOv11_union_100\\yolo_union_train\\images\\7913abde-20250506_144222.jpg: corrupt JPEG restored and saved\n",
      "\u001b[34m\u001b[1mtrain: \u001b[0mC:\\Users\\hp\\Desktop\\YOLOv11_union_100\\yolo_union_train\\images\\836a5712-000045.jpg: ignoring corrupt image/label: non-normalized or out of bounds coordinates [     2.3126      2.3405      1.6974      1.9358      1.6063      1.9456      1.1984]\n",
      "\u001b[34m\u001b[1mtrain: \u001b[0mC:\\Users\\hp\\Desktop\\YOLOv11_union_100\\yolo_union_train\\images\\91809d1d-20250506_144222_1.jpg: corrupt JPEG restored and saved\n",
      "\u001b[34m\u001b[1mtrain: \u001b[0mC:\\Users\\hp\\Desktop\\YOLOv11_union_100\\yolo_union_train\\images\\9c1d302b-000119.jpg: ignoring corrupt image/label: non-normalized or out of bounds coordinates [     1.1263      1.1259]\n",
      "\u001b[34m\u001b[1mtrain: \u001b[0mC:\\Users\\hp\\Desktop\\YOLOv11_union_100\\yolo_union_train\\images\\d7d7387e-000074.jpg: ignoring corrupt image/label: non-normalized or out of bounds coordinates [     1.3134      1.0025      1.3407      1.2438      1.0871       1.391      1.1302       1.149]\n",
      "\u001b[34m\u001b[1mtrain: \u001b[0mC:\\Users\\hp\\Desktop\\YOLOv11_union_100\\yolo_union_train\\images\\da7c034c-000002.jpg: ignoring corrupt image/label: non-normalized or out of bounds coordinates [     2.6001      1.0552]\n",
      "\u001b[34m\u001b[1mtrain: \u001b[0mC:\\Users\\hp\\Desktop\\YOLOv11_union_100\\yolo_union_train\\images\\de57b1a1-000054.jpg: ignoring corrupt image/label: non-normalized or out of bounds coordinates [     1.2629      1.9038      1.7392      1.0657]\n",
      "\u001b[34m\u001b[1mtrain: \u001b[0mC:\\Users\\hp\\Desktop\\YOLOv11_union_100\\yolo_union_train\\images\\ee3bebea-000039.jpg: ignoring corrupt image/label: non-normalized or out of bounds coordinates [     1.1914]\n"
     ]
    },
    {
     "name": "stderr",
     "output_type": "stream",
     "text": [
      "\n"
     ]
    },
    {
     "name": "stdout",
     "output_type": "stream",
     "text": [
      "\u001b[34m\u001b[1mtrain: \u001b[0mNew cache created: C:\\Users\\hp\\Desktop\\YOLOv11_union_100\\yolo_union_train\\labels.cache\n",
      "\u001b[34m\u001b[1malbumentations: \u001b[0mBlur(p=0.01, blur_limit=(3, 7)), MedianBlur(p=0.01, blur_limit=(3, 7)), ToGray(p=0.01, method='weighted_average', num_output_channels=3), CLAHE(p=0.01, clip_limit=(1.0, 4.0), tile_grid_size=(8, 8))\n",
      "\u001b[34m\u001b[1mval: \u001b[0mFast image access  (ping: 0.20.1 ms, read: 325.6334.7 MB/s, size: 956.8 KB)\n"
     ]
    },
    {
     "name": "stderr",
     "output_type": "stream",
     "text": [
      "c:\\Users\\hp\\AppData\\Local\\Programs\\Python\\Python39\\lib\\site-packages\\torch\\utils\\data\\dataloader.py:665: UserWarning: 'pin_memory' argument is set as true but no accelerator is found, then device pinned memory won't be used.\n",
      "  warnings.warn(warn_msg)\n",
      "\u001b[34m\u001b[1mval: \u001b[0mScanning C:\\Users\\hp\\Desktop\\YOLOv11_union_100\\yolo_union_val\\labels... 331 images, 6 backgrounds, 4 corrupt: 100%|██████████| 331/331 [00:00<00:00, 335.86it/s]"
     ]
    },
    {
     "name": "stdout",
     "output_type": "stream",
     "text": [
      "\u001b[34m\u001b[1mval: \u001b[0mC:\\Users\\hp\\Desktop\\YOLOv11_union_100\\yolo_union_val\\images\\5b76ffe8-000027.jpg: ignoring corrupt image/label: non-normalized or out of bounds coordinates [     1.5307      1.9068]\n",
      "\u001b[34m\u001b[1mval: \u001b[0mC:\\Users\\hp\\Desktop\\YOLOv11_union_100\\yolo_union_val\\images\\6fb557de-000049.jpg: ignoring corrupt image/label: non-normalized or out of bounds coordinates [     1.1493      1.7548      1.4536      1.5012      1.3175      1.5002]\n",
      "\u001b[34m\u001b[1mval: \u001b[0mC:\\Users\\hp\\Desktop\\YOLOv11_union_100\\yolo_union_val\\images\\9ee7ef84-000081.jpg: ignoring corrupt image/label: non-normalized or out of bounds coordinates [     1.8334      2.0966      1.5285      1.4144      1.3684      1.3018      1.4608      1.2585       1.302      1.2245]\n",
      "\u001b[34m\u001b[1mval: \u001b[0mC:\\Users\\hp\\Desktop\\YOLOv11_union_100\\yolo_union_val\\images\\a2218afe-000024.jpg: ignoring corrupt image/label: non-normalized or out of bounds coordinates [     1.9926      1.7107        1.57      1.3173      1.2546       1.042      1.0246      1.0067      1.2424      1.0204]\n",
      "\u001b[34m\u001b[1mval: \u001b[0mC:\\Users\\hp\\Desktop\\YOLOv11_union_100\\yolo_union_val\\images\\f11614ad-20250506_144240.jpg: corrupt JPEG restored and saved\n",
      "\u001b[34m\u001b[1mval: \u001b[0mNew cache created: C:\\Users\\hp\\Desktop\\YOLOv11_union_100\\yolo_union_val\\labels.cache\n"
     ]
    },
    {
     "name": "stderr",
     "output_type": "stream",
     "text": [
      "\n",
      "c:\\Users\\hp\\AppData\\Local\\Programs\\Python\\Python39\\lib\\site-packages\\torch\\utils\\data\\dataloader.py:665: UserWarning: 'pin_memory' argument is set as true but no accelerator is found, then device pinned memory won't be used.\n",
      "  warnings.warn(warn_msg)\n"
     ]
    },
    {
     "name": "stdout",
     "output_type": "stream",
     "text": [
      "Plotting labels to runs\\detect\\train\\labels.jpg... \n",
      "\u001b[34m\u001b[1moptimizer:\u001b[0m 'optimizer=auto' found, ignoring 'lr0=0.01' and 'momentum=0.937' and determining best 'optimizer', 'lr0' and 'momentum' automatically... \n",
      "\u001b[34m\u001b[1moptimizer:\u001b[0m AdamW(lr=0.000313, momentum=0.9) with parameter groups 81 weight(decay=0.0), 88 weight(decay=0.0005), 87 bias(decay=0.0)\n",
      "Image sizes 640 train, 640 val\n",
      "Using 0 dataloader workers\n",
      "Logging results to \u001b[1mruns\\detect\\train\u001b[0m\n",
      "Starting training for 100 epochs...\n",
      "\n",
      "      Epoch    GPU_mem   box_loss   cls_loss   dfl_loss  Instances       Size\n"
     ]
    },
    {
     "name": "stderr",
     "output_type": "stream",
     "text": [
      "      1/100         0G      1.375      4.566      1.498         44        640: 100%|██████████| 55/55 [17:23<00:00, 18.98s/it] \n",
      "                 Class     Images  Instances      Box(P          R      mAP50  mAP50-95): 100%|██████████| 11/11 [01:52<00:00, 10.19s/it]"
     ]
    },
    {
     "name": "stdout",
     "output_type": "stream",
     "text": [
      "                   all        327       1114      0.066     0.0194     0.0426     0.0389\n"
     ]
    },
    {
     "name": "stderr",
     "output_type": "stream",
     "text": [
      "\n"
     ]
    },
    {
     "name": "stdout",
     "output_type": "stream",
     "text": [
      "\n",
      "      Epoch    GPU_mem   box_loss   cls_loss   dfl_loss  Instances       Size\n"
     ]
    },
    {
     "name": "stderr",
     "output_type": "stream",
     "text": [
      "      2/100         0G      1.353      4.247      1.458         32        640: 100%|██████████| 55/55 [14:10<00:00, 15.47s/it]\n",
      "                 Class     Images  Instances      Box(P          R      mAP50  mAP50-95): 100%|██████████| 11/11 [01:53<00:00, 10.30s/it]"
     ]
    },
    {
     "name": "stdout",
     "output_type": "stream",
     "text": [
      "                   all        327       1114      0.702      0.081      0.125     0.0869\n"
     ]
    },
    {
     "name": "stderr",
     "output_type": "stream",
     "text": [
      "\n"
     ]
    },
    {
     "name": "stdout",
     "output_type": "stream",
     "text": [
      "\n",
      "      Epoch    GPU_mem   box_loss   cls_loss   dfl_loss  Instances       Size\n"
     ]
    },
    {
     "name": "stderr",
     "output_type": "stream",
     "text": [
      "      3/100         0G      1.407      3.916      1.508         37        640: 100%|██████████| 55/55 [14:59<00:00, 16.36s/it]\n",
      "                 Class     Images  Instances      Box(P          R      mAP50  mAP50-95): 100%|██████████| 11/11 [01:40<00:00,  9.13s/it]"
     ]
    },
    {
     "name": "stdout",
     "output_type": "stream",
     "text": [
      "                   all        327       1114      0.477      0.151      0.186      0.135\n"
     ]
    },
    {
     "name": "stderr",
     "output_type": "stream",
     "text": [
      "\n"
     ]
    },
    {
     "name": "stdout",
     "output_type": "stream",
     "text": [
      "\n",
      "      Epoch    GPU_mem   box_loss   cls_loss   dfl_loss  Instances       Size\n"
     ]
    },
    {
     "name": "stderr",
     "output_type": "stream",
     "text": [
      "      4/100         0G      1.455      3.554      1.545         74        640: 100%|██████████| 55/55 [13:45<00:00, 15.02s/it]\n",
      "                 Class     Images  Instances      Box(P          R      mAP50  mAP50-95): 100%|██████████| 11/11 [01:49<00:00,  9.92s/it]"
     ]
    },
    {
     "name": "stdout",
     "output_type": "stream",
     "text": [
      "                   all        327       1114      0.499       0.29      0.295      0.219\n"
     ]
    },
    {
     "name": "stderr",
     "output_type": "stream",
     "text": [
      "\n"
     ]
    },
    {
     "name": "stdout",
     "output_type": "stream",
     "text": [
      "\n",
      "      Epoch    GPU_mem   box_loss   cls_loss   dfl_loss  Instances       Size\n"
     ]
    },
    {
     "name": "stderr",
     "output_type": "stream",
     "text": [
      "      5/100         0G      1.498      3.341      1.576         52        640: 100%|██████████| 55/55 [14:47<00:00, 16.13s/it]\n",
      "                 Class     Images  Instances      Box(P          R      mAP50  mAP50-95): 100%|██████████| 11/11 [01:41<00:00,  9.19s/it]"
     ]
    },
    {
     "name": "stdout",
     "output_type": "stream",
     "text": [
      "                   all        327       1114      0.593      0.307      0.336       0.25\n"
     ]
    },
    {
     "name": "stderr",
     "output_type": "stream",
     "text": [
      "\n"
     ]
    },
    {
     "name": "stdout",
     "output_type": "stream",
     "text": [
      "\n",
      "      Epoch    GPU_mem   box_loss   cls_loss   dfl_loss  Instances       Size\n"
     ]
    },
    {
     "name": "stderr",
     "output_type": "stream",
     "text": [
      "      6/100         0G      1.478      3.175      1.568         25        640: 100%|██████████| 55/55 [14:00<00:00, 15.28s/it]\n",
      "                 Class     Images  Instances      Box(P          R      mAP50  mAP50-95): 100%|██████████| 11/11 [01:47<00:00,  9.74s/it]"
     ]
    },
    {
     "name": "stdout",
     "output_type": "stream",
     "text": [
      "                   all        327       1114      0.536      0.335      0.345      0.257\n"
     ]
    },
    {
     "name": "stderr",
     "output_type": "stream",
     "text": [
      "\n"
     ]
    },
    {
     "name": "stdout",
     "output_type": "stream",
     "text": [
      "\n",
      "      Epoch    GPU_mem   box_loss   cls_loss   dfl_loss  Instances       Size\n"
     ]
    },
    {
     "name": "stderr",
     "output_type": "stream",
     "text": [
      "      7/100         0G      1.427      2.885       1.55         26        640: 100%|██████████| 55/55 [14:12<00:00, 15.50s/it]\n",
      "                 Class     Images  Instances      Box(P          R      mAP50  mAP50-95): 100%|██████████| 11/11 [01:46<00:00,  9.64s/it]"
     ]
    },
    {
     "name": "stdout",
     "output_type": "stream",
     "text": [
      "                   all        327       1114      0.548      0.357      0.363      0.268\n"
     ]
    },
    {
     "name": "stderr",
     "output_type": "stream",
     "text": [
      "\n"
     ]
    },
    {
     "name": "stdout",
     "output_type": "stream",
     "text": [
      "\n",
      "      Epoch    GPU_mem   box_loss   cls_loss   dfl_loss  Instances       Size\n"
     ]
    },
    {
     "name": "stderr",
     "output_type": "stream",
     "text": [
      "      8/100         0G      1.427       2.75      1.533         25        640: 100%|██████████| 55/55 [14:36<00:00, 15.93s/it]\n",
      "                 Class     Images  Instances      Box(P          R      mAP50  mAP50-95): 100%|██████████| 11/11 [01:49<00:00,  9.92s/it]"
     ]
    },
    {
     "name": "stdout",
     "output_type": "stream",
     "text": [
      "                   all        327       1114       0.62      0.387       0.42      0.314\n"
     ]
    },
    {
     "name": "stderr",
     "output_type": "stream",
     "text": [
      "\n"
     ]
    },
    {
     "name": "stdout",
     "output_type": "stream",
     "text": [
      "\n",
      "      Epoch    GPU_mem   box_loss   cls_loss   dfl_loss  Instances       Size\n"
     ]
    },
    {
     "name": "stderr",
     "output_type": "stream",
     "text": [
      "      9/100         0G      1.334      2.534      1.463         36        640: 100%|██████████| 55/55 [14:41<00:00, 16.03s/it]\n",
      "                 Class     Images  Instances      Box(P          R      mAP50  mAP50-95): 100%|██████████| 11/11 [01:43<00:00,  9.44s/it]"
     ]
    },
    {
     "name": "stdout",
     "output_type": "stream",
     "text": [
      "                   all        327       1114      0.733      0.425      0.476       0.36\n"
     ]
    },
    {
     "name": "stderr",
     "output_type": "stream",
     "text": [
      "\n"
     ]
    },
    {
     "name": "stdout",
     "output_type": "stream",
     "text": [
      "\n",
      "      Epoch    GPU_mem   box_loss   cls_loss   dfl_loss  Instances       Size\n"
     ]
    },
    {
     "name": "stderr",
     "output_type": "stream",
     "text": [
      "     10/100         0G      1.383      2.508       1.49         46        640: 100%|██████████| 55/55 [14:49<00:00, 16.17s/it]\n",
      "                 Class     Images  Instances      Box(P          R      mAP50  mAP50-95): 100%|██████████| 11/11 [01:48<00:00,  9.87s/it]"
     ]
    },
    {
     "name": "stdout",
     "output_type": "stream",
     "text": [
      "                   all        327       1114      0.695      0.436      0.483      0.369\n"
     ]
    },
    {
     "name": "stderr",
     "output_type": "stream",
     "text": [
      "\n"
     ]
    },
    {
     "name": "stdout",
     "output_type": "stream",
     "text": [
      "\n",
      "      Epoch    GPU_mem   box_loss   cls_loss   dfl_loss  Instances       Size\n"
     ]
    },
    {
     "name": "stderr",
     "output_type": "stream",
     "text": [
      "     11/100         0G      1.345      2.367      1.461         39        640: 100%|██████████| 55/55 [15:16<00:00, 16.66s/it]\n",
      "                 Class     Images  Instances      Box(P          R      mAP50  mAP50-95): 100%|██████████| 11/11 [01:50<00:00, 10.09s/it]\n"
     ]
    },
    {
     "name": "stdout",
     "output_type": "stream",
     "text": [
      "                   all        327       1114      0.621       0.47      0.497      0.368\n",
      "\n",
      "      Epoch    GPU_mem   box_loss   cls_loss   dfl_loss  Instances       Size\n"
     ]
    },
    {
     "name": "stderr",
     "output_type": "stream",
     "text": [
      "     12/100         0G      1.323      2.343       1.43         28        640: 100%|██████████| 55/55 [14:52<00:00, 16.23s/it]\n",
      "                 Class     Images  Instances      Box(P          R      mAP50  mAP50-95): 100%|██████████| 11/11 [01:52<00:00, 10.26s/it]"
     ]
    },
    {
     "name": "stdout",
     "output_type": "stream",
     "text": [
      "                   all        327       1114      0.691      0.469      0.525      0.395\n"
     ]
    },
    {
     "name": "stderr",
     "output_type": "stream",
     "text": [
      "\n"
     ]
    },
    {
     "name": "stdout",
     "output_type": "stream",
     "text": [
      "\n",
      "      Epoch    GPU_mem   box_loss   cls_loss   dfl_loss  Instances       Size\n"
     ]
    },
    {
     "name": "stderr",
     "output_type": "stream",
     "text": [
      "     13/100         0G      1.273      2.208      1.395         80        640: 100%|██████████| 55/55 [15:18<00:00, 16.71s/it]\n",
      "                 Class     Images  Instances      Box(P          R      mAP50  mAP50-95): 100%|██████████| 11/11 [01:52<00:00, 10.21s/it]"
     ]
    },
    {
     "name": "stdout",
     "output_type": "stream",
     "text": [
      "                   all        327       1114      0.649      0.504      0.533      0.406\n"
     ]
    },
    {
     "name": "stderr",
     "output_type": "stream",
     "text": [
      "\n"
     ]
    },
    {
     "name": "stdout",
     "output_type": "stream",
     "text": [
      "\n",
      "      Epoch    GPU_mem   box_loss   cls_loss   dfl_loss  Instances       Size\n"
     ]
    },
    {
     "name": "stderr",
     "output_type": "stream",
     "text": [
      "     14/100         0G      1.277      2.212      1.401         47        640: 100%|██████████| 55/55 [15:46<00:00, 17.21s/it]\n",
      "                 Class     Images  Instances      Box(P          R      mAP50  mAP50-95): 100%|██████████| 11/11 [01:55<00:00, 10.54s/it]"
     ]
    },
    {
     "name": "stdout",
     "output_type": "stream",
     "text": [
      "                   all        327       1114      0.824      0.481      0.549       0.41\n"
     ]
    },
    {
     "name": "stderr",
     "output_type": "stream",
     "text": [
      "\n"
     ]
    },
    {
     "name": "stdout",
     "output_type": "stream",
     "text": [
      "\n",
      "      Epoch    GPU_mem   box_loss   cls_loss   dfl_loss  Instances       Size\n"
     ]
    },
    {
     "name": "stderr",
     "output_type": "stream",
     "text": [
      "     15/100         0G      1.265      2.109      1.393         50        640: 100%|██████████| 55/55 [14:21<00:00, 15.66s/it]\n",
      "                 Class     Images  Instances      Box(P          R      mAP50  mAP50-95): 100%|██████████| 11/11 [01:38<00:00,  8.98s/it]"
     ]
    },
    {
     "name": "stdout",
     "output_type": "stream",
     "text": [
      "                   all        327       1114      0.737      0.478      0.538        0.4\n"
     ]
    },
    {
     "name": "stderr",
     "output_type": "stream",
     "text": [
      "\n"
     ]
    },
    {
     "name": "stdout",
     "output_type": "stream",
     "text": [
      "\n",
      "      Epoch    GPU_mem   box_loss   cls_loss   dfl_loss  Instances       Size\n"
     ]
    },
    {
     "name": "stderr",
     "output_type": "stream",
     "text": [
      "     16/100         0G      1.245      2.087      1.386         21        640: 100%|██████████| 55/55 [13:11<00:00, 14.39s/it]\n",
      "                 Class     Images  Instances      Box(P          R      mAP50  mAP50-95): 100%|██████████| 11/11 [01:36<00:00,  8.77s/it]"
     ]
    },
    {
     "name": "stdout",
     "output_type": "stream",
     "text": [
      "                   all        327       1114      0.791      0.497       0.56      0.423\n"
     ]
    },
    {
     "name": "stderr",
     "output_type": "stream",
     "text": [
      "\n"
     ]
    },
    {
     "name": "stdout",
     "output_type": "stream",
     "text": [
      "\n",
      "      Epoch    GPU_mem   box_loss   cls_loss   dfl_loss  Instances       Size\n"
     ]
    },
    {
     "name": "stderr",
     "output_type": "stream",
     "text": [
      "     17/100         0G      1.251      2.037      1.381         47        640: 100%|██████████| 55/55 [13:20<00:00, 14.56s/it]\n",
      "                 Class     Images  Instances      Box(P          R      mAP50  mAP50-95): 100%|██████████| 11/11 [01:42<00:00,  9.33s/it]"
     ]
    },
    {
     "name": "stdout",
     "output_type": "stream",
     "text": [
      "                   all        327       1114      0.778      0.496      0.573      0.419\n"
     ]
    },
    {
     "name": "stderr",
     "output_type": "stream",
     "text": [
      "\n"
     ]
    },
    {
     "name": "stdout",
     "output_type": "stream",
     "text": [
      "\n",
      "      Epoch    GPU_mem   box_loss   cls_loss   dfl_loss  Instances       Size\n"
     ]
    },
    {
     "name": "stderr",
     "output_type": "stream",
     "text": [
      "     18/100         0G      1.202      1.927      1.356         54        640: 100%|██████████| 55/55 [13:32<00:00, 14.77s/it]\n",
      "                 Class     Images  Instances      Box(P          R      mAP50  mAP50-95): 100%|██████████| 11/11 [01:39<00:00,  9.09s/it]"
     ]
    },
    {
     "name": "stdout",
     "output_type": "stream",
     "text": [
      "                   all        327       1114      0.713      0.526      0.583      0.443\n"
     ]
    },
    {
     "name": "stderr",
     "output_type": "stream",
     "text": [
      "\n"
     ]
    },
    {
     "name": "stdout",
     "output_type": "stream",
     "text": [
      "\n",
      "      Epoch    GPU_mem   box_loss   cls_loss   dfl_loss  Instances       Size\n"
     ]
    },
    {
     "name": "stderr",
     "output_type": "stream",
     "text": [
      "     19/100         0G      1.233      1.953      1.377         42        640: 100%|██████████| 55/55 [13:54<00:00, 15.18s/it]\n",
      "                 Class     Images  Instances      Box(P          R      mAP50  mAP50-95): 100%|██████████| 11/11 [01:47<00:00,  9.73s/it]"
     ]
    },
    {
     "name": "stdout",
     "output_type": "stream",
     "text": [
      "                   all        327       1114      0.743      0.534      0.597      0.455\n"
     ]
    },
    {
     "name": "stderr",
     "output_type": "stream",
     "text": [
      "\n"
     ]
    },
    {
     "name": "stdout",
     "output_type": "stream",
     "text": [
      "\n",
      "      Epoch    GPU_mem   box_loss   cls_loss   dfl_loss  Instances       Size\n"
     ]
    },
    {
     "name": "stderr",
     "output_type": "stream",
     "text": [
      "     20/100         0G      1.187      1.849      1.347         34        640: 100%|██████████| 55/55 [14:06<00:00, 15.39s/it]\n",
      "                 Class     Images  Instances      Box(P          R      mAP50  mAP50-95): 100%|██████████| 11/11 [01:44<00:00,  9.46s/it]"
     ]
    },
    {
     "name": "stdout",
     "output_type": "stream",
     "text": [
      "                   all        327       1114      0.764      0.549      0.599      0.454\n"
     ]
    },
    {
     "name": "stderr",
     "output_type": "stream",
     "text": [
      "\n"
     ]
    },
    {
     "name": "stdout",
     "output_type": "stream",
     "text": [
      "\n",
      "      Epoch    GPU_mem   box_loss   cls_loss   dfl_loss  Instances       Size\n"
     ]
    },
    {
     "name": "stderr",
     "output_type": "stream",
     "text": [
      "     21/100         0G      1.192       1.86      1.336         30        640: 100%|██████████| 55/55 [14:32<00:00, 15.86s/it]\n",
      "                 Class     Images  Instances      Box(P          R      mAP50  mAP50-95): 100%|██████████| 11/11 [01:46<00:00,  9.66s/it]"
     ]
    },
    {
     "name": "stdout",
     "output_type": "stream",
     "text": [
      "                   all        327       1114      0.687      0.548      0.582      0.441\n"
     ]
    },
    {
     "name": "stderr",
     "output_type": "stream",
     "text": [
      "\n"
     ]
    },
    {
     "name": "stdout",
     "output_type": "stream",
     "text": [
      "\n",
      "      Epoch    GPU_mem   box_loss   cls_loss   dfl_loss  Instances       Size\n"
     ]
    },
    {
     "name": "stderr",
     "output_type": "stream",
     "text": [
      "     22/100         0G      1.192       1.83      1.339         50        640: 100%|██████████| 55/55 [14:45<00:00, 16.11s/it]\n",
      "                 Class     Images  Instances      Box(P          R      mAP50  mAP50-95): 100%|██████████| 11/11 [01:51<00:00, 10.13s/it]"
     ]
    },
    {
     "name": "stdout",
     "output_type": "stream",
     "text": [
      "                   all        327       1114      0.771       0.54      0.603      0.453\n"
     ]
    },
    {
     "name": "stderr",
     "output_type": "stream",
     "text": [
      "\n"
     ]
    },
    {
     "name": "stdout",
     "output_type": "stream",
     "text": [
      "\n",
      "      Epoch    GPU_mem   box_loss   cls_loss   dfl_loss  Instances       Size\n"
     ]
    },
    {
     "name": "stderr",
     "output_type": "stream",
     "text": [
      "     23/100         0G      1.198      1.814      1.339         71        640: 100%|██████████| 55/55 [14:58<00:00, 16.33s/it]\n",
      "                 Class     Images  Instances      Box(P          R      mAP50  mAP50-95): 100%|██████████| 11/11 [01:49<00:00, 10.00s/it]"
     ]
    },
    {
     "name": "stdout",
     "output_type": "stream",
     "text": [
      "                   all        327       1114      0.752      0.558       0.61      0.461\n"
     ]
    },
    {
     "name": "stderr",
     "output_type": "stream",
     "text": [
      "\n"
     ]
    },
    {
     "name": "stdout",
     "output_type": "stream",
     "text": [
      "\n",
      "      Epoch    GPU_mem   box_loss   cls_loss   dfl_loss  Instances       Size\n"
     ]
    },
    {
     "name": "stderr",
     "output_type": "stream",
     "text": [
      "     24/100         0G       1.15      1.753      1.309         42        640: 100%|██████████| 55/55 [15:28<00:00, 16.88s/it]\n",
      "                 Class     Images  Instances      Box(P          R      mAP50  mAP50-95): 100%|██████████| 11/11 [01:52<00:00, 10.23s/it]"
     ]
    },
    {
     "name": "stdout",
     "output_type": "stream",
     "text": [
      "                   all        327       1114       0.73      0.597      0.624      0.474\n"
     ]
    },
    {
     "name": "stderr",
     "output_type": "stream",
     "text": [
      "\n"
     ]
    },
    {
     "name": "stdout",
     "output_type": "stream",
     "text": [
      "\n",
      "      Epoch    GPU_mem   box_loss   cls_loss   dfl_loss  Instances       Size\n"
     ]
    },
    {
     "name": "stderr",
     "output_type": "stream",
     "text": [
      "     25/100         0G      1.145      1.712      1.302         35        640: 100%|██████████| 55/55 [15:42<00:00, 17.14s/it]\n",
      "                 Class     Images  Instances      Box(P          R      mAP50  mAP50-95): 100%|██████████| 11/11 [01:37<00:00,  8.82s/it]"
     ]
    },
    {
     "name": "stdout",
     "output_type": "stream",
     "text": [
      "                   all        327       1114      0.744      0.583      0.625      0.476\n"
     ]
    },
    {
     "name": "stderr",
     "output_type": "stream",
     "text": [
      "\n"
     ]
    },
    {
     "name": "stdout",
     "output_type": "stream",
     "text": [
      "\n",
      "      Epoch    GPU_mem   box_loss   cls_loss   dfl_loss  Instances       Size\n"
     ]
    },
    {
     "name": "stderr",
     "output_type": "stream",
     "text": [
      "     26/100         0G      1.125      1.694      1.291         39        640: 100%|██████████| 55/55 [13:16<00:00, 14.48s/it]\n",
      "                 Class     Images  Instances      Box(P          R      mAP50  mAP50-95): 100%|██████████| 11/11 [01:36<00:00,  8.80s/it]"
     ]
    },
    {
     "name": "stdout",
     "output_type": "stream",
     "text": [
      "                   all        327       1114      0.762      0.565      0.629      0.472\n"
     ]
    },
    {
     "name": "stderr",
     "output_type": "stream",
     "text": [
      "\n"
     ]
    },
    {
     "name": "stdout",
     "output_type": "stream",
     "text": [
      "\n",
      "      Epoch    GPU_mem   box_loss   cls_loss   dfl_loss  Instances       Size\n"
     ]
    },
    {
     "name": "stderr",
     "output_type": "stream",
     "text": [
      "     27/100         0G       1.14      1.684      1.302         24        640: 100%|██████████| 55/55 [13:09<00:00, 14.36s/it]\n",
      "                 Class     Images  Instances      Box(P          R      mAP50  mAP50-95): 100%|██████████| 11/11 [01:40<00:00,  9.11s/it]"
     ]
    },
    {
     "name": "stdout",
     "output_type": "stream",
     "text": [
      "                   all        327       1114      0.774      0.563      0.631      0.477\n"
     ]
    },
    {
     "name": "stderr",
     "output_type": "stream",
     "text": [
      "\n"
     ]
    },
    {
     "name": "stdout",
     "output_type": "stream",
     "text": [
      "\n",
      "      Epoch    GPU_mem   box_loss   cls_loss   dfl_loss  Instances       Size\n"
     ]
    },
    {
     "name": "stderr",
     "output_type": "stream",
     "text": [
      "     28/100         0G      1.104      1.636      1.272         44        640: 100%|██████████| 55/55 [13:29<00:00, 14.72s/it]\n",
      "                 Class     Images  Instances      Box(P          R      mAP50  mAP50-95): 100%|██████████| 11/11 [01:39<00:00,  9.05s/it]"
     ]
    },
    {
     "name": "stdout",
     "output_type": "stream",
     "text": [
      "                   all        327       1114      0.787      0.597      0.639      0.484\n"
     ]
    },
    {
     "name": "stderr",
     "output_type": "stream",
     "text": [
      "\n"
     ]
    },
    {
     "name": "stdout",
     "output_type": "stream",
     "text": [
      "\n",
      "      Epoch    GPU_mem   box_loss   cls_loss   dfl_loss  Instances       Size\n"
     ]
    },
    {
     "name": "stderr",
     "output_type": "stream",
     "text": [
      "     29/100         0G      1.102      1.634      1.276         54        640: 100%|██████████| 55/55 [13:40<00:00, 14.92s/it]\n",
      "                 Class     Images  Instances      Box(P          R      mAP50  mAP50-95): 100%|██████████| 11/11 [01:41<00:00,  9.27s/it]"
     ]
    },
    {
     "name": "stdout",
     "output_type": "stream",
     "text": [
      "                   all        327       1114       0.79      0.577      0.639      0.482\n"
     ]
    },
    {
     "name": "stderr",
     "output_type": "stream",
     "text": [
      "\n"
     ]
    },
    {
     "name": "stdout",
     "output_type": "stream",
     "text": [
      "\n",
      "      Epoch    GPU_mem   box_loss   cls_loss   dfl_loss  Instances       Size\n"
     ]
    },
    {
     "name": "stderr",
     "output_type": "stream",
     "text": [
      "     30/100         0G      1.086      1.573      1.262         22        640: 100%|██████████| 55/55 [14:01<00:00, 15.31s/it]\n",
      "                 Class     Images  Instances      Box(P          R      mAP50  mAP50-95): 100%|██████████| 11/11 [01:44<00:00,  9.46s/it]"
     ]
    },
    {
     "name": "stdout",
     "output_type": "stream",
     "text": [
      "                   all        327       1114      0.829      0.575      0.642      0.485\n"
     ]
    },
    {
     "name": "stderr",
     "output_type": "stream",
     "text": [
      "\n"
     ]
    },
    {
     "name": "stdout",
     "output_type": "stream",
     "text": [
      "\n",
      "      Epoch    GPU_mem   box_loss   cls_loss   dfl_loss  Instances       Size\n"
     ]
    },
    {
     "name": "stderr",
     "output_type": "stream",
     "text": [
      "     31/100         0G      1.093      1.547       1.25         41        640: 100%|██████████| 55/55 [14:19<00:00, 15.62s/it]\n",
      "                 Class     Images  Instances      Box(P          R      mAP50  mAP50-95): 100%|██████████| 11/11 [01:46<00:00,  9.64s/it]"
     ]
    },
    {
     "name": "stdout",
     "output_type": "stream",
     "text": [
      "                   all        327       1114      0.783      0.587      0.652      0.494\n"
     ]
    },
    {
     "name": "stderr",
     "output_type": "stream",
     "text": [
      "\n"
     ]
    },
    {
     "name": "stdout",
     "output_type": "stream",
     "text": [
      "\n",
      "      Epoch    GPU_mem   box_loss   cls_loss   dfl_loss  Instances       Size\n"
     ]
    },
    {
     "name": "stderr",
     "output_type": "stream",
     "text": [
      "     32/100         0G      1.077      1.544      1.251         49        640: 100%|██████████| 55/55 [14:30<00:00, 15.83s/it]\n",
      "                 Class     Images  Instances      Box(P          R      mAP50  mAP50-95): 100%|██████████| 11/11 [01:50<00:00, 10.04s/it]"
     ]
    },
    {
     "name": "stdout",
     "output_type": "stream",
     "text": [
      "                   all        327       1114      0.782      0.595      0.645      0.493\n"
     ]
    },
    {
     "name": "stderr",
     "output_type": "stream",
     "text": [
      "\n"
     ]
    },
    {
     "name": "stdout",
     "output_type": "stream",
     "text": [
      "\n",
      "      Epoch    GPU_mem   box_loss   cls_loss   dfl_loss  Instances       Size\n"
     ]
    },
    {
     "name": "stderr",
     "output_type": "stream",
     "text": [
      "     33/100         0G      1.084      1.506      1.256         41        640: 100%|██████████| 55/55 [14:59<00:00, 16.36s/it]\n",
      "                 Class     Images  Instances      Box(P          R      mAP50  mAP50-95): 100%|██████████| 11/11 [01:48<00:00,  9.89s/it]"
     ]
    },
    {
     "name": "stdout",
     "output_type": "stream",
     "text": [
      "                   all        327       1114      0.767      0.576       0.64      0.484\n"
     ]
    },
    {
     "name": "stderr",
     "output_type": "stream",
     "text": [
      "\n"
     ]
    },
    {
     "name": "stdout",
     "output_type": "stream",
     "text": [
      "\n",
      "      Epoch    GPU_mem   box_loss   cls_loss   dfl_loss  Instances       Size\n"
     ]
    },
    {
     "name": "stderr",
     "output_type": "stream",
     "text": [
      "     34/100         0G      1.082      1.541      1.271         49        640: 100%|██████████| 55/55 [14:43<00:00, 16.06s/it]\n",
      "                 Class     Images  Instances      Box(P          R      mAP50  mAP50-95): 100%|██████████| 11/11 [01:49<00:00,  9.95s/it]"
     ]
    },
    {
     "name": "stdout",
     "output_type": "stream",
     "text": [
      "                   all        327       1114      0.808      0.589      0.659      0.509\n"
     ]
    },
    {
     "name": "stderr",
     "output_type": "stream",
     "text": [
      "\n"
     ]
    },
    {
     "name": "stdout",
     "output_type": "stream",
     "text": [
      "\n",
      "      Epoch    GPU_mem   box_loss   cls_loss   dfl_loss  Instances       Size\n"
     ]
    },
    {
     "name": "stderr",
     "output_type": "stream",
     "text": [
      "     35/100         0G      1.093      1.532      1.259         43        640: 100%|██████████| 55/55 [15:12<00:00, 16.60s/it]\n",
      "                 Class     Images  Instances      Box(P          R      mAP50  mAP50-95): 100%|██████████| 11/11 [01:55<00:00, 10.54s/it]"
     ]
    },
    {
     "name": "stdout",
     "output_type": "stream",
     "text": [
      "                   all        327       1114      0.817       0.59      0.668       0.51\n"
     ]
    },
    {
     "name": "stderr",
     "output_type": "stream",
     "text": [
      "\n"
     ]
    },
    {
     "name": "stdout",
     "output_type": "stream",
     "text": [
      "\n",
      "      Epoch    GPU_mem   box_loss   cls_loss   dfl_loss  Instances       Size\n"
     ]
    },
    {
     "name": "stderr",
     "output_type": "stream",
     "text": [
      "     36/100         0G      1.094      1.505      1.261         58        640: 100%|██████████| 55/55 [16:12<00:00, 17.68s/it]\n",
      "                 Class     Images  Instances      Box(P          R      mAP50  mAP50-95): 100%|██████████| 11/11 [01:55<00:00, 10.51s/it]"
     ]
    },
    {
     "name": "stdout",
     "output_type": "stream",
     "text": [
      "                   all        327       1114      0.811      0.595      0.665      0.507\n"
     ]
    },
    {
     "name": "stderr",
     "output_type": "stream",
     "text": [
      "\n"
     ]
    },
    {
     "name": "stdout",
     "output_type": "stream",
     "text": [
      "\n",
      "      Epoch    GPU_mem   box_loss   cls_loss   dfl_loss  Instances       Size\n"
     ]
    },
    {
     "name": "stderr",
     "output_type": "stream",
     "text": [
      "     37/100         0G      1.074      1.482       1.25         30        640: 100%|██████████| 55/55 [14:26<00:00, 15.76s/it]\n",
      "                 Class     Images  Instances      Box(P          R      mAP50  mAP50-95): 100%|██████████| 11/11 [01:37<00:00,  8.83s/it]"
     ]
    },
    {
     "name": "stdout",
     "output_type": "stream",
     "text": [
      "                   all        327       1114       0.83      0.595      0.669      0.519\n"
     ]
    },
    {
     "name": "stderr",
     "output_type": "stream",
     "text": [
      "\n"
     ]
    },
    {
     "name": "stdout",
     "output_type": "stream",
     "text": [
      "\n",
      "      Epoch    GPU_mem   box_loss   cls_loss   dfl_loss  Instances       Size\n"
     ]
    },
    {
     "name": "stderr",
     "output_type": "stream",
     "text": [
      "     38/100         0G      1.044      1.416      1.228         54        640: 100%|██████████| 55/55 [13:13<00:00, 14.43s/it]\n",
      "                 Class     Images  Instances      Box(P          R      mAP50  mAP50-95): 100%|██████████| 11/11 [01:40<00:00,  9.10s/it]"
     ]
    },
    {
     "name": "stdout",
     "output_type": "stream",
     "text": [
      "                   all        327       1114      0.785      0.609      0.661      0.513\n"
     ]
    },
    {
     "name": "stderr",
     "output_type": "stream",
     "text": [
      "\n"
     ]
    },
    {
     "name": "stdout",
     "output_type": "stream",
     "text": [
      "\n",
      "      Epoch    GPU_mem   box_loss   cls_loss   dfl_loss  Instances       Size\n"
     ]
    },
    {
     "name": "stderr",
     "output_type": "stream",
     "text": [
      "     39/100         0G      1.058      1.434      1.236         39        640: 100%|██████████| 55/55 [13:12<00:00, 14.41s/it]\n",
      "                 Class     Images  Instances      Box(P          R      mAP50  mAP50-95): 100%|██████████| 11/11 [01:41<00:00,  9.19s/it]"
     ]
    },
    {
     "name": "stdout",
     "output_type": "stream",
     "text": [
      "                   all        327       1114      0.812      0.603      0.665      0.516\n"
     ]
    },
    {
     "name": "stderr",
     "output_type": "stream",
     "text": [
      "\n"
     ]
    },
    {
     "name": "stdout",
     "output_type": "stream",
     "text": [
      "\n",
      "      Epoch    GPU_mem   box_loss   cls_loss   dfl_loss  Instances       Size\n"
     ]
    },
    {
     "name": "stderr",
     "output_type": "stream",
     "text": [
      "     40/100         0G      1.054      1.398      1.235         37        640: 100%|██████████| 55/55 [13:27<00:00, 14.68s/it]\n",
      "                 Class     Images  Instances      Box(P          R      mAP50  mAP50-95): 100%|██████████| 11/11 [01:46<00:00,  9.65s/it]"
     ]
    },
    {
     "name": "stdout",
     "output_type": "stream",
     "text": [
      "                   all        327       1114      0.805      0.589      0.658      0.508\n"
     ]
    },
    {
     "name": "stderr",
     "output_type": "stream",
     "text": [
      "\n"
     ]
    },
    {
     "name": "stdout",
     "output_type": "stream",
     "text": [
      "\n",
      "      Epoch    GPU_mem   box_loss   cls_loss   dfl_loss  Instances       Size\n"
     ]
    },
    {
     "name": "stderr",
     "output_type": "stream",
     "text": [
      "     41/100         0G      1.017      1.374       1.21         36        640: 100%|██████████| 55/55 [13:56<00:00, 15.21s/it]\n",
      "                 Class     Images  Instances      Box(P          R      mAP50  mAP50-95): 100%|██████████| 11/11 [01:43<00:00,  9.45s/it]"
     ]
    },
    {
     "name": "stdout",
     "output_type": "stream",
     "text": [
      "                   all        327       1114      0.806      0.613      0.672      0.521\n"
     ]
    },
    {
     "name": "stderr",
     "output_type": "stream",
     "text": [
      "\n"
     ]
    },
    {
     "name": "stdout",
     "output_type": "stream",
     "text": [
      "\n",
      "      Epoch    GPU_mem   box_loss   cls_loss   dfl_loss  Instances       Size\n"
     ]
    },
    {
     "name": "stderr",
     "output_type": "stream",
     "text": [
      "     42/100         0G       1.03      1.375      1.224         30        640: 100%|██████████| 55/55 [14:08<00:00, 15.42s/it]\n",
      "                 Class     Images  Instances      Box(P          R      mAP50  mAP50-95): 100%|██████████| 11/11 [01:47<00:00,  9.77s/it]"
     ]
    },
    {
     "name": "stdout",
     "output_type": "stream",
     "text": [
      "                   all        327       1114       0.86      0.588      0.677      0.518\n"
     ]
    },
    {
     "name": "stderr",
     "output_type": "stream",
     "text": [
      "\n"
     ]
    },
    {
     "name": "stdout",
     "output_type": "stream",
     "text": [
      "\n",
      "      Epoch    GPU_mem   box_loss   cls_loss   dfl_loss  Instances       Size\n"
     ]
    },
    {
     "name": "stderr",
     "output_type": "stream",
     "text": [
      "     43/100         0G          1      1.359      1.207         42        640: 100%|██████████| 55/55 [14:27<00:00, 15.77s/it]\n",
      "                 Class     Images  Instances      Box(P          R      mAP50  mAP50-95): 100%|██████████| 11/11 [01:48<00:00,  9.86s/it]"
     ]
    },
    {
     "name": "stdout",
     "output_type": "stream",
     "text": [
      "                   all        327       1114      0.847      0.626      0.692      0.529\n"
     ]
    },
    {
     "name": "stderr",
     "output_type": "stream",
     "text": [
      "\n"
     ]
    },
    {
     "name": "stdout",
     "output_type": "stream",
     "text": [
      "\n",
      "      Epoch    GPU_mem   box_loss   cls_loss   dfl_loss  Instances       Size\n"
     ]
    },
    {
     "name": "stderr",
     "output_type": "stream",
     "text": [
      "     44/100         0G     0.9828      1.328      1.196         29        640: 100%|██████████| 55/55 [14:42<00:00, 16.04s/it]\n",
      "                 Class     Images  Instances      Box(P          R      mAP50  mAP50-95): 100%|██████████| 11/11 [01:51<00:00, 10.13s/it]"
     ]
    },
    {
     "name": "stdout",
     "output_type": "stream",
     "text": [
      "                   all        327       1114      0.828      0.614       0.68      0.523\n"
     ]
    },
    {
     "name": "stderr",
     "output_type": "stream",
     "text": [
      "\n"
     ]
    },
    {
     "name": "stdout",
     "output_type": "stream",
     "text": [
      "\n",
      "      Epoch    GPU_mem   box_loss   cls_loss   dfl_loss  Instances       Size\n"
     ]
    },
    {
     "name": "stderr",
     "output_type": "stream",
     "text": [
      "     45/100         0G      1.003        1.3      1.201         54        640: 100%|██████████| 55/55 [15:01<00:00, 16.39s/it]\n",
      "                 Class     Images  Instances      Box(P          R      mAP50  mAP50-95): 100%|██████████| 11/11 [01:54<00:00, 10.44s/it]"
     ]
    },
    {
     "name": "stdout",
     "output_type": "stream",
     "text": [
      "                   all        327       1114      0.813      0.621      0.677      0.527\n"
     ]
    },
    {
     "name": "stderr",
     "output_type": "stream",
     "text": [
      "\n"
     ]
    },
    {
     "name": "stdout",
     "output_type": "stream",
     "text": [
      "\n",
      "      Epoch    GPU_mem   box_loss   cls_loss   dfl_loss  Instances       Size\n"
     ]
    },
    {
     "name": "stderr",
     "output_type": "stream",
     "text": [
      "     46/100         0G      1.007      1.313      1.203         48        640: 100%|██████████| 55/55 [14:59<00:00, 16.35s/it]\n",
      "                 Class     Images  Instances      Box(P          R      mAP50  mAP50-95): 100%|██████████| 11/11 [01:46<00:00,  9.70s/it]"
     ]
    },
    {
     "name": "stdout",
     "output_type": "stream",
     "text": [
      "                   all        327       1114      0.852       0.61      0.687      0.538\n"
     ]
    },
    {
     "name": "stderr",
     "output_type": "stream",
     "text": [
      "\n"
     ]
    },
    {
     "name": "stdout",
     "output_type": "stream",
     "text": [
      "\n",
      "      Epoch    GPU_mem   box_loss   cls_loss   dfl_loss  Instances       Size\n"
     ]
    },
    {
     "name": "stderr",
     "output_type": "stream",
     "text": [
      "     47/100         0G       0.97      1.285      1.187         23        640: 100%|██████████| 55/55 [14:47<00:00, 16.14s/it]\n",
      "                 Class     Images  Instances      Box(P          R      mAP50  mAP50-95): 100%|██████████| 11/11 [01:52<00:00, 10.19s/it]"
     ]
    },
    {
     "name": "stdout",
     "output_type": "stream",
     "text": [
      "                   all        327       1114      0.844       0.61      0.678      0.533\n"
     ]
    },
    {
     "name": "stderr",
     "output_type": "stream",
     "text": [
      "\n"
     ]
    },
    {
     "name": "stdout",
     "output_type": "stream",
     "text": [
      "\n",
      "      Epoch    GPU_mem   box_loss   cls_loss   dfl_loss  Instances       Size\n"
     ]
    },
    {
     "name": "stderr",
     "output_type": "stream",
     "text": [
      "     48/100         0G     0.9995      1.295      1.211         53        640: 100%|██████████| 55/55 [15:09<00:00, 16.53s/it]\n",
      "                 Class     Images  Instances      Box(P          R      mAP50  mAP50-95): 100%|██████████| 11/11 [01:35<00:00,  8.68s/it]"
     ]
    },
    {
     "name": "stdout",
     "output_type": "stream",
     "text": [
      "                   all        327       1114      0.829       0.64       0.69      0.541\n"
     ]
    },
    {
     "name": "stderr",
     "output_type": "stream",
     "text": [
      "\n"
     ]
    },
    {
     "name": "stdout",
     "output_type": "stream",
     "text": [
      "\n",
      "      Epoch    GPU_mem   box_loss   cls_loss   dfl_loss  Instances       Size\n"
     ]
    },
    {
     "name": "stderr",
     "output_type": "stream",
     "text": [
      "     49/100         0G     0.9832      1.281      1.182         29        640: 100%|██████████| 55/55 [13:15<00:00, 14.46s/it]\n",
      "                 Class     Images  Instances      Box(P          R      mAP50  mAP50-95): 100%|██████████| 11/11 [01:35<00:00,  8.66s/it]"
     ]
    },
    {
     "name": "stdout",
     "output_type": "stream",
     "text": [
      "                   all        327       1114      0.822      0.642      0.694      0.545\n"
     ]
    },
    {
     "name": "stderr",
     "output_type": "stream",
     "text": [
      "\n"
     ]
    },
    {
     "name": "stdout",
     "output_type": "stream",
     "text": [
      "\n",
      "      Epoch    GPU_mem   box_loss   cls_loss   dfl_loss  Instances       Size\n"
     ]
    },
    {
     "name": "stderr",
     "output_type": "stream",
     "text": [
      "     50/100         0G     0.9903      1.289      1.191         43        640: 100%|██████████| 55/55 [13:24<00:00, 14.62s/it]\n",
      "                 Class     Images  Instances      Box(P          R      mAP50  mAP50-95): 100%|██████████| 11/11 [01:39<00:00,  9.03s/it]"
     ]
    },
    {
     "name": "stdout",
     "output_type": "stream",
     "text": [
      "                   all        327       1114      0.832       0.62      0.683      0.526\n"
     ]
    },
    {
     "name": "stderr",
     "output_type": "stream",
     "text": [
      "\n"
     ]
    },
    {
     "name": "stdout",
     "output_type": "stream",
     "text": [
      "\n",
      "      Epoch    GPU_mem   box_loss   cls_loss   dfl_loss  Instances       Size\n"
     ]
    },
    {
     "name": "stderr",
     "output_type": "stream",
     "text": [
      "     51/100         0G      1.007      1.285      1.208         27        640: 100%|██████████| 55/55 [13:35<00:00, 14.83s/it]\n",
      "                 Class     Images  Instances      Box(P          R      mAP50  mAP50-95): 100%|██████████| 11/11 [01:39<00:00,  9.02s/it]"
     ]
    },
    {
     "name": "stdout",
     "output_type": "stream",
     "text": [
      "                   all        327       1114      0.821      0.645      0.694      0.542\n"
     ]
    },
    {
     "name": "stderr",
     "output_type": "stream",
     "text": [
      "\n"
     ]
    },
    {
     "name": "stdout",
     "output_type": "stream",
     "text": [
      "\n",
      "      Epoch    GPU_mem   box_loss   cls_loss   dfl_loss  Instances       Size\n"
     ]
    },
    {
     "name": "stderr",
     "output_type": "stream",
     "text": [
      "     52/100         0G     0.9501      1.226      1.178         40        640: 100%|██████████| 55/55 [14:00<00:00, 15.28s/it]\n",
      "                 Class     Images  Instances      Box(P          R      mAP50  mAP50-95): 100%|██████████| 11/11 [01:41<00:00,  9.27s/it]"
     ]
    },
    {
     "name": "stdout",
     "output_type": "stream",
     "text": [
      "                   all        327       1114      0.853      0.642      0.701      0.544\n"
     ]
    },
    {
     "name": "stderr",
     "output_type": "stream",
     "text": [
      "\n"
     ]
    },
    {
     "name": "stdout",
     "output_type": "stream",
     "text": [
      "\n",
      "      Epoch    GPU_mem   box_loss   cls_loss   dfl_loss  Instances       Size\n"
     ]
    },
    {
     "name": "stderr",
     "output_type": "stream",
     "text": [
      "     53/100         0G     0.9546      1.238      1.175         30        640: 100%|██████████| 55/55 [14:11<00:00, 15.48s/it]\n",
      "                 Class     Images  Instances      Box(P          R      mAP50  mAP50-95): 100%|██████████| 11/11 [01:44<00:00,  9.51s/it]"
     ]
    },
    {
     "name": "stdout",
     "output_type": "stream",
     "text": [
      "                   all        327       1114      0.851      0.635      0.703      0.553\n"
     ]
    },
    {
     "name": "stderr",
     "output_type": "stream",
     "text": [
      "\n"
     ]
    },
    {
     "name": "stdout",
     "output_type": "stream",
     "text": [
      "\n",
      "      Epoch    GPU_mem   box_loss   cls_loss   dfl_loss  Instances       Size\n"
     ]
    },
    {
     "name": "stderr",
     "output_type": "stream",
     "text": [
      "     54/100         0G     0.9219      1.199      1.165         53        640: 100%|██████████| 55/55 [14:31<00:00, 15.85s/it]\n",
      "                 Class     Images  Instances      Box(P          R      mAP50  mAP50-95): 100%|██████████| 11/11 [01:45<00:00,  9.60s/it]"
     ]
    },
    {
     "name": "stdout",
     "output_type": "stream",
     "text": [
      "                   all        327       1114      0.838      0.639      0.699      0.549\n"
     ]
    },
    {
     "name": "stderr",
     "output_type": "stream",
     "text": [
      "\n"
     ]
    },
    {
     "name": "stdout",
     "output_type": "stream",
     "text": [
      "\n",
      "      Epoch    GPU_mem   box_loss   cls_loss   dfl_loss  Instances       Size\n"
     ]
    },
    {
     "name": "stderr",
     "output_type": "stream",
     "text": [
      "     55/100         0G     0.9682      1.226      1.168         99        640: 100%|██████████| 55/55 [14:45<00:00, 16.09s/it]\n",
      "                 Class     Images  Instances      Box(P          R      mAP50  mAP50-95): 100%|██████████| 11/11 [01:49<00:00,  9.96s/it]"
     ]
    },
    {
     "name": "stdout",
     "output_type": "stream",
     "text": [
      "                   all        327       1114      0.798       0.64      0.696      0.542\n"
     ]
    },
    {
     "name": "stderr",
     "output_type": "stream",
     "text": [
      "\n"
     ]
    },
    {
     "name": "stdout",
     "output_type": "stream",
     "text": [
      "\n",
      "      Epoch    GPU_mem   box_loss   cls_loss   dfl_loss  Instances       Size\n"
     ]
    },
    {
     "name": "stderr",
     "output_type": "stream",
     "text": [
      "     56/100         0G     0.9081      1.178      1.159         53        640: 100%|██████████| 55/55 [15:18<00:00, 16.70s/it]\n",
      "                 Class     Images  Instances      Box(P          R      mAP50  mAP50-95): 100%|██████████| 11/11 [01:51<00:00, 10.18s/it]\n"
     ]
    },
    {
     "name": "stdout",
     "output_type": "stream",
     "text": [
      "                   all        327       1114      0.851      0.652      0.709      0.558\n",
      "\n",
      "      Epoch    GPU_mem   box_loss   cls_loss   dfl_loss  Instances       Size\n"
     ]
    },
    {
     "name": "stderr",
     "output_type": "stream",
     "text": [
      "     57/100         0G     0.9529      1.185      1.162         48        640: 100%|██████████| 55/55 [15:22<00:00, 16.77s/it]\n",
      "                 Class     Images  Instances      Box(P          R      mAP50  mAP50-95): 100%|██████████| 11/11 [01:51<00:00, 10.15s/it]"
     ]
    },
    {
     "name": "stdout",
     "output_type": "stream",
     "text": [
      "                   all        327       1114      0.861      0.634      0.701      0.546\n"
     ]
    },
    {
     "name": "stderr",
     "output_type": "stream",
     "text": [
      "\n"
     ]
    },
    {
     "name": "stdout",
     "output_type": "stream",
     "text": [
      "\n",
      "      Epoch    GPU_mem   box_loss   cls_loss   dfl_loss  Instances       Size\n"
     ]
    },
    {
     "name": "stderr",
     "output_type": "stream",
     "text": [
      "     58/100         0G     0.9377      1.181      1.161         61        640: 100%|██████████| 55/55 [15:43<00:00, 17.15s/it]\n",
      "                 Class     Images  Instances      Box(P          R      mAP50  mAP50-95): 100%|██████████| 11/11 [01:34<00:00,  8.63s/it]"
     ]
    },
    {
     "name": "stdout",
     "output_type": "stream",
     "text": [
      "                   all        327       1114      0.825      0.653       0.71      0.554\n"
     ]
    },
    {
     "name": "stderr",
     "output_type": "stream",
     "text": [
      "\n"
     ]
    },
    {
     "name": "stdout",
     "output_type": "stream",
     "text": [
      "\n",
      "      Epoch    GPU_mem   box_loss   cls_loss   dfl_loss  Instances       Size\n"
     ]
    },
    {
     "name": "stderr",
     "output_type": "stream",
     "text": [
      "     59/100         0G     0.9252      1.173      1.161         54        640: 100%|██████████| 55/55 [13:13<00:00, 14.43s/it]\n",
      "                 Class     Images  Instances      Box(P          R      mAP50  mAP50-95): 100%|██████████| 11/11 [01:34<00:00,  8.62s/it]"
     ]
    },
    {
     "name": "stdout",
     "output_type": "stream",
     "text": [
      "                   all        327       1114      0.812      0.642      0.703      0.558\n"
     ]
    },
    {
     "name": "stderr",
     "output_type": "stream",
     "text": [
      "\n"
     ]
    },
    {
     "name": "stdout",
     "output_type": "stream",
     "text": [
      "\n",
      "      Epoch    GPU_mem   box_loss   cls_loss   dfl_loss  Instances       Size\n"
     ]
    },
    {
     "name": "stderr",
     "output_type": "stream",
     "text": [
      "     60/100         0G     0.9293      1.164      1.159         25        640: 100%|██████████| 55/55 [13:26<00:00, 14.66s/it]\n",
      "                 Class     Images  Instances      Box(P          R      mAP50  mAP50-95): 100%|██████████| 11/11 [01:36<00:00,  8.76s/it]"
     ]
    },
    {
     "name": "stdout",
     "output_type": "stream",
     "text": [
      "                   all        327       1114      0.822      0.663      0.711      0.558\n"
     ]
    },
    {
     "name": "stderr",
     "output_type": "stream",
     "text": [
      "\n"
     ]
    },
    {
     "name": "stdout",
     "output_type": "stream",
     "text": [
      "\n",
      "      Epoch    GPU_mem   box_loss   cls_loss   dfl_loss  Instances       Size\n"
     ]
    },
    {
     "name": "stderr",
     "output_type": "stream",
     "text": [
      "     61/100         0G     0.9296      1.146      1.159         45        640: 100%|██████████| 55/55 [13:35<00:00, 14.82s/it]\n",
      "                 Class     Images  Instances      Box(P          R      mAP50  mAP50-95): 100%|██████████| 11/11 [01:38<00:00,  8.93s/it]"
     ]
    },
    {
     "name": "stdout",
     "output_type": "stream",
     "text": [
      "                   all        327       1114      0.826       0.66      0.708      0.557\n"
     ]
    },
    {
     "name": "stderr",
     "output_type": "stream",
     "text": [
      "\n"
     ]
    },
    {
     "name": "stdout",
     "output_type": "stream",
     "text": [
      "\n",
      "      Epoch    GPU_mem   box_loss   cls_loss   dfl_loss  Instances       Size\n"
     ]
    },
    {
     "name": "stderr",
     "output_type": "stream",
     "text": [
      "     62/100         0G     0.9218      1.149      1.144         34        640: 100%|██████████| 55/55 [13:58<00:00, 15.25s/it]\n",
      "                 Class     Images  Instances      Box(P          R      mAP50  mAP50-95): 100%|██████████| 11/11 [01:41<00:00,  9.21s/it]"
     ]
    },
    {
     "name": "stdout",
     "output_type": "stream",
     "text": [
      "                   all        327       1114      0.872      0.639      0.706      0.557\n"
     ]
    },
    {
     "name": "stderr",
     "output_type": "stream",
     "text": [
      "\n"
     ]
    },
    {
     "name": "stdout",
     "output_type": "stream",
     "text": [
      "\n",
      "      Epoch    GPU_mem   box_loss   cls_loss   dfl_loss  Instances       Size\n"
     ]
    },
    {
     "name": "stderr",
     "output_type": "stream",
     "text": [
      "     63/100         0G     0.9175       1.11      1.135         53        640: 100%|██████████| 55/55 [14:51<00:00, 16.22s/it]\n",
      "                 Class     Images  Instances      Box(P          R      mAP50  mAP50-95): 100%|██████████| 11/11 [01:48<00:00,  9.83s/it]"
     ]
    },
    {
     "name": "stdout",
     "output_type": "stream",
     "text": [
      "                   all        327       1114      0.841      0.651      0.719      0.568\n"
     ]
    },
    {
     "name": "stderr",
     "output_type": "stream",
     "text": [
      "\n"
     ]
    },
    {
     "name": "stdout",
     "output_type": "stream",
     "text": [
      "\n",
      "      Epoch    GPU_mem   box_loss   cls_loss   dfl_loss  Instances       Size\n"
     ]
    },
    {
     "name": "stderr",
     "output_type": "stream",
     "text": [
      "     64/100         0G      0.928      1.146      1.146         37        640: 100%|██████████| 55/55 [14:31<00:00, 15.84s/it]\n",
      "                 Class     Images  Instances      Box(P          R      mAP50  mAP50-95): 100%|██████████| 11/11 [01:44<00:00,  9.48s/it]"
     ]
    },
    {
     "name": "stdout",
     "output_type": "stream",
     "text": [
      "                   all        327       1114      0.848       0.66      0.721      0.565\n"
     ]
    },
    {
     "name": "stderr",
     "output_type": "stream",
     "text": [
      "\n"
     ]
    },
    {
     "name": "stdout",
     "output_type": "stream",
     "text": [
      "\n",
      "      Epoch    GPU_mem   box_loss   cls_loss   dfl_loss  Instances       Size\n"
     ]
    },
    {
     "name": "stderr",
     "output_type": "stream",
     "text": [
      "     65/100         0G     0.9351       1.12      1.145         25        640: 100%|██████████| 55/55 [14:37<00:00, 15.95s/it]\n",
      "                 Class     Images  Instances      Box(P          R      mAP50  mAP50-95): 100%|██████████| 11/11 [01:43<00:00,  9.40s/it]"
     ]
    },
    {
     "name": "stdout",
     "output_type": "stream",
     "text": [
      "                   all        327       1114      0.825      0.682      0.723      0.574\n"
     ]
    },
    {
     "name": "stderr",
     "output_type": "stream",
     "text": [
      "\n"
     ]
    },
    {
     "name": "stdout",
     "output_type": "stream",
     "text": [
      "\n",
      "      Epoch    GPU_mem   box_loss   cls_loss   dfl_loss  Instances       Size\n"
     ]
    },
    {
     "name": "stderr",
     "output_type": "stream",
     "text": [
      "     66/100         0G     0.8966      1.106      1.133         29        640: 100%|██████████| 55/55 [14:30<00:00, 15.83s/it]\n",
      "                 Class     Images  Instances      Box(P          R      mAP50  mAP50-95): 100%|██████████| 11/11 [01:51<00:00, 10.10s/it]"
     ]
    },
    {
     "name": "stdout",
     "output_type": "stream",
     "text": [
      "                   all        327       1114      0.825      0.667      0.717      0.559\n"
     ]
    },
    {
     "name": "stderr",
     "output_type": "stream",
     "text": [
      "\n"
     ]
    },
    {
     "name": "stdout",
     "output_type": "stream",
     "text": [
      "\n",
      "      Epoch    GPU_mem   box_loss   cls_loss   dfl_loss  Instances       Size\n"
     ]
    },
    {
     "name": "stderr",
     "output_type": "stream",
     "text": [
      "     67/100         0G     0.8908      1.101      1.129         35        640: 100%|██████████| 55/55 [15:11<00:00, 16.57s/it]\n",
      "                 Class     Images  Instances      Box(P          R      mAP50  mAP50-95): 100%|██████████| 11/11 [01:50<00:00, 10.03s/it]"
     ]
    },
    {
     "name": "stdout",
     "output_type": "stream",
     "text": [
      "                   all        327       1114      0.842      0.658      0.716      0.571\n"
     ]
    },
    {
     "name": "stderr",
     "output_type": "stream",
     "text": [
      "\n"
     ]
    },
    {
     "name": "stdout",
     "output_type": "stream",
     "text": [
      "\n",
      "      Epoch    GPU_mem   box_loss   cls_loss   dfl_loss  Instances       Size\n"
     ]
    },
    {
     "name": "stderr",
     "output_type": "stream",
     "text": [
      "     68/100         0G     0.8614      1.048      1.121         33        640: 100%|██████████| 55/55 [15:28<00:00, 16.88s/it]\n",
      "                 Class     Images  Instances      Box(P          R      mAP50  mAP50-95): 100%|██████████| 11/11 [01:52<00:00, 10.27s/it]"
     ]
    },
    {
     "name": "stdout",
     "output_type": "stream",
     "text": [
      "                   all        327       1114       0.84      0.664      0.721      0.567\n"
     ]
    },
    {
     "name": "stderr",
     "output_type": "stream",
     "text": [
      "\n"
     ]
    },
    {
     "name": "stdout",
     "output_type": "stream",
     "text": [
      "\n",
      "      Epoch    GPU_mem   box_loss   cls_loss   dfl_loss  Instances       Size\n"
     ]
    },
    {
     "name": "stderr",
     "output_type": "stream",
     "text": [
      "     69/100         0G     0.9033      1.099      1.142         25        640: 100%|██████████| 55/55 [15:36<00:00, 17.02s/it]\n",
      "                 Class     Images  Instances      Box(P          R      mAP50  mAP50-95): 100%|██████████| 11/11 [01:55<00:00, 10.49s/it]"
     ]
    },
    {
     "name": "stdout",
     "output_type": "stream",
     "text": [
      "                   all        327       1114      0.849      0.664      0.719      0.565\n"
     ]
    },
    {
     "name": "stderr",
     "output_type": "stream",
     "text": [
      "\n"
     ]
    },
    {
     "name": "stdout",
     "output_type": "stream",
     "text": [
      "\n",
      "      Epoch    GPU_mem   box_loss   cls_loss   dfl_loss  Instances       Size\n"
     ]
    },
    {
     "name": "stderr",
     "output_type": "stream",
     "text": [
      "     70/100         0G     0.8879      1.067      1.131         34        640: 100%|██████████| 55/55 [13:58<00:00, 15.24s/it]\n",
      "                 Class     Images  Instances      Box(P          R      mAP50  mAP50-95): 100%|██████████| 11/11 [01:36<00:00,  8.75s/it]"
     ]
    },
    {
     "name": "stdout",
     "output_type": "stream",
     "text": [
      "                   all        327       1114      0.845      0.662      0.723      0.576\n"
     ]
    },
    {
     "name": "stderr",
     "output_type": "stream",
     "text": [
      "\n"
     ]
    },
    {
     "name": "stdout",
     "output_type": "stream",
     "text": [
      "\n",
      "      Epoch    GPU_mem   box_loss   cls_loss   dfl_loss  Instances       Size\n"
     ]
    },
    {
     "name": "stderr",
     "output_type": "stream",
     "text": [
      "     71/100         0G     0.8885      1.095      1.138         32        640: 100%|██████████| 55/55 [13:17<00:00, 14.50s/it]\n",
      "                 Class     Images  Instances      Box(P          R      mAP50  mAP50-95): 100%|██████████| 11/11 [01:35<00:00,  8.70s/it]"
     ]
    },
    {
     "name": "stdout",
     "output_type": "stream",
     "text": [
      "                   all        327       1114      0.877      0.649      0.721      0.576\n"
     ]
    },
    {
     "name": "stderr",
     "output_type": "stream",
     "text": [
      "\n"
     ]
    },
    {
     "name": "stdout",
     "output_type": "stream",
     "text": [
      "\n",
      "      Epoch    GPU_mem   box_loss   cls_loss   dfl_loss  Instances       Size\n"
     ]
    },
    {
     "name": "stderr",
     "output_type": "stream",
     "text": [
      "     72/100         0G     0.8713       1.05      1.113         59        640: 100%|██████████| 55/55 [13:30<00:00, 14.73s/it]\n",
      "                 Class     Images  Instances      Box(P          R      mAP50  mAP50-95): 100%|██████████| 11/11 [01:39<00:00,  9.00s/it]"
     ]
    },
    {
     "name": "stdout",
     "output_type": "stream",
     "text": [
      "                   all        327       1114      0.832      0.669      0.714      0.567\n"
     ]
    },
    {
     "name": "stderr",
     "output_type": "stream",
     "text": [
      "\n"
     ]
    },
    {
     "name": "stdout",
     "output_type": "stream",
     "text": [
      "\n",
      "      Epoch    GPU_mem   box_loss   cls_loss   dfl_loss  Instances       Size\n"
     ]
    },
    {
     "name": "stderr",
     "output_type": "stream",
     "text": [
      "     73/100         0G     0.8663      1.059      1.128         41        640: 100%|██████████| 55/55 [13:40<00:00, 14.91s/it]\n",
      "                 Class     Images  Instances      Box(P          R      mAP50  mAP50-95): 100%|██████████| 11/11 [01:41<00:00,  9.20s/it]"
     ]
    },
    {
     "name": "stdout",
     "output_type": "stream",
     "text": [
      "                   all        327       1114      0.826      0.672      0.716       0.57\n"
     ]
    },
    {
     "name": "stderr",
     "output_type": "stream",
     "text": [
      "\n"
     ]
    },
    {
     "name": "stdout",
     "output_type": "stream",
     "text": [
      "\n",
      "      Epoch    GPU_mem   box_loss   cls_loss   dfl_loss  Instances       Size\n"
     ]
    },
    {
     "name": "stderr",
     "output_type": "stream",
     "text": [
      "     74/100         0G     0.8851      1.055      1.127         46        640: 100%|██████████| 55/55 [13:55<00:00, 15.18s/it]\n",
      "                 Class     Images  Instances      Box(P          R      mAP50  mAP50-95): 100%|██████████| 11/11 [01:42<00:00,  9.31s/it]"
     ]
    },
    {
     "name": "stdout",
     "output_type": "stream",
     "text": [
      "                   all        327       1114      0.843      0.676      0.721      0.574\n"
     ]
    },
    {
     "name": "stderr",
     "output_type": "stream",
     "text": [
      "\n"
     ]
    },
    {
     "name": "stdout",
     "output_type": "stream",
     "text": [
      "\n",
      "      Epoch    GPU_mem   box_loss   cls_loss   dfl_loss  Instances       Size\n"
     ]
    },
    {
     "name": "stderr",
     "output_type": "stream",
     "text": [
      "     75/100         0G     0.8566      1.022      1.109         32        640: 100%|██████████| 55/55 [14:16<00:00, 15.58s/it]\n",
      "                 Class     Images  Instances      Box(P          R      mAP50  mAP50-95): 100%|██████████| 11/11 [01:44<00:00,  9.47s/it]"
     ]
    },
    {
     "name": "stdout",
     "output_type": "stream",
     "text": [
      "                   all        327       1114      0.852      0.664      0.723      0.573\n"
     ]
    },
    {
     "name": "stderr",
     "output_type": "stream",
     "text": [
      "\n"
     ]
    },
    {
     "name": "stdout",
     "output_type": "stream",
     "text": [
      "\n",
      "      Epoch    GPU_mem   box_loss   cls_loss   dfl_loss  Instances       Size\n"
     ]
    },
    {
     "name": "stderr",
     "output_type": "stream",
     "text": [
      "     76/100         0G     0.8627      1.016      1.121         40        640: 100%|██████████| 55/55 [14:28<00:00, 15.79s/it]\n",
      "                 Class     Images  Instances      Box(P          R      mAP50  mAP50-95): 100%|██████████| 11/11 [01:49<00:00, 10.00s/it]"
     ]
    },
    {
     "name": "stdout",
     "output_type": "stream",
     "text": [
      "                   all        327       1114      0.819       0.68      0.725      0.578\n"
     ]
    },
    {
     "name": "stderr",
     "output_type": "stream",
     "text": [
      "\n"
     ]
    },
    {
     "name": "stdout",
     "output_type": "stream",
     "text": [
      "\n",
      "      Epoch    GPU_mem   box_loss   cls_loss   dfl_loss  Instances       Size\n"
     ]
    },
    {
     "name": "stderr",
     "output_type": "stream",
     "text": [
      "     77/100         0G     0.8704      1.025      1.116         42        640: 100%|██████████| 55/55 [14:22<00:00, 15.69s/it]\n",
      "                 Class     Images  Instances      Box(P          R      mAP50  mAP50-95): 100%|██████████| 11/11 [01:41<00:00,  9.26s/it]"
     ]
    },
    {
     "name": "stdout",
     "output_type": "stream",
     "text": [
      "                   all        327       1114      0.809      0.684      0.727      0.578\n"
     ]
    },
    {
     "name": "stderr",
     "output_type": "stream",
     "text": [
      "\n"
     ]
    },
    {
     "name": "stdout",
     "output_type": "stream",
     "text": [
      "\n",
      "      Epoch    GPU_mem   box_loss   cls_loss   dfl_loss  Instances       Size\n"
     ]
    },
    {
     "name": "stderr",
     "output_type": "stream",
     "text": [
      "     78/100         0G     0.8532     0.9884      1.104         34        640: 100%|██████████| 55/55 [14:42<00:00, 16.05s/it]\n",
      "                 Class     Images  Instances      Box(P          R      mAP50  mAP50-95): 100%|██████████| 11/11 [01:48<00:00,  9.87s/it]"
     ]
    },
    {
     "name": "stdout",
     "output_type": "stream",
     "text": [
      "                   all        327       1114      0.827      0.662       0.72      0.574\n"
     ]
    },
    {
     "name": "stderr",
     "output_type": "stream",
     "text": [
      "\n"
     ]
    },
    {
     "name": "stdout",
     "output_type": "stream",
     "text": [
      "\n",
      "      Epoch    GPU_mem   box_loss   cls_loss   dfl_loss  Instances       Size\n"
     ]
    },
    {
     "name": "stderr",
     "output_type": "stream",
     "text": [
      "     79/100         0G     0.8584      1.026      1.108         39        640: 100%|██████████| 55/55 [15:13<00:00, 16.61s/it]\n",
      "                 Class     Images  Instances      Box(P          R      mAP50  mAP50-95): 100%|██████████| 11/11 [01:57<00:00, 10.67s/it]"
     ]
    },
    {
     "name": "stdout",
     "output_type": "stream",
     "text": [
      "                   all        327       1114      0.832       0.67      0.719      0.576\n"
     ]
    },
    {
     "name": "stderr",
     "output_type": "stream",
     "text": [
      "\n"
     ]
    },
    {
     "name": "stdout",
     "output_type": "stream",
     "text": [
      "\n",
      "      Epoch    GPU_mem   box_loss   cls_loss   dfl_loss  Instances       Size\n"
     ]
    },
    {
     "name": "stderr",
     "output_type": "stream",
     "text": [
      "     80/100         0G     0.8439      1.015      1.108         37        640: 100%|██████████| 55/55 [14:58<00:00, 16.34s/it]\n",
      "                 Class     Images  Instances      Box(P          R      mAP50  mAP50-95): 100%|██████████| 11/11 [01:52<00:00, 10.23s/it]"
     ]
    },
    {
     "name": "stdout",
     "output_type": "stream",
     "text": [
      "                   all        327       1114      0.832      0.668      0.719      0.572\n"
     ]
    },
    {
     "name": "stderr",
     "output_type": "stream",
     "text": [
      "\n"
     ]
    },
    {
     "name": "stdout",
     "output_type": "stream",
     "text": [
      "\n",
      "      Epoch    GPU_mem   box_loss   cls_loss   dfl_loss  Instances       Size\n"
     ]
    },
    {
     "name": "stderr",
     "output_type": "stream",
     "text": [
      "     81/100         0G     0.8243     0.9729      1.088         38        640: 100%|██████████| 55/55 [13:50<00:00, 15.10s/it]\n",
      "                 Class     Images  Instances      Box(P          R      mAP50  mAP50-95): 100%|██████████| 11/11 [01:34<00:00,  8.63s/it]"
     ]
    },
    {
     "name": "stdout",
     "output_type": "stream",
     "text": [
      "                   all        327       1114      0.833      0.663      0.719      0.579\n"
     ]
    },
    {
     "name": "stderr",
     "output_type": "stream",
     "text": [
      "\n"
     ]
    },
    {
     "name": "stdout",
     "output_type": "stream",
     "text": [
      "\n",
      "      Epoch    GPU_mem   box_loss   cls_loss   dfl_loss  Instances       Size\n"
     ]
    },
    {
     "name": "stderr",
     "output_type": "stream",
     "text": [
      "     82/100         0G     0.8399     0.9721      1.097         50        640: 100%|██████████| 55/55 [13:09<00:00, 14.36s/it]\n",
      "                 Class     Images  Instances      Box(P          R      mAP50  mAP50-95): 100%|██████████| 11/11 [01:34<00:00,  8.61s/it]"
     ]
    },
    {
     "name": "stdout",
     "output_type": "stream",
     "text": [
      "                   all        327       1114      0.818      0.678      0.722       0.58\n"
     ]
    },
    {
     "name": "stderr",
     "output_type": "stream",
     "text": [
      "\n"
     ]
    },
    {
     "name": "stdout",
     "output_type": "stream",
     "text": [
      "\n",
      "      Epoch    GPU_mem   box_loss   cls_loss   dfl_loss  Instances       Size\n"
     ]
    },
    {
     "name": "stderr",
     "output_type": "stream",
     "text": [
      "     83/100         0G     0.8369      1.017      1.106         35        640: 100%|██████████| 55/55 [13:33<00:00, 14.78s/it]\n",
      "                 Class     Images  Instances      Box(P          R      mAP50  mAP50-95): 100%|██████████| 11/11 [01:38<00:00,  8.94s/it]"
     ]
    },
    {
     "name": "stdout",
     "output_type": "stream",
     "text": [
      "                   all        327       1114      0.847      0.667      0.726      0.584\n"
     ]
    },
    {
     "name": "stderr",
     "output_type": "stream",
     "text": [
      "\n"
     ]
    },
    {
     "name": "stdout",
     "output_type": "stream",
     "text": [
      "\n",
      "      Epoch    GPU_mem   box_loss   cls_loss   dfl_loss  Instances       Size\n"
     ]
    },
    {
     "name": "stderr",
     "output_type": "stream",
     "text": [
      "     84/100         0G     0.8296     0.9955      1.097         33        640: 100%|██████████| 55/55 [13:39<00:00, 14.91s/it]\n",
      "                 Class     Images  Instances      Box(P          R      mAP50  mAP50-95): 100%|██████████| 11/11 [01:40<00:00,  9.15s/it]"
     ]
    },
    {
     "name": "stdout",
     "output_type": "stream",
     "text": [
      "                   all        327       1114      0.877       0.66      0.729      0.587\n"
     ]
    },
    {
     "name": "stderr",
     "output_type": "stream",
     "text": [
      "\n"
     ]
    },
    {
     "name": "stdout",
     "output_type": "stream",
     "text": [
      "\n",
      "      Epoch    GPU_mem   box_loss   cls_loss   dfl_loss  Instances       Size\n"
     ]
    },
    {
     "name": "stderr",
     "output_type": "stream",
     "text": [
      "     85/100         0G     0.8256     0.9754      1.098         70        640: 100%|██████████| 55/55 [13:57<00:00, 15.24s/it]\n",
      "                 Class     Images  Instances      Box(P          R      mAP50  mAP50-95): 100%|██████████| 11/11 [01:46<00:00,  9.70s/it]"
     ]
    },
    {
     "name": "stdout",
     "output_type": "stream",
     "text": [
      "                   all        327       1114       0.83      0.681      0.725      0.584\n"
     ]
    },
    {
     "name": "stderr",
     "output_type": "stream",
     "text": [
      "\n"
     ]
    },
    {
     "name": "stdout",
     "output_type": "stream",
     "text": [
      "\n",
      "      Epoch    GPU_mem   box_loss   cls_loss   dfl_loss  Instances       Size\n"
     ]
    },
    {
     "name": "stderr",
     "output_type": "stream",
     "text": [
      "     86/100         0G     0.8138     0.9667        1.1         35        640: 100%|██████████| 55/55 [14:32<00:00, 15.86s/it]\n",
      "                 Class     Images  Instances      Box(P          R      mAP50  mAP50-95): 100%|██████████| 11/11 [01:51<00:00, 10.18s/it]"
     ]
    },
    {
     "name": "stdout",
     "output_type": "stream",
     "text": [
      "                   all        327       1114      0.831      0.677      0.727      0.584\n"
     ]
    },
    {
     "name": "stderr",
     "output_type": "stream",
     "text": [
      "\n"
     ]
    },
    {
     "name": "stdout",
     "output_type": "stream",
     "text": [
      "\n",
      "      Epoch    GPU_mem   box_loss   cls_loss   dfl_loss  Instances       Size\n"
     ]
    },
    {
     "name": "stderr",
     "output_type": "stream",
     "text": [
      "     87/100         0G      0.835     0.9732      1.107         28        640: 100%|██████████| 55/55 [14:05<00:00, 15.38s/it]\n",
      "                 Class     Images  Instances      Box(P          R      mAP50  mAP50-95): 100%|██████████| 11/11 [01:39<00:00,  9.06s/it]"
     ]
    },
    {
     "name": "stdout",
     "output_type": "stream",
     "text": [
      "                   all        327       1114       0.84      0.676       0.73      0.587\n"
     ]
    },
    {
     "name": "stderr",
     "output_type": "stream",
     "text": [
      "\n"
     ]
    },
    {
     "name": "stdout",
     "output_type": "stream",
     "text": [
      "\n",
      "      Epoch    GPU_mem   box_loss   cls_loss   dfl_loss  Instances       Size\n"
     ]
    },
    {
     "name": "stderr",
     "output_type": "stream",
     "text": [
      "     88/100         0G     0.8019     0.9464      1.074         47        640: 100%|██████████| 55/55 [13:28<00:00, 14.70s/it]\n",
      "                 Class     Images  Instances      Box(P          R      mAP50  mAP50-95): 100%|██████████| 11/11 [01:41<00:00,  9.21s/it]"
     ]
    },
    {
     "name": "stdout",
     "output_type": "stream",
     "text": [
      "                   all        327       1114      0.847       0.67       0.73      0.586\n"
     ]
    },
    {
     "name": "stderr",
     "output_type": "stream",
     "text": [
      "\n"
     ]
    },
    {
     "name": "stdout",
     "output_type": "stream",
     "text": [
      "\n",
      "      Epoch    GPU_mem   box_loss   cls_loss   dfl_loss  Instances       Size\n"
     ]
    },
    {
     "name": "stderr",
     "output_type": "stream",
     "text": [
      "     89/100         0G     0.8273     0.9768      1.093         21        640: 100%|██████████| 55/55 [13:57<00:00, 15.22s/it]\n",
      "                 Class     Images  Instances      Box(P          R      mAP50  mAP50-95): 100%|██████████| 11/11 [01:43<00:00,  9.45s/it]"
     ]
    },
    {
     "name": "stdout",
     "output_type": "stream",
     "text": [
      "                   all        327       1114      0.814      0.694      0.732      0.592\n"
     ]
    },
    {
     "name": "stderr",
     "output_type": "stream",
     "text": [
      "\n"
     ]
    },
    {
     "name": "stdout",
     "output_type": "stream",
     "text": [
      "\n",
      "      Epoch    GPU_mem   box_loss   cls_loss   dfl_loss  Instances       Size\n"
     ]
    },
    {
     "name": "stderr",
     "output_type": "stream",
     "text": [
      "     90/100         0G     0.8239     0.9593      1.086         53        640: 100%|██████████| 55/55 [14:04<00:00, 15.35s/it]\n",
      "                 Class     Images  Instances      Box(P          R      mAP50  mAP50-95): 100%|██████████| 11/11 [01:41<00:00,  9.18s/it]"
     ]
    },
    {
     "name": "stdout",
     "output_type": "stream",
     "text": [
      "                   all        327       1114      0.867      0.679      0.735       0.59\n"
     ]
    },
    {
     "name": "stderr",
     "output_type": "stream",
     "text": [
      "\n"
     ]
    },
    {
     "name": "stdout",
     "output_type": "stream",
     "text": [
      "Closing dataloader mosaic\n",
      "\u001b[34m\u001b[1malbumentations: \u001b[0mBlur(p=0.01, blur_limit=(3, 7)), MedianBlur(p=0.01, blur_limit=(3, 7)), ToGray(p=0.01, method='weighted_average', num_output_channels=3), CLAHE(p=0.01, clip_limit=(1.0, 4.0), tile_grid_size=(8, 8))\n",
      "\n",
      "      Epoch    GPU_mem   box_loss   cls_loss   dfl_loss  Instances       Size\n"
     ]
    },
    {
     "name": "stderr",
     "output_type": "stream",
     "text": [
      "c:\\Users\\hp\\AppData\\Local\\Programs\\Python\\Python39\\lib\\site-packages\\torch\\utils\\data\\dataloader.py:665: UserWarning: 'pin_memory' argument is set as true but no accelerator is found, then device pinned memory won't be used.\n",
      "  warnings.warn(warn_msg)\n",
      "     91/100         0G     0.7961      1.026      1.059         14        640: 100%|██████████| 55/55 [13:55<00:00, 15.19s/it]\n",
      "                 Class     Images  Instances      Box(P          R      mAP50  mAP50-95): 100%|██████████| 11/11 [01:43<00:00,  9.40s/it]"
     ]
    },
    {
     "name": "stdout",
     "output_type": "stream",
     "text": [
      "                   all        327       1114      0.864      0.648      0.714      0.569\n"
     ]
    },
    {
     "name": "stderr",
     "output_type": "stream",
     "text": [
      "\n"
     ]
    },
    {
     "name": "stdout",
     "output_type": "stream",
     "text": [
      "\n",
      "      Epoch    GPU_mem   box_loss   cls_loss   dfl_loss  Instances       Size\n"
     ]
    },
    {
     "name": "stderr",
     "output_type": "stream",
     "text": [
      "     92/100         0G      0.761     0.9569      1.058         20        640: 100%|██████████| 55/55 [14:01<00:00, 15.30s/it]\n",
      "                 Class     Images  Instances      Box(P          R      mAP50  mAP50-95): 100%|██████████| 11/11 [01:44<00:00,  9.51s/it]"
     ]
    },
    {
     "name": "stdout",
     "output_type": "stream",
     "text": [
      "                   all        327       1114      0.864      0.652      0.716      0.575\n"
     ]
    },
    {
     "name": "stderr",
     "output_type": "stream",
     "text": [
      "\n"
     ]
    },
    {
     "name": "stdout",
     "output_type": "stream",
     "text": [
      "\n",
      "      Epoch    GPU_mem   box_loss   cls_loss   dfl_loss  Instances       Size\n"
     ]
    },
    {
     "name": "stderr",
     "output_type": "stream",
     "text": [
      "     93/100         0G     0.7414     0.9276       1.05         19        640: 100%|██████████| 55/55 [14:15<00:00, 15.55s/it]\n",
      "                 Class     Images  Instances      Box(P          R      mAP50  mAP50-95): 100%|██████████| 11/11 [01:50<00:00, 10.04s/it]"
     ]
    },
    {
     "name": "stdout",
     "output_type": "stream",
     "text": [
      "                   all        327       1114      0.861      0.648       0.72      0.577\n"
     ]
    },
    {
     "name": "stderr",
     "output_type": "stream",
     "text": [
      "\n"
     ]
    },
    {
     "name": "stdout",
     "output_type": "stream",
     "text": [
      "\n",
      "      Epoch    GPU_mem   box_loss   cls_loss   dfl_loss  Instances       Size\n"
     ]
    },
    {
     "name": "stderr",
     "output_type": "stream",
     "text": [
      "     94/100         0G     0.7402     0.9189      1.045         18        640: 100%|██████████| 55/55 [14:39<00:00, 15.99s/it]\n",
      "                 Class     Images  Instances      Box(P          R      mAP50  mAP50-95): 100%|██████████| 11/11 [01:48<00:00,  9.91s/it]"
     ]
    },
    {
     "name": "stdout",
     "output_type": "stream",
     "text": [
      "                   all        327       1114      0.866      0.648      0.721      0.581\n"
     ]
    },
    {
     "name": "stderr",
     "output_type": "stream",
     "text": [
      "\n"
     ]
    },
    {
     "name": "stdout",
     "output_type": "stream",
     "text": [
      "\n",
      "      Epoch    GPU_mem   box_loss   cls_loss   dfl_loss  Instances       Size\n"
     ]
    },
    {
     "name": "stderr",
     "output_type": "stream",
     "text": [
      "     95/100         0G     0.7259     0.8901      1.034         17        640: 100%|██████████| 55/55 [14:58<00:00, 16.33s/it]\n",
      "                 Class     Images  Instances      Box(P          R      mAP50  mAP50-95): 100%|██████████| 11/11 [01:51<00:00, 10.11s/it]"
     ]
    },
    {
     "name": "stdout",
     "output_type": "stream",
     "text": [
      "                   all        327       1114      0.877      0.638      0.725      0.585\n"
     ]
    },
    {
     "name": "stderr",
     "output_type": "stream",
     "text": [
      "\n"
     ]
    },
    {
     "name": "stdout",
     "output_type": "stream",
     "text": [
      "\n",
      "      Epoch    GPU_mem   box_loss   cls_loss   dfl_loss  Instances       Size\n"
     ]
    },
    {
     "name": "stderr",
     "output_type": "stream",
     "text": [
      "     96/100         0G     0.7258     0.8996      1.035         18        640: 100%|██████████| 55/55 [15:20<00:00, 16.73s/it]\n",
      "                 Class     Images  Instances      Box(P          R      mAP50  mAP50-95): 100%|██████████| 11/11 [01:48<00:00,  9.86s/it]"
     ]
    },
    {
     "name": "stdout",
     "output_type": "stream",
     "text": [
      "                   all        327       1114      0.849      0.672      0.727      0.587\n"
     ]
    },
    {
     "name": "stderr",
     "output_type": "stream",
     "text": [
      "\n"
     ]
    },
    {
     "name": "stdout",
     "output_type": "stream",
     "text": [
      "\n",
      "      Epoch    GPU_mem   box_loss   cls_loss   dfl_loss  Instances       Size\n"
     ]
    },
    {
     "name": "stderr",
     "output_type": "stream",
     "text": [
      "     97/100         0G     0.7273      0.893      1.039         25        640: 100%|██████████| 55/55 [13:53<00:00, 15.15s/it]\n",
      "                 Class     Images  Instances      Box(P          R      mAP50  mAP50-95): 100%|██████████| 11/11 [01:46<00:00,  9.66s/it]\n"
     ]
    },
    {
     "name": "stdout",
     "output_type": "stream",
     "text": [
      "                   all        327       1114      0.843      0.677      0.729      0.587\n",
      "\n",
      "      Epoch    GPU_mem   box_loss   cls_loss   dfl_loss  Instances       Size\n"
     ]
    },
    {
     "name": "stderr",
     "output_type": "stream",
     "text": [
      "     98/100         0G     0.7119     0.8703      1.025         16        640: 100%|██████████| 55/55 [13:34<00:00, 14.82s/it]\n",
      "                 Class     Images  Instances      Box(P          R      mAP50  mAP50-95): 100%|██████████| 11/11 [01:37<00:00,  8.87s/it]"
     ]
    },
    {
     "name": "stdout",
     "output_type": "stream",
     "text": [
      "                   all        327       1114      0.872      0.662      0.727      0.587\n"
     ]
    },
    {
     "name": "stderr",
     "output_type": "stream",
     "text": [
      "\n"
     ]
    },
    {
     "name": "stdout",
     "output_type": "stream",
     "text": [
      "\n",
      "      Epoch    GPU_mem   box_loss   cls_loss   dfl_loss  Instances       Size\n"
     ]
    },
    {
     "name": "stderr",
     "output_type": "stream",
     "text": [
      "     99/100         0G     0.7269      0.887       1.04         27        640: 100%|██████████| 55/55 [12:50<00:00, 14.01s/it]\n",
      "                 Class     Images  Instances      Box(P          R      mAP50  mAP50-95): 100%|██████████| 11/11 [01:36<00:00,  8.82s/it]"
     ]
    },
    {
     "name": "stdout",
     "output_type": "stream",
     "text": [
      "                   all        327       1114      0.871      0.663      0.726       0.59\n"
     ]
    },
    {
     "name": "stderr",
     "output_type": "stream",
     "text": [
      "\n"
     ]
    },
    {
     "name": "stdout",
     "output_type": "stream",
     "text": [
      "\n",
      "      Epoch    GPU_mem   box_loss   cls_loss   dfl_loss  Instances       Size\n"
     ]
    },
    {
     "name": "stderr",
     "output_type": "stream",
     "text": [
      "    100/100         0G      0.692     0.8465      1.011         12        640: 100%|██████████| 55/55 [13:04<00:00, 14.27s/it]\n",
      "                 Class     Images  Instances      Box(P          R      mAP50  mAP50-95): 100%|██████████| 11/11 [01:43<00:00,  9.43s/it]"
     ]
    },
    {
     "name": "stdout",
     "output_type": "stream",
     "text": [
      "                   all        327       1114      0.869      0.661      0.725       0.59\n"
     ]
    },
    {
     "name": "stderr",
     "output_type": "stream",
     "text": [
      "\n"
     ]
    },
    {
     "name": "stdout",
     "output_type": "stream",
     "text": [
      "\n",
      "100 epochs completed in 26.846 hours.\n",
      "Optimizer stripped from runs\\detect\\train\\weights\\last.pt, 5.5MB\n",
      "Optimizer stripped from runs\\detect\\train\\weights\\best.pt, 5.5MB\n",
      "\n",
      "Validating runs\\detect\\train\\weights\\best.pt...\n",
      "Ultralytics 8.3.155  Python-3.9.1 torch-2.7.1+cpu CPU (Intel Core(TM) i5-6200U 2.30GHz)\n",
      "YOLO11n summary (fused): 100 layers, 2,587,612 parameters, 0 gradients, 6.3 GFLOPs\n"
     ]
    },
    {
     "name": "stderr",
     "output_type": "stream",
     "text": [
      "                 Class     Images  Instances      Box(P          R      mAP50  mAP50-95): 100%|██████████| 11/11 [01:18<00:00,  7.18s/it]\n"
     ]
    },
    {
     "name": "stdout",
     "output_type": "stream",
     "text": [
      "                   all        327       1114       0.81      0.699      0.733      0.592\n",
      "              barbecue         40         42      0.898      0.619      0.672      0.456\n",
      "                 bench         13         15      0.535      0.333      0.353      0.275\n",
      "               bicycle         24         29      0.844      0.749       0.77      0.612\n",
      "                   car         15         19      0.885      0.579      0.637      0.545\n",
      "              chainsaw         35         39      0.851      0.735       0.75      0.639\n",
      "                 chair         83        246       0.71      0.577      0.597        0.4\n",
      "                 drill         22         25      0.705       0.92      0.867      0.571\n",
      "                ladder         12         14      0.854      0.837      0.861      0.755\n",
      "                  lamp         14         44      0.434      0.205      0.215      0.154\n",
      "                laptop         28         30      0.924      0.805      0.821      0.726\n",
      "             lawnmower         17         18      0.894      0.934      0.975      0.927\n",
      "           leaf_blower         26         27      0.903      0.889      0.932      0.823\n",
      "            motorcycle         19         27      0.894      0.926      0.958      0.799\n",
      "             pet_house         28         34          1      0.722      0.853      0.715\n",
      "                 phone         29         64       0.94      0.844      0.885      0.671\n",
      "       pressure_washer         18         20      0.875      0.703      0.799      0.617\n",
      "         rocking_chair         15         17      0.668      0.592       0.67      0.586\n",
      "               scooter          9         33      0.656      0.818      0.881      0.544\n",
      "                  sofa         31         39      0.735      0.639      0.616      0.389\n",
      "                statue         19         32      0.894      0.781       0.83      0.675\n",
      "                sunbed         14         30      0.708      0.645      0.716      0.559\n",
      "                 table         92        113       0.79      0.681      0.683       0.53\n",
      "               toolbox         28         31      0.923      0.935      0.935      0.876\n",
      "            trampoline         15         16      0.945       0.75      0.789      0.763\n",
      "              umbrella         28         33      0.953      0.818      0.821      0.669\n",
      "                  vase         22         54      0.443      0.222      0.243      0.185\n",
      "           wheelbarrow         20         23      0.997      0.609      0.653      0.533\n",
      "Speed: 5.6ms preprocess, 196.5ms inference, 0.0ms loss, 1.8ms postprocess per image\n",
      "Results saved to \u001b[1mruns\\detect\\train\u001b[0m\n"
     ]
    }
   ],
   "source": [
    "from ultralytics import YOLO\n",
    "\n",
    "model = YOLO(\"yolo11n.pt\")\n",
    "\n",
    "results = model.train(\n",
    "    data=os.path.join(base_dir, \"yolo_union_dataset.yaml\"),\n",
    "    epochs=100,\n",
    "    imgsz=640,\n",
    "    device=\"cpu\"\n",
    ")\n"
   ]
  },
  {
   "cell_type": "markdown",
   "id": "d587602b",
   "metadata": {},
   "source": [
    "# Test veri kümesi üzerinde model tahmini (inference)"
   ]
  },
  {
   "cell_type": "code",
   "execution_count": 9,
   "id": "1caa8841",
   "metadata": {},
   "outputs": [
    {
     "name": "stdout",
     "output_type": "stream",
     "text": [
      "\n",
      "image 1/341 C:\\Users\\hp\\Desktop\\YOLOv11_union_100\\yolo_union_test\\images\\0034478e-000022.jpg: 640x640 1 leaf_blower, 320.6ms\n",
      "image 2/341 C:\\Users\\hp\\Desktop\\YOLOv11_union_100\\yolo_union_test\\images\\00be4579-000082.jpg: 640x448 2 chairs, 1 table, 307.1ms\n",
      "image 3/341 C:\\Users\\hp\\Desktop\\YOLOv11_union_100\\yolo_union_test\\images\\023bf6b7-59.webp: 640x480 1 motorcycle, 1036.0ms\n",
      "image 4/341 C:\\Users\\hp\\Desktop\\YOLOv11_union_100\\yolo_union_test\\images\\034df7b0-20250531_2306_Garden_Ladder_View_simple_compose_01jwm2kbwfffvr9csqg26rb56m.png: 640x448 1 ladder, 281.8ms\n",
      "image 5/341 C:\\Users\\hp\\Desktop\\YOLOv11_union_100\\yolo_union_test\\images\\036f1f53-1.png: 448x640 2 scooters, 264.0ms\n",
      "image 6/341 C:\\Users\\hp\\Desktop\\YOLOv11_union_100\\yolo_union_test\\images\\03f1a1e8-ec0d4011-b139-4a9a-bca6-f25b823b2f76.jpeg: 640x448 1 ladder, 207.6ms\n",
      "image 7/341 C:\\Users\\hp\\Desktop\\YOLOv11_union_100\\yolo_union_test\\images\\0418011c-000091.jpg: 576x640 1 toolbox, 266.0ms\n",
      "image 8/341 C:\\Users\\hp\\Desktop\\YOLOv11_union_100\\yolo_union_test\\images\\04512df2-000123.jpg: 448x640 6 phones, 159.8ms\n",
      "image 9/341 C:\\Users\\hp\\Desktop\\YOLOv11_union_100\\yolo_union_test\\images\\045d87d3-71TInwZNnPL._SL1000_.jpg: 640x640 1 drill, 1 leaf_blower, 230.4ms\n",
      "image 10/341 C:\\Users\\hp\\Desktop\\YOLOv11_union_100\\yolo_union_test\\images\\04ae42e9-000007.jpg: 352x640 3 chairs, 250.4ms\n",
      "image 11/341 C:\\Users\\hp\\Desktop\\YOLOv11_union_100\\yolo_union_test\\images\\053d4be6-000039.jpg: 640x640 1 toolbox, 365.7ms\n",
      "image 12/341 C:\\Users\\hp\\Desktop\\YOLOv11_union_100\\yolo_union_test\\images\\056d2176-000087.jpg: 640x288 1 barbecue, 1 car, 166.2ms\n",
      "image 13/341 C:\\Users\\hp\\Desktop\\YOLOv11_union_100\\yolo_union_test\\images\\05bf348a-000025.jpg: 640x640 1 toolbox, 256.0ms\n",
      "image 14/341 C:\\Users\\hp\\Desktop\\YOLOv11_union_100\\yolo_union_test\\images\\05caf793-000151.jpg: 448x640 3 phones, 193.4ms\n",
      "image 15/341 C:\\Users\\hp\\Desktop\\YOLOv11_union_100\\yolo_union_test\\images\\05caf793-000151_aug1.jpg: 448x640 1 phone, 184.7ms\n",
      "image 16/341 C:\\Users\\hp\\Desktop\\YOLOv11_union_100\\yolo_union_test\\images\\06e903f5-000045.jpg: 320x640 1 leaf_blower, 180.2ms\n",
      "image 17/341 C:\\Users\\hp\\Desktop\\YOLOv11_union_100\\yolo_union_test\\images\\078a9633-000207_aug0.jpg: 448x640 1 phone, 153.9ms\n",
      "image 18/341 C:\\Users\\hp\\Desktop\\YOLOv11_union_100\\yolo_union_test\\images\\078a9633-000207_aug1.jpg: 448x640 1 phone, 191.7ms\n",
      "image 19/341 C:\\Users\\hp\\Desktop\\YOLOv11_union_100\\yolo_union_test\\images\\07f02a6d-000018.jpg: 448x640 2 leaf_blowers, 163.1ms\n",
      "image 20/341 C:\\Users\\hp\\Desktop\\YOLOv11_union_100\\yolo_union_test\\images\\098d9f51-20250507_1459_Garden_with_Common_Items_simple_compose_01jtnd5kszfs3sxy_IEDxt5j.png: 448x640 2 barbecues, 1 bicycle, 1 laptop, 1 table, 158.7ms\n",
      "image 21/341 C:\\Users\\hp\\Desktop\\YOLOv11_union_100\\yolo_union_test\\images\\09c7529a-Flux_Dev_A_wideangle_overhead_view_from_a_security_camera_of_a_0.jpg: 640x640 1 drill, 261.2ms\n",
      "image 22/341 C:\\Users\\hp\\Desktop\\YOLOv11_union_100\\yolo_union_test\\images\\09f0edb7-8.png: 384x640 1 barbecue, 203.4ms\n",
      "image 23/341 C:\\Users\\hp\\Desktop\\YOLOv11_union_100\\yolo_union_test\\images\\0a3da1ed-000156.jpg: 576x640 1 toolbox, 204.5ms\n",
      "image 24/341 C:\\Users\\hp\\Desktop\\YOLOv11_union_100\\yolo_union_test\\images\\0b04f359-000093.jpg: 640x640 (no detections), 413.1ms\n",
      "image 25/341 C:\\Users\\hp\\Desktop\\YOLOv11_union_100\\yolo_union_test\\images\\0b04f359-000093_aug0.jpg: 640x640 (no detections), 344.8ms\n",
      "image 26/341 C:\\Users\\hp\\Desktop\\YOLOv11_union_100\\yolo_union_test\\images\\0b29e16f-9.jpg: 448x640 1 bench, 160.4ms\n",
      "image 27/341 C:\\Users\\hp\\Desktop\\YOLOv11_union_100\\yolo_union_test\\images\\0b926a03-000013.jpg: 448x640 1 leaf_blower, 1 toolbox, 218.7ms\n",
      "image 28/341 C:\\Users\\hp\\Desktop\\YOLOv11_union_100\\yolo_union_test\\images\\0c0819b3-48.jpg: 448x640 (no detections), 156.2ms\n",
      "image 29/341 C:\\Users\\hp\\Desktop\\YOLOv11_union_100\\yolo_union_test\\images\\0c2babc0-45.jpg: 480x640 1 motorcycle, 260.7ms\n",
      "image 30/341 C:\\Users\\hp\\Desktop\\YOLOv11_union_100\\yolo_union_test\\images\\0c91721b-000044.jpg: 480x640 1 toolbox, 188.9ms\n",
      "image 31/341 C:\\Users\\hp\\Desktop\\YOLOv11_union_100\\yolo_union_test\\images\\0e2dd7ac-download_aug1.jpg: 384x640 1 chainsaw, 174.3ms\n",
      "image 32/341 C:\\Users\\hp\\Desktop\\YOLOv11_union_100\\yolo_union_test\\images\\10fd43d0-1693342968-ms250_act_3003_rsfy_fa22_dark10-edited_aug0.jpg: 512x640 1 chainsaw, 241.0ms\n",
      "image 33/341 C:\\Users\\hp\\Desktop\\YOLOv11_union_100\\yolo_union_test\\images\\111f1978-000005.jpg: 448x640 (no detections), 221.2ms\n",
      "image 34/341 C:\\Users\\hp\\Desktop\\YOLOv11_union_100\\yolo_union_test\\images\\11875d64-ChatGPT_Image_May_17_2025_at_07_08_20_PM.png: 448x640 1 trampoline, 160.1ms\n",
      "image 35/341 C:\\Users\\hp\\Desktop\\YOLOv11_union_100\\yolo_union_test\\images\\11fa2da4-000015.jpg: 480x640 1 rocking_chair, 1 sofa, 1 table, 1 vase, 190.8ms\n",
      "image 36/341 C:\\Users\\hp\\Desktop\\YOLOv11_union_100\\yolo_union_test\\images\\13325eb0-20250531_1612_Garden_Cam_View_simple_compose_01jwkawmdbeezrsemvg4n03fej.png: 640x448 1 ladder, 153.7ms\n",
      "image 37/341 C:\\Users\\hp\\Desktop\\YOLOv11_union_100\\yolo_union_test\\images\\14112231-000015.jpg: 416x640 1 sofa, 3 statues, 1 table, 215.3ms\n",
      "image 38/341 C:\\Users\\hp\\Desktop\\YOLOv11_union_100\\yolo_union_test\\images\\1526dbba-creative_country_rustic_wedding_altar_for_outdoor.jpeg: 640x480 1 ladder, 205.5ms\n",
      "image 39/341 C:\\Users\\hp\\Desktop\\YOLOv11_union_100\\yolo_union_test\\images\\157a0599-20.jpg: 640x640 2 motorcycles, 216.6ms\n",
      "image 40/341 C:\\Users\\hp\\Desktop\\YOLOv11_union_100\\yolo_union_test\\images\\162a3bca-000009.jpg: 448x640 2 sunbeds, 2 vases, 177.9ms\n",
      "image 41/341 C:\\Users\\hp\\Desktop\\YOLOv11_union_100\\yolo_union_test\\images\\16c410f8-000010.jpg: 640x608 1 leaf_blower, 543.0ms\n",
      "image 42/341 C:\\Users\\hp\\Desktop\\YOLOv11_union_100\\yolo_union_test\\images\\1807939c-32.png: 640x448 1 scooter, 186.9ms\n",
      "image 43/341 C:\\Users\\hp\\Desktop\\YOLOv11_union_100\\yolo_union_test\\images\\1971c82c-000006_aug0.jpg: 448x640 1 chainsaw, 163.6ms\n",
      "image 44/341 C:\\Users\\hp\\Desktop\\YOLOv11_union_100\\yolo_union_test\\images\\1995a154-000025.jpg: 640x512 9 chairs, 296.9ms\n",
      "image 45/341 C:\\Users\\hp\\Desktop\\YOLOv11_union_100\\yolo_union_test\\images\\1a44c246-8.png: 448x640 3 scooters, 191.7ms\n",
      "image 46/341 C:\\Users\\hp\\Desktop\\YOLOv11_union_100\\yolo_union_test\\images\\1b477b5e-75.jpg: 448x640 1 sofa, 491.3ms\n",
      "image 47/341 C:\\Users\\hp\\Desktop\\YOLOv11_union_100\\yolo_union_test\\images\\1bb49515-ChatGPT_Image_May_31_2025_at_02_55_56_PM.png: 448x640 1 car, 1 laptop, 1 lawnmower, 2 pet_houses, 1 statue, 1 table, 2 toolboxs, 1 umbrella, 181.5ms\n",
      "image 48/341 C:\\Users\\hp\\Desktop\\YOLOv11_union_100\\yolo_union_test\\images\\1c1799c0-000025.jpg: 448x640 (no detections), 166.7ms\n",
      "image 49/341 C:\\Users\\hp\\Desktop\\YOLOv11_union_100\\yolo_union_test\\images\\1c6d0a01-assets_task_01jwkefst8fmc9vxvrs9b5npb9_1748704513_img_0.webp: 448x640 1 chainsaw, 1 drill, 2 pressure_washers, 1 toolbox, 1 wheelbarrow, 170.7ms\n",
      "image 50/341 C:\\Users\\hp\\Desktop\\YOLOv11_union_100\\yolo_union_test\\images\\1ccb972f-000175.jpg: 640x640 1 toolbox, 222.6ms\n",
      "image 51/341 C:\\Users\\hp\\Desktop\\YOLOv11_union_100\\yolo_union_test\\images\\1cd07b05-assets_task_01jwkevrnwe3kajhqkf0x9vkqe_1748704901_img_1_aug1.jpg: 448x640 2 chainsaws, 180.7ms\n",
      "image 52/341 C:\\Users\\hp\\Desktop\\YOLOv11_union_100\\yolo_union_test\\images\\1da50846-ChatGPT_Image_May_31_2025_at_01_43_16_PM.png: 448x640 1 car, 1 laptop, 1 lawnmower, 1 pet_house, 1 statue, 1 toolbox, 1 trampoline, 1 umbrella, 147.1ms\n",
      "image 53/341 C:\\Users\\hp\\Desktop\\YOLOv11_union_100\\yolo_union_test\\images\\1dd2d38e-assets_task_01jwkx18w8f3arm46g22hxcej1_1748719761_img_0_aug0.jpg: 448x640 1 chainsaw, 1 wheelbarrow, 161.0ms\n",
      "image 54/341 C:\\Users\\hp\\Desktop\\YOLOv11_union_100\\yolo_union_test\\images\\1e708f70-28.jpg: 384x640 1 chair, 3 sofas, 1 table, 144.8ms\n",
      "image 55/341 C:\\Users\\hp\\Desktop\\YOLOv11_union_100\\yolo_union_test\\images\\1e9a81cb-000021.jpg: 640x448 3 benchs, 2 tables, 1 umbrella, 159.5ms\n",
      "image 56/341 C:\\Users\\hp\\Desktop\\YOLOv11_union_100\\yolo_union_test\\images\\1f001744-pexels-dodogr8-735855.jpg: 448x640 3 chairs, 1 table, 231.5ms\n",
      "image 57/341 C:\\Users\\hp\\Desktop\\YOLOv11_union_100\\yolo_union_test\\images\\1f39d101-38.png: 480x640 6 chairs, 1 table, 310.2ms\n",
      "image 58/341 C:\\Users\\hp\\Desktop\\YOLOv11_union_100\\yolo_union_test\\images\\22a437a9-000196.jpg: 640x384 1 lawnmower, 1 table, 192.2ms\n",
      "image 59/341 C:\\Users\\hp\\Desktop\\YOLOv11_union_100\\yolo_union_test\\images\\22d3a7b1-1000069747.jpg: 480x640 1 barbecue, 457.3ms\n",
      "image 60/341 C:\\Users\\hp\\Desktop\\YOLOv11_union_100\\yolo_union_test\\images\\2302ed03-000089.jpg: 640x512 1 rocking_chair, 1 sofa, 1 vase, 214.2ms\n",
      "image 61/341 C:\\Users\\hp\\Desktop\\YOLOv11_union_100\\yolo_union_test\\images\\23aac5bb-000045.jpg: 480x640 1 wheelbarrow, 164.9ms\n",
      "image 62/341 C:\\Users\\hp\\Desktop\\YOLOv11_union_100\\yolo_union_test\\images\\24096e09-000028.jpg: 384x640 (no detections), 167.8ms\n",
      "image 63/341 C:\\Users\\hp\\Desktop\\YOLOv11_union_100\\yolo_union_test\\images\\249c3b42-20250507_1459_Garden_with_Common_Items_simple_compose_01jtnd5ksyeszaak_Nj1R03X.png: 448x640 2 barbecues, 1 bicycle, 1 laptop, 161.4ms\n",
      "image 64/341 C:\\Users\\hp\\Desktop\\YOLOv11_union_100\\yolo_union_test\\images\\272a3118-34.jpg: 640x576 1 bicycle, 242.9ms\n",
      "image 65/341 C:\\Users\\hp\\Desktop\\YOLOv11_union_100\\yolo_union_test\\images\\27774d20-20250531_2309_Vertical_Ladder_Garden_simple_compose_01jwm2s5d7earvhdpd7argtsnc.png: 640x448 1 ladder, 164.7ms\n",
      "image 66/341 C:\\Users\\hp\\Desktop\\YOLOv11_union_100\\yolo_union_test\\images\\27cd1b60-000141.jpg: 480x640 3 benchs, 1 table, 3 vases, 440.4ms\n",
      "image 67/341 C:\\Users\\hp\\Desktop\\YOLOv11_union_100\\yolo_union_test\\images\\283776b4-38.jpg: 480x640 1 car, 6 motorcycles, 194.2ms\n",
      "image 68/341 C:\\Users\\hp\\Desktop\\YOLOv11_union_100\\yolo_union_test\\images\\285aadf0-IMG_5274_-_Photo_de_Mon_jardin_-_Fleurs_et.jpeg: 640x448 1 ladder, 167.4ms\n",
      "image 69/341 C:\\Users\\hp\\Desktop\\YOLOv11_union_100\\yolo_union_test\\images\\28f46464-000004.jpg: 448x640 1 pressure_washer, 182.3ms\n",
      "image 70/341 C:\\Users\\hp\\Desktop\\YOLOv11_union_100\\yolo_union_test\\images\\2900598b-pexels-abie-zerosix-441402-1748870.jpg: 640x448 1 sofa, 211.8ms\n",
      "image 71/341 C:\\Users\\hp\\Desktop\\YOLOv11_union_100\\yolo_union_test\\images\\2a5d2f42-000034.jpg: 640x448 2 chairs, 1 sofa, 1 table, 172.4ms\n",
      "image 72/341 C:\\Users\\hp\\Desktop\\YOLOv11_union_100\\yolo_union_test\\images\\2ae76a33-000020.jpg: 480x640 4 phones, 179.9ms\n",
      "image 73/341 C:\\Users\\hp\\Desktop\\YOLOv11_union_100\\yolo_union_test\\images\\2b2349f3-000012.jpg: 512x640 3 phones, 259.7ms\n",
      "image 74/341 C:\\Users\\hp\\Desktop\\YOLOv11_union_100\\yolo_union_test\\images\\2b449fb9-000066.jpg: 448x640 4 chainsaws, 196.4ms\n",
      "image 75/341 C:\\Users\\hp\\Desktop\\YOLOv11_union_100\\yolo_union_test\\images\\2b7cc590-pexels-wendywei-1662571.jpg: 640x448 1 pressure_washer, 156.4ms\n",
      "image 76/341 C:\\Users\\hp\\Desktop\\YOLOv11_union_100\\yolo_union_test\\images\\2c0a5842-000072.jpg: 544x640 1 trampoline, 233.3ms\n",
      "image 77/341 C:\\Users\\hp\\Desktop\\YOLOv11_union_100\\yolo_union_test\\images\\2e200859-83.webp: 352x640 4 motorcycles, 187.8ms\n",
      "image 78/341 C:\\Users\\hp\\Desktop\\YOLOv11_union_100\\yolo_union_test\\images\\2e827947-000076.jpg: 480x640 1 phone, 450.0ms\n",
      "image 79/341 C:\\Users\\hp\\Desktop\\YOLOv11_union_100\\yolo_union_test\\images\\2f78d9fb-20250510_2120_Bo_Aile_Bahesi_simple_compose_01jtxt5cg7e9j9vk6946frqnqr.png: 640x448 1 barbecue, 3 chairs, 1 sofa, 2 tables, 169.9ms\n",
      "image 80/341 C:\\Users\\hp\\Desktop\\YOLOv11_union_100\\yolo_union_test\\images\\2fdee904-000103.jpg: 640x640 1 toolbox, 233.8ms\n",
      "image 81/341 C:\\Users\\hp\\Desktop\\YOLOv11_union_100\\yolo_union_test\\images\\302a116b-000090.jpg: 448x640 1 barbecue, 3 chairs, 1 table, 190.4ms\n",
      "image 82/341 C:\\Users\\hp\\Desktop\\YOLOv11_union_100\\yolo_union_test\\images\\307b8d13-pexels-h-h-227297-775870.jpg: 416x640 2 chairs, 3 tables, 174.1ms\n",
      "image 83/341 C:\\Users\\hp\\Desktop\\YOLOv11_union_100\\yolo_union_test\\images\\307e87d0-000034.jpg: 640x640 1 leaf_blower, 277.3ms\n",
      "image 84/341 C:\\Users\\hp\\Desktop\\YOLOv11_union_100\\yolo_union_test\\images\\3082ba93-000003.jpg: 480x640 1 leaf_blower, 216.3ms\n",
      "image 85/341 C:\\Users\\hp\\Desktop\\YOLOv11_union_100\\yolo_union_test\\images\\30b28815-000024.jpg: 640x544 (no detections), 225.7ms\n",
      "image 86/341 C:\\Users\\hp\\Desktop\\YOLOv11_union_100\\yolo_union_test\\images\\30ea0125-43.jpeg: 448x640 1 motorcycle, 162.3ms\n",
      "image 87/341 C:\\Users\\hp\\Desktop\\YOLOv11_union_100\\yolo_union_test\\images\\311208c5-ChatGPT_Image_May_31_2025_at_03_44_06_PM.png: 448x640 1 table, 1 toolbox, 150.1ms\n",
      "image 88/341 C:\\Users\\hp\\Desktop\\YOLOv11_union_100\\yolo_union_test\\images\\31b22dec-67.png: 416x640 (no detections), 162.7ms\n",
      "image 89/341 C:\\Users\\hp\\Desktop\\YOLOv11_union_100\\yolo_union_test\\images\\3397f725-PHOTO-2025-05-07-10-30-20_1.jpg: 320x640 2 chairs, 1 table, 161.3ms\n",
      "image 90/341 C:\\Users\\hp\\Desktop\\YOLOv11_union_100\\yolo_union_test\\images\\33e932cb-ChatGPT_Image_May_31_2025_at_02_36_30_PM.png: 448x640 1 car, 1 laptop, 1 lawnmower, 1 pet_house, 1 statue, 1 table, 1 toolbox, 1 umbrella, 156.0ms\n",
      "image 91/341 C:\\Users\\hp\\Desktop\\YOLOv11_union_100\\yolo_union_test\\images\\35844eb8-000023.jpg: 576x640 1 leaf_blower, 235.8ms\n",
      "image 92/341 C:\\Users\\hp\\Desktop\\YOLOv11_union_100\\yolo_union_test\\images\\3656036a-ChatGPT_Image_May_31_2025_at_01_29_15_PM.png: 640x640 1 laptop, 1 lawnmower, 1 pet_house, 1 statue, 1 toolbox, 1 trampoline, 1 umbrella, 1 wheelbarrow, 226.2ms\n",
      "image 93/341 C:\\Users\\hp\\Desktop\\YOLOv11_union_100\\yolo_union_test\\images\\37b6e307-000144.jpg: 480x640 2 phones, 176.8ms\n",
      "image 94/341 C:\\Users\\hp\\Desktop\\YOLOv11_union_100\\yolo_union_test\\images\\37ebc296-8.jpg: 448x640 (no detections), 272.3ms\n",
      "image 95/341 C:\\Users\\hp\\Desktop\\YOLOv11_union_100\\yolo_union_test\\images\\37f7dfc2-000015.jpg: 480x640 5 chairs, 168.1ms\n",
      "image 96/341 C:\\Users\\hp\\Desktop\\YOLOv11_union_100\\yolo_union_test\\images\\383dbe6b-000102.jpg: 640x544 1 sofa, 1 table, 1 vase, 199.5ms\n",
      "image 97/341 C:\\Users\\hp\\Desktop\\YOLOv11_union_100\\yolo_union_test\\images\\386a0c93-000042.jpg: 480x640 2 sunbeds, 1 table, 178.3ms\n",
      "image 98/341 C:\\Users\\hp\\Desktop\\YOLOv11_union_100\\yolo_union_test\\images\\39279b81-000027.jpg: 448x640 1 car, 441.0ms\n",
      "image 99/341 C:\\Users\\hp\\Desktop\\YOLOv11_union_100\\yolo_union_test\\images\\39d43833-000030.jpg: 448x640 1 phone, 179.1ms\n",
      "image 100/341 C:\\Users\\hp\\Desktop\\YOLOv11_union_100\\yolo_union_test\\images\\3aedb2f5-000003.jpg: 640x640 8 chairs, 1 rocking_chair, 1 table, 1 vase, 229.4ms\n",
      "image 101/341 C:\\Users\\hp\\Desktop\\YOLOv11_union_100\\yolo_union_test\\images\\3b11f0a3-39.jpg: 384x640 2 motorcycles, 181.3ms\n",
      "image 102/341 C:\\Users\\hp\\Desktop\\YOLOv11_union_100\\yolo_union_test\\images\\3b693309-33.png: 640x512 1 scooter, 212.0ms\n",
      "image 103/341 C:\\Users\\hp\\Desktop\\YOLOv11_union_100\\yolo_union_test\\images\\3b7f2b0a-22.webp: 384x640 1 motorcycle, 151.2ms\n",
      "image 104/341 C:\\Users\\hp\\Desktop\\YOLOv11_union_100\\yolo_union_test\\images\\3bdb6636-000018.jpg: 448x640 1 chair, 183.0ms\n",
      "image 105/341 C:\\Users\\hp\\Desktop\\YOLOv11_union_100\\yolo_union_test\\images\\3d0bc37d-000026.jpg: 640x640 1 leaf_blower, 221.2ms\n",
      "image 106/341 C:\\Users\\hp\\Desktop\\YOLOv11_union_100\\yolo_union_test\\images\\3e705fb7-000087.jpg: 448x640 1 barbecue, 1 bench, 4 chairs, 1 lamp, 2 tables, 1 umbrella, 165.6ms\n",
      "image 107/341 C:\\Users\\hp\\Desktop\\YOLOv11_union_100\\yolo_union_test\\images\\3fff0650-000001.jpg: 384x640 3 chairs, 1 table, 163.4ms\n",
      "image 108/341 C:\\Users\\hp\\Desktop\\YOLOv11_union_100\\yolo_union_test\\images\\412ae48f-000032.jpg: 640x480 1 bench, 1 chair, 1 vase, 462.9ms\n",
      "image 109/341 C:\\Users\\hp\\Desktop\\YOLOv11_union_100\\yolo_union_test\\images\\42e60d07-000001.jpg: 512x640 1 leaf_blower, 267.4ms\n",
      "image 110/341 C:\\Users\\hp\\Desktop\\YOLOv11_union_100\\yolo_union_test\\images\\42f96893-000015.jpg: 288x640 1 phone, 172.8ms\n",
      "image 111/341 C:\\Users\\hp\\Desktop\\YOLOv11_union_100\\yolo_union_test\\images\\4323bf9d-000025.jpg: 448x640 1 phone, 177.0ms\n",
      "image 112/341 C:\\Users\\hp\\Desktop\\YOLOv11_union_100\\yolo_union_test\\images\\439d8bb1-4.png: 448x640 1 scooter, 157.6ms\n",
      "image 113/341 C:\\Users\\hp\\Desktop\\YOLOv11_union_100\\yolo_union_test\\images\\43e2ac6e-10.png: 640x640 1 scooter, 213.5ms\n",
      "image 114/341 C:\\Users\\hp\\Desktop\\YOLOv11_union_100\\yolo_union_test\\images\\4794166d-assets_task_01jwkfsaj2e9wb0gbx5sfjnz62_1748705874_img_1.webp: 448x640 1 chainsaw, 1 drill, 1 pet_house, 1 pressure_washer, 296.3ms\n",
      "image 115/341 C:\\Users\\hp\\Desktop\\YOLOv11_union_100\\yolo_union_test\\images\\4794166d-assets_task_01jwkfsaj2e9wb0gbx5sfjnz62_1748705874_img_1_aug0.jpg: 448x640 1 drill, 1 pet_house, 1 pressure_washer, 180.0ms\n",
      "image 116/341 C:\\Users\\hp\\Desktop\\YOLOv11_union_100\\yolo_union_test\\images\\4ae47b9a-ChatGPT_Image_May_31_2025_at_02_10_58_PM.png: 448x640 1 car, 1 laptop, 1 lawnmower, 1 pet_house, 1 statue, 1 table, 1 toolbox, 1 trampoline, 1 umbrella, 1 wheelbarrow, 173.0ms\n",
      "image 117/341 C:\\Users\\hp\\Desktop\\YOLOv11_union_100\\yolo_union_test\\images\\4b204475-ChatGPT_Image_9_May_2025_21_09_01.png: 448x640 (no detections), 153.8ms\n",
      "image 118/341 C:\\Users\\hp\\Desktop\\YOLOv11_union_100\\yolo_union_test\\images\\4baa0143-000028.jpg: 448x640 1 chair, 4 sunbeds, 1 umbrella, 2 vases, 179.9ms\n",
      "image 119/341 C:\\Users\\hp\\Desktop\\YOLOv11_union_100\\yolo_union_test\\images\\4c22c334-41.png: 448x640 3 chairs, 1 sunbed, 3 tables, 165.3ms\n",
      "image 120/341 C:\\Users\\hp\\Desktop\\YOLOv11_union_100\\yolo_union_test\\images\\4d9a1c0f-ChatGPT_Image_31_May_2025_13_43_42.png: 640x576 1 pressure_washer, 225.0ms\n",
      "image 121/341 C:\\Users\\hp\\Desktop\\YOLOv11_union_100\\yolo_union_test\\images\\4de73775-000050.jpg: 480x640 1 bench, 1 rocking_chair, 174.5ms\n",
      "image 122/341 C:\\Users\\hp\\Desktop\\YOLOv11_union_100\\yolo_union_test\\images\\4de81c43-000025.jpg: 640x640 1 leaf_blower, 495.8ms\n",
      "image 123/341 C:\\Users\\hp\\Desktop\\YOLOv11_union_100\\yolo_union_test\\images\\4e5b215c-OIP_1.jpeg: 512x640 1 pressure_washer, 251.7ms\n",
      "image 124/341 C:\\Users\\hp\\Desktop\\YOLOv11_union_100\\yolo_union_test\\images\\4ef8a0bc-PHOTO-2025-05-07-10-30-20_3.jpg: 416x640 2 umbrellas, 194.1ms\n",
      "image 125/341 C:\\Users\\hp\\Desktop\\YOLOv11_union_100\\yolo_union_test\\images\\4f8492ca-000005.jpg: 448x640 6 phones, 167.8ms\n",
      "image 126/341 C:\\Users\\hp\\Desktop\\YOLOv11_union_100\\yolo_union_test\\images\\4fc9efab-ChatGPT_Image_May_31_2025_at_12_50_36_PM.png: 448x640 1 laptop, 1 lawnmower, 1 pet_house, 1 statue, 1 toolbox, 1 trampoline, 1 umbrella, 1 wheelbarrow, 159.5ms\n",
      "image 127/341 C:\\Users\\hp\\Desktop\\YOLOv11_union_100\\yolo_union_test\\images\\4fd9c989-20ee8e65-59d0-4dae-a3eb-43b9136eef7e.jpeg: 640x480 3 ladders, 189.6ms\n",
      "image 128/341 C:\\Users\\hp\\Desktop\\YOLOv11_union_100\\yolo_union_test\\images\\4ffa8a27-Escalera_de_madera_reciclada.jpeg: 640x416 1 ladder, 198.8ms\n",
      "image 129/341 C:\\Users\\hp\\Desktop\\YOLOv11_union_100\\yolo_union_test\\images\\517e7b47-20250510_2120_Bo_Aile_Bahesi_simple_compose_01jtxt5cg6f3zbpr2hdj0cke3p.png: 640x448 1 barbecue, 4 chairs, 1 sofa, 1 sunbed, 2 tables, 187.3ms\n",
      "image 130/341 C:\\Users\\hp\\Desktop\\YOLOv11_union_100\\yolo_union_test\\images\\520c94eb-000057.jpg: 480x640 3 sunbeds, 180.9ms\n",
      "image 131/341 C:\\Users\\hp\\Desktop\\YOLOv11_union_100\\yolo_union_test\\images\\5343539a-000094.jpg: 640x640 1 bench, 1 vase, 218.6ms\n",
      "image 132/341 C:\\Users\\hp\\Desktop\\YOLOv11_union_100\\yolo_union_test\\images\\5481345d-50.png: 448x640 2 barbecues, 2 chairs, 1 table, 162.3ms\n",
      "image 133/341 C:\\Users\\hp\\Desktop\\YOLOv11_union_100\\yolo_union_test\\images\\54c7d727-000036.jpg: 448x640 6 chairs, 161.1ms\n",
      "image 134/341 C:\\Users\\hp\\Desktop\\YOLOv11_union_100\\yolo_union_test\\images\\55b9c815-000040.jpg: 448x640 1 leaf_blower, 167.4ms\n",
      "image 135/341 C:\\Users\\hp\\Desktop\\YOLOv11_union_100\\yolo_union_test\\images\\55f0f3e4-000001.jpg: 448x640 1 lawnmower, 233.2ms\n",
      "image 136/341 C:\\Users\\hp\\Desktop\\YOLOv11_union_100\\yolo_union_test\\images\\56881870-PHOTO-2025-05-07-10-21-03_1.jpg: 384x640 1 chair, 141.8ms\n",
      "image 137/341 C:\\Users\\hp\\Desktop\\YOLOv11_union_100\\yolo_union_test\\images\\573a034d-6.jpg: 640x480 2 barbecues, 227.8ms\n",
      "image 138/341 C:\\Users\\hp\\Desktop\\YOLOv11_union_100\\yolo_union_test\\images\\57f0eeda-53.jpg: 448x640 1 motorcycle, 330.1ms\n",
      "image 139/341 C:\\Users\\hp\\Desktop\\YOLOv11_union_100\\yolo_union_test\\images\\596f5047-63.png: 384x640 1 scooter, 144.0ms\n",
      "image 140/341 C:\\Users\\hp\\Desktop\\YOLOv11_union_100\\yolo_union_test\\images\\5a790555-58.png: 480x640 2 benchs, 1 table, 162.6ms\n",
      "image 141/341 C:\\Users\\hp\\Desktop\\YOLOv11_union_100\\yolo_union_test\\images\\5b5c14fc-20.webp: 480x640 2 lawnmowers, 197.0ms\n",
      "image 142/341 C:\\Users\\hp\\Desktop\\YOLOv11_union_100\\yolo_union_test\\images\\5b76ffe8-000027.jpg: 384x640 1 sunbed, 422.3ms\n",
      "image 143/341 C:\\Users\\hp\\Desktop\\YOLOv11_union_100\\yolo_union_test\\images\\5bccd4a5-000029.jpg: 480x640 1 leaf_blower, 183.5ms\n",
      "image 144/341 C:\\Users\\hp\\Desktop\\YOLOv11_union_100\\yolo_union_test\\images\\5ce5819a-000123.jpg: 640x576 1 bench, 193.7ms\n",
      "image 145/341 C:\\Users\\hp\\Desktop\\YOLOv11_union_100\\yolo_union_test\\images\\5d3b488d-000109.jpg: 640x480 1 lamp, 1 sunbed, 171.4ms\n",
      "image 146/341 C:\\Users\\hp\\Desktop\\YOLOv11_union_100\\yolo_union_test\\images\\5e0626f3-ChatGPT_Image_May_31_2025_at_12_32_11_PM.png: 448x640 1 car, 1 laptop, 1 lawnmower, 1 pet_house, 1 statue, 1 toolbox, 1 trampoline, 1 umbrella, 1 wheelbarrow, 165.1ms\n",
      "image 147/341 C:\\Users\\hp\\Desktop\\YOLOv11_union_100\\yolo_union_test\\images\\5e28e408-000046.jpg: 384x640 (no detections), 153.9ms\n",
      "image 148/341 C:\\Users\\hp\\Desktop\\YOLOv11_union_100\\yolo_union_test\\images\\5f0b0e5d-000011.jpg: 640x576 2 sunbeds, 1 table, 211.5ms\n",
      "image 149/341 C:\\Users\\hp\\Desktop\\YOLOv11_union_100\\yolo_union_test\\images\\5f606663-assets_task_01jwke5nh4fkar2nk7sqvchkjt_1748704181_img_1.webp: 448x640 4 chairs, 1 drill, 1 pressure_washer, 1 table, 1 toolbox, 163.8ms\n",
      "image 150/341 C:\\Users\\hp\\Desktop\\YOLOv11_union_100\\yolo_union_test\\images\\5f606663-assets_task_01jwke5nh4fkar2nk7sqvchkjt_1748704181_img_1_aug0.jpg: 448x640 1 chainsaw, 3 chairs, 1 drill, 1 pressure_washer, 1 table, 1 toolbox, 180.3ms\n",
      "image 151/341 C:\\Users\\hp\\Desktop\\YOLOv11_union_100\\yolo_union_test\\images\\61666430-73.png: 576x640 1 barbecue, 2 scooters, 224.7ms\n",
      "image 152/341 C:\\Users\\hp\\Desktop\\YOLOv11_union_100\\yolo_union_test\\images\\6193db88-60.png: 384x640 (no detections), 408.0ms\n",
      "image 153/341 C:\\Users\\hp\\Desktop\\YOLOv11_union_100\\yolo_union_test\\images\\61fcca71-27.jpg: 384x640 2 chairs, 1 table, 1 vase, 153.9ms\n",
      "image 154/341 C:\\Users\\hp\\Desktop\\YOLOv11_union_100\\yolo_union_test\\images\\62bac5ed-000104.jpg: 640x480 (no detections), 177.3ms\n",
      "image 155/341 C:\\Users\\hp\\Desktop\\YOLOv11_union_100\\yolo_union_test\\images\\62f03543-29.png: 640x512 1 scooter, 213.7ms\n",
      "image 156/341 C:\\Users\\hp\\Desktop\\YOLOv11_union_100\\yolo_union_test\\images\\634a1141-OIP_2.jpeg: 576x640 1 pressure_washer, 196.8ms\n",
      "image 157/341 C:\\Users\\hp\\Desktop\\YOLOv11_union_100\\yolo_union_test\\images\\63c30959-000052.jpg: 448x640 1 phone, 173.8ms\n",
      "image 158/341 C:\\Users\\hp\\Desktop\\YOLOv11_union_100\\yolo_union_test\\images\\6451abbf-000018.jpg: 640x640 1 leaf_blower, 542.7ms\n",
      "image 159/341 C:\\Users\\hp\\Desktop\\YOLOv11_union_100\\yolo_union_test\\images\\64ee11a2-000064.jpg: 480x640 1 barbecue, 2 sunbeds, 185.7ms\n",
      "image 160/341 C:\\Users\\hp\\Desktop\\YOLOv11_union_100\\yolo_union_test\\images\\6521c56a-000065.jpg: 544x640 2 barbecues, 236.0ms\n",
      "image 161/341 C:\\Users\\hp\\Desktop\\YOLOv11_union_100\\yolo_union_test\\images\\6525daba-ChatGPT_Image_May_31_2025_at_03_18_43_PM.png: 448x640 1 car, 1 chair, 1 laptop, 1 lawnmower, 1 pet_house, 1 statue, 1 table, 1 toolbox, 1 umbrella, 168.5ms\n",
      "image 162/341 C:\\Users\\hp\\Desktop\\YOLOv11_union_100\\yolo_union_test\\images\\65bdb067-000074.jpg: 544x640 (no detections), 182.8ms\n",
      "image 163/341 C:\\Users\\hp\\Desktop\\YOLOv11_union_100\\yolo_union_test\\images\\66135809-jhb.jpg: 384x640 4 phones, 138.2ms\n",
      "image 164/341 C:\\Users\\hp\\Desktop\\YOLOv11_union_100\\yolo_union_test\\images\\663b4d30-6.png: 448x640 2 barbecues, 164.9ms\n",
      "image 165/341 C:\\Users\\hp\\Desktop\\YOLOv11_union_100\\yolo_union_test\\images\\66c0a58c-000031.jpg: 640x640 1 leaf_blower, 260.1ms\n",
      "image 166/341 C:\\Users\\hp\\Desktop\\YOLOv11_union_100\\yolo_union_test\\images\\66cb5766-000084_aug0.jpg: 448x640 1 phone, 160.4ms\n",
      "image 167/341 C:\\Users\\hp\\Desktop\\YOLOv11_union_100\\yolo_union_test\\images\\66e66907-000036.jpg: 448x640 2 chainsaws, 458.7ms\n",
      "image 168/341 C:\\Users\\hp\\Desktop\\YOLOv11_union_100\\yolo_union_test\\images\\66e66907-000036_aug1.jpg: 448x640 1 chainsaw, 194.1ms\n",
      "image 169/341 C:\\Users\\hp\\Desktop\\YOLOv11_union_100\\yolo_union_test\\images\\680305a6-23.png: 416x640 2 scooters, 175.1ms\n",
      "image 170/341 C:\\Users\\hp\\Desktop\\YOLOv11_union_100\\yolo_union_test\\images\\69d27eb2-20250507_1505_Garden_Security_View_simple_compose_01jtndhhnnfqbtm3w71jgf8dhh_1.png: 448x640 1 laptop, 1 sofa, 1 table, 163.0ms\n",
      "image 171/341 C:\\Users\\hp\\Desktop\\YOLOv11_union_100\\yolo_union_test\\images\\6b405520-jason-leung-QTC7ur_ZKS0-unsplash.jpg: 640x448 1 bicycle, 151.9ms\n",
      "image 172/341 C:\\Users\\hp\\Desktop\\YOLOv11_union_100\\yolo_union_test\\images\\6b65c7e0-000021.jpg: 640x640 1 chair, 1 vase, 233.3ms\n",
      "image 173/341 C:\\Users\\hp\\Desktop\\YOLOv11_union_100\\yolo_union_test\\images\\6d500f29-000012jn.jpg: 416x640 3 phones, 163.0ms\n",
      "image 174/341 C:\\Users\\hp\\Desktop\\YOLOv11_union_100\\yolo_union_test\\images\\6e02b538-000039_aug1.jpg: 384x640 1 phone, 283.1ms\n",
      "image 175/341 C:\\Users\\hp\\Desktop\\YOLOv11_union_100\\yolo_union_test\\images\\6f0869d1-49.png: 448x640 1 scooter, 1 sunbed, 164.0ms\n",
      "image 176/341 C:\\Users\\hp\\Desktop\\YOLOv11_union_100\\yolo_union_test\\images\\6f21aedb-000031.jpg: 448x640 1 phone, 251.8ms\n",
      "image 177/341 C:\\Users\\hp\\Desktop\\YOLOv11_union_100\\yolo_union_test\\images\\6fb557de-000049.jpg: 416x640 2 chairs, 1 sofa, 1 table, 181.4ms\n",
      "image 178/341 C:\\Users\\hp\\Desktop\\YOLOv11_union_100\\yolo_union_test\\images\\6fd68731-000008.jpg: 352x640 4 lamps, 3 statues, 1 sunbed, 421.4ms\n",
      "image 179/341 C:\\Users\\hp\\Desktop\\YOLOv11_union_100\\yolo_union_test\\images\\71ce8e1a-pexels-iryna-stasiukova-53852-212185.jpg: 640x640 1 bicycle, 1 ladder, 260.8ms\n",
      "image 180/341 C:\\Users\\hp\\Desktop\\YOLOv11_union_100\\yolo_union_test\\images\\73665c20-Transform_an_old_ladder_into_a_place_to_hold.jpeg: 640x448 1 ladder, 164.5ms\n",
      "image 181/341 C:\\Users\\hp\\Desktop\\YOLOv11_union_100\\yolo_union_test\\images\\73cd3be6-PHOTO-2025-05-07-14-38-31.jpg: 576x640 9 chairs, 183.9ms\n",
      "image 182/341 C:\\Users\\hp\\Desktop\\YOLOv11_union_100\\yolo_union_test\\images\\73f30787-000034.jpg: 448x640 2 leaf_blowers, 230.3ms\n",
      "image 183/341 C:\\Users\\hp\\Desktop\\YOLOv11_union_100\\yolo_union_test\\images\\7524c04e-000005.jpg: 640x640 1 leaf_blower, 234.0ms\n",
      "image 184/341 C:\\Users\\hp\\Desktop\\YOLOv11_union_100\\yolo_union_test\\images\\75e4dcfc-assets_task_01jwkebn19fe09rdf4h2bwgwgp_1748704372_img_1_aug1.jpg: 448x640 1 chainsaw, 1 drill, 1 toolbox, 159.6ms\n",
      "image 185/341 C:\\Users\\hp\\Desktop\\YOLOv11_union_100\\yolo_union_test\\images\\771bf67b-d3269ee31978467fb42bf4e2.jpeg: 640x640 2 drills, 223.3ms\n",
      "image 186/341 C:\\Users\\hp\\Desktop\\YOLOv11_union_100\\yolo_union_test\\images\\7880975d-56.png: 640x640 (no detections), 242.7ms\n",
      "image 187/341 C:\\Users\\hp\\Desktop\\YOLOv11_union_100\\yolo_union_test\\images\\79d134bf-23.png: 512x640 2 sofas, 229.0ms\n",
      "image 188/341 C:\\Users\\hp\\Desktop\\YOLOv11_union_100\\yolo_union_test\\images\\7a7601fd-20250507_1447_Backyard_Essentials_simple_compose_01jtnch0wwfqstgky4yqwfrgt7.png: 640x448 1 barbecue, 4 chairs, 1 table, 155.6ms\n",
      "image 189/341 C:\\Users\\hp\\Desktop\\YOLOv11_union_100\\yolo_union_test\\images\\7b651689-000002.jpg: 480x640 5 chairs, 1 table, 4 vases, 176.2ms\n",
      "image 190/341 C:\\Users\\hp\\Desktop\\YOLOv11_union_100\\yolo_union_test\\images\\7ce494a5-000012.jpg: 480x640 2 sunbeds, 1 table, 190.1ms\n",
      "image 191/341 C:\\Users\\hp\\Desktop\\YOLOv11_union_100\\yolo_union_test\\images\\7ddeb41f-000006.jpg: 544x640 1 leaf_blower, 207.6ms\n",
      "image 192/341 C:\\Users\\hp\\Desktop\\YOLOv11_union_100\\yolo_union_test\\images\\7e547de1-assets_task_01jwkf58jvezt8rzdqnsvf7ade_1748705213_img_0_aug1.jpg: 448x640 (no detections), 162.1ms\n",
      "image 193/341 C:\\Users\\hp\\Desktop\\YOLOv11_union_100\\yolo_union_test\\images\\7ec83f30-Flux_Dev_A_wideangle_overhead_view_from_a_security_camera_of_a_3.jpg: 640x640 3 cars, 1 drill, 522.9ms\n",
      "image 194/341 C:\\Users\\hp\\Desktop\\YOLOv11_union_100\\yolo_union_test\\images\\7f3e1561-24.png: 512x640 1 bench, 216.0ms\n",
      "image 195/341 C:\\Users\\hp\\Desktop\\YOLOv11_union_100\\yolo_union_test\\images\\80fd7d8b-000032.jpg: 448x640 1 leaf_blower, 167.2ms\n",
      "image 196/341 C:\\Users\\hp\\Desktop\\YOLOv11_union_100\\yolo_union_test\\images\\8137d146-OIP_1.jpeg: 640x448 1 pressure_washer, 169.4ms\n",
      "image 197/341 C:\\Users\\hp\\Desktop\\YOLOv11_union_100\\yolo_union_test\\images\\8226d390-000035.jpg: 480x640 1 toolbox, 191.4ms\n",
      "image 198/341 C:\\Users\\hp\\Desktop\\YOLOv11_union_100\\yolo_union_test\\images\\836a5712-000045.jpg: 448x640 1 chair, 1 table, 182.4ms\n",
      "image 199/341 C:\\Users\\hp\\Desktop\\YOLOv11_union_100\\yolo_union_test\\images\\851f2d73-000079.jpg: 640x640 1 rocking_chair, 224.3ms\n",
      "image 200/341 C:\\Users\\hp\\Desktop\\YOLOv11_union_100\\yolo_union_test\\images\\860fbc2c-65.jpg: 640x640 1 motorcycle, 224.6ms\n",
      "image 201/341 C:\\Users\\hp\\Desktop\\YOLOv11_union_100\\yolo_union_test\\images\\863e74f9-000064.jpg: 640x640 1 rocking_chair, 208.8ms\n",
      "image 202/341 C:\\Users\\hp\\Desktop\\YOLOv11_union_100\\yolo_union_test\\images\\8686a6da-assets_task_01jwkxkbamemcat0x3m500hfba_1748720350_img_0_aug1.jpg: 448x640 1 barbecue, 1 bicycle, 2 chainsaws, 1 laptop, 1 phone, 167.8ms\n",
      "image 203/341 C:\\Users\\hp\\Desktop\\YOLOv11_union_100\\yolo_union_test\\images\\8686e5f8-assets_task_01jwkf12tkezwvcsncn2c8522b_1748705071_img_1_aug1.jpg: 448x640 1 chainsaw, 1 drill, 1 pet_house, 1 pressure_washer, 155.2ms\n",
      "image 204/341 C:\\Users\\hp\\Desktop\\YOLOv11_union_100\\yolo_union_test\\images\\86c6e2e0-ChatGPT_Image_May_31_2025_at_02_01_44_PM.png: 448x640 1 car, 1 laptop, 1 lawnmower, 2 pet_houses, 1 statue, 1 table, 1 toolbox, 1 trampoline, 1 umbrella, 1 wheelbarrow, 161.3ms\n",
      "image 205/341 C:\\Users\\hp\\Desktop\\YOLOv11_union_100\\yolo_union_test\\images\\87d020db-000001.jpg: 640x512 2 sofas, 2 sunbeds, 1 table, 187.2ms\n",
      "image 206/341 C:\\Users\\hp\\Desktop\\YOLOv11_union_100\\yolo_union_test\\images\\8a8231a2-78.jpeg: 448x640 1 motorcycle, 165.9ms\n",
      "image 207/341 C:\\Users\\hp\\Desktop\\YOLOv11_union_100\\yolo_union_test\\images\\8a9d342b-OIF.jpeg: 640x640 (no detections), 226.9ms\n",
      "image 208/341 C:\\Users\\hp\\Desktop\\YOLOv11_union_100\\yolo_union_test\\images\\8b1cf6cc-assets_task_01jwkxkbamemcat0x3m500hfba_1748720350_img_1.webp: 448x640 1 barbecue, 1 bicycle, 2 chainsaws, 1 laptop, 1 table, 187.3ms\n",
      "image 209/341 C:\\Users\\hp\\Desktop\\YOLOv11_union_100\\yolo_union_test\\images\\8b1cf6cc-assets_task_01jwkxkbamemcat0x3m500hfba_1748720350_img_1_aug0.jpg: 448x640 1 barbecue, 1 bicycle, 2 chainsaws, 1 laptop, 1 table, 425.2ms\n",
      "image 210/341 C:\\Users\\hp\\Desktop\\YOLOv11_union_100\\yolo_union_test\\images\\8ce0a077-000099.jpg: 384x640 4 phones, 211.1ms\n",
      "image 211/341 C:\\Users\\hp\\Desktop\\YOLOv11_union_100\\yolo_union_test\\images\\8d23067f-pexels-ninobur-17209161.jpg: 448x640 1 ladder, 148.8ms\n",
      "image 212/341 C:\\Users\\hp\\Desktop\\YOLOv11_union_100\\yolo_union_test\\images\\8dcfb85c-9.png: 448x640 (no detections), 177.3ms\n",
      "image 213/341 C:\\Users\\hp\\Desktop\\YOLOv11_union_100\\yolo_union_test\\images\\8f569523-31.png: 640x416 1 scooter, 198.9ms\n",
      "image 214/341 C:\\Users\\hp\\Desktop\\YOLOv11_union_100\\yolo_union_test\\images\\8fb8d8fe-000008.jpg: 640x480 1 lamp, 1 wheelbarrow, 238.1ms\n",
      "image 215/341 C:\\Users\\hp\\Desktop\\YOLOv11_union_100\\yolo_union_test\\images\\910cf6d5-33.jpg: 480x640 1 leaf_blower, 1 motorcycle, 2 statues, 190.4ms\n",
      "image 216/341 C:\\Users\\hp\\Desktop\\YOLOv11_union_100\\yolo_union_test\\images\\9174b319-20250507_1447_Backyard_Essentials_simple_compose_01jtnch0wxepn9g1g7csvhsebk.png: 640x448 1 barbecue, 2 bicycles, 3 chairs, 1 table, 152.2ms\n",
      "image 217/341 C:\\Users\\hp\\Desktop\\YOLOv11_union_100\\yolo_union_test\\images\\91dd0660-37.jpg: 384x640 3 bicycles, 1 chair, 169.0ms\n",
      "image 218/341 C:\\Users\\hp\\Desktop\\YOLOv11_union_100\\yolo_union_test\\images\\92d1eb0e-18.png: 448x640 (no detections), 173.6ms\n",
      "image 219/341 C:\\Users\\hp\\Desktop\\YOLOv11_union_100\\yolo_union_test\\images\\930e66d0-000044.jpg: 384x640 5 chairs, 1 table, 150.7ms\n",
      "image 220/341 C:\\Users\\hp\\Desktop\\YOLOv11_union_100\\yolo_union_test\\images\\93319aee-000018.jpg: 480x640 5 lamps, 170.3ms\n",
      "image 221/341 C:\\Users\\hp\\Desktop\\YOLOv11_union_100\\yolo_union_test\\images\\9537188f-17.png: 640x512 1 scooter, 180.3ms\n",
      "image 222/341 C:\\Users\\hp\\Desktop\\YOLOv11_union_100\\yolo_union_test\\images\\95b39ef0-000029.jpg: 384x640 1 leaf_blower, 155.2ms\n",
      "image 223/341 C:\\Users\\hp\\Desktop\\YOLOv11_union_100\\yolo_union_test\\images\\969f2d10-ChatGPT_Image_May_31_2025_at_01_15_36_PM.png: 448x640 1 car, 1 laptop, 1 lawnmower, 1 pet_house, 1 statue, 1 toolbox, 1 umbrella, 1 wheelbarrow, 157.0ms\n",
      "image 224/341 C:\\Users\\hp\\Desktop\\YOLOv11_union_100\\yolo_union_test\\images\\972cfa1a-assets_task_01jwkebn19fe09rdf4h2bwgwgp_1748704372_img_0_aug1.jpg: 448x640 1 chainsaw, 1 drill, 1 pressure_washer, 1 toolbox, 1 wheelbarrow, 168.7ms\n",
      "image 225/341 C:\\Users\\hp\\Desktop\\YOLOv11_union_100\\yolo_union_test\\images\\97b17010-OIP_7.jpeg: 384x640 1 pressure_washer, 147.2ms\n",
      "image 226/341 C:\\Users\\hp\\Desktop\\YOLOv11_union_100\\yolo_union_test\\images\\98e51efe-2.png: 640x640 6 chairs, 1 table, 208.4ms\n",
      "image 227/341 C:\\Users\\hp\\Desktop\\YOLOv11_union_100\\yolo_union_test\\images\\99cabbf9-000035.jpg: 448x640 1 phone, 189.9ms\n",
      "image 228/341 C:\\Users\\hp\\Desktop\\YOLOv11_union_100\\yolo_union_test\\images\\9afbb3e1-000063.jpg: 640x640 1 chainsaw, 435.6ms\n",
      "image 229/341 C:\\Users\\hp\\Desktop\\YOLOv11_union_100\\yolo_union_test\\images\\9c947a6d-000037.jpg: 448x640 4 phones, 261.8ms\n",
      "image 230/341 C:\\Users\\hp\\Desktop\\YOLOv11_union_100\\yolo_union_test\\images\\9de3db75-16.png: 480x640 1 chair, 1 sofa, 182.3ms\n",
      "image 231/341 C:\\Users\\hp\\Desktop\\YOLOv11_union_100\\yolo_union_test\\images\\9f4c9448-000008.jpg: 512x640 5 chairs, 1 lamp, 2 sunbeds, 1 table, 191.1ms\n",
      "image 232/341 C:\\Users\\hp\\Desktop\\YOLOv11_union_100\\yolo_union_test\\images\\a015dca0-000028.jpg: 640x640 1 leaf_blower, 482.6ms\n",
      "image 233/341 C:\\Users\\hp\\Desktop\\YOLOv11_union_100\\yolo_union_test\\images\\a2c66af0-74.png: 416x640 2 chairs, 1 table, 239.0ms\n",
      "image 234/341 C:\\Users\\hp\\Desktop\\YOLOv11_union_100\\yolo_union_test\\images\\a359addd-jean-carlo-emer-fc6TE2JWang-unsplash.jpg: 448x640 1 barbecue, 1 table, 147.3ms\n",
      "image 235/341 C:\\Users\\hp\\Desktop\\YOLOv11_union_100\\yolo_union_test\\images\\a4c088eb-29503-E7oc7HT1iqYpsxZx_aug1.jpg: 640x480 2 chairs, 2 sofas, 1 table, 1 umbrella, 170.0ms\n",
      "image 236/341 C:\\Users\\hp\\Desktop\\YOLOv11_union_100\\yolo_union_test\\images\\a4cfd465-000090.jpg: 448x640 (no detections), 171.6ms\n",
      "image 237/341 C:\\Users\\hp\\Desktop\\YOLOv11_union_100\\yolo_union_test\\images\\a54d8015-35.webp: 384x640 1 motorcycle, 149.5ms\n",
      "image 238/341 C:\\Users\\hp\\Desktop\\YOLOv11_union_100\\yolo_union_test\\images\\a6ffdea1-PHOTO-2025-05-07-10-30-20.jpg: 416x640 (no detections), 151.4ms\n",
      "image 239/341 C:\\Users\\hp\\Desktop\\YOLOv11_union_100\\yolo_union_test\\images\\a7cddc3c-assets_task_01jwkx18w8f3arm46g22hxcej1_1748719761_img_1_aug1.jpg: 448x640 1 chainsaw, 162.8ms\n",
      "image 240/341 C:\\Users\\hp\\Desktop\\YOLOv11_union_100\\yolo_union_test\\images\\a8943c43-ChatGPT_Image_May_17_2025_at_07_08_24_PM.png: 448x640 1 barbecue, 2 chairs, 1 table, 1 trampoline, 150.4ms\n",
      "image 241/341 C:\\Users\\hp\\Desktop\\YOLOv11_union_100\\yolo_union_test\\images\\a8e7f262-PXL_20250414_162524055-1.webp: 480x640 1 chainsaw, 1 table, 197.2ms\n",
      "image 242/341 C:\\Users\\hp\\Desktop\\YOLOv11_union_100\\yolo_union_test\\images\\a975e44d-000055.jpg: 480x640 1 rocking_chair, 458.4ms\n",
      "image 243/341 C:\\Users\\hp\\Desktop\\YOLOv11_union_100\\yolo_union_test\\images\\abd01bce-000002.jpg: 480x640 1 chainsaw, 171.8ms\n",
      "image 244/341 C:\\Users\\hp\\Desktop\\YOLOv11_union_100\\yolo_union_test\\images\\ac375d66-000046.jpg: 480x640 2 sofas, 1 sunbed, 1 table, 1 umbrella, 188.3ms\n",
      "image 245/341 C:\\Users\\hp\\Desktop\\YOLOv11_union_100\\yolo_union_test\\images\\addfc9e1-000035.jpg: 640x448 1 chair, 1 table, 189.7ms\n",
      "image 246/341 C:\\Users\\hp\\Desktop\\YOLOv11_union_100\\yolo_union_test\\images\\b0d23721-PHOTO-2025-05-07-14-38-31_2.jpg: 544x640 (no detections), 176.6ms\n",
      "image 247/341 C:\\Users\\hp\\Desktop\\YOLOv11_union_100\\yolo_union_test\\images\\b0f7f0bb-000102.jpg: 640x640 (no detections), 217.7ms\n",
      "image 248/341 C:\\Users\\hp\\Desktop\\YOLOv11_union_100\\yolo_union_test\\images\\b1e23ee5-PHOTO-2025-05-07-15-03-45_2.jpg: 608x640 9 chairs, 260.1ms\n",
      "image 249/341 C:\\Users\\hp\\Desktop\\YOLOv11_union_100\\yolo_union_test\\images\\b2b0f72b-44.jpg: 416x640 1 motorcycle, 166.5ms\n",
      "image 250/341 C:\\Users\\hp\\Desktop\\YOLOv11_union_100\\yolo_union_test\\images\\b2cd402f-000029.jpg: 448x640 4 chairs, 2 sunbeds, 189.2ms\n",
      "image 251/341 C:\\Users\\hp\\Desktop\\YOLOv11_union_100\\yolo_union_test\\images\\b3247a87-000027.jpg: 480x640 1 sunbed, 167.4ms\n",
      "image 252/341 C:\\Users\\hp\\Desktop\\YOLOv11_union_100\\yolo_union_test\\images\\b4459884-Escalera_de_madera_reciclada.jpeg: 640x416 1 ladder, 186.2ms\n",
      "image 253/341 C:\\Users\\hp\\Desktop\\YOLOv11_union_100\\yolo_union_test\\images\\b7959f64-Flux_Dev_A_serene_and_vibrant_wideangle_shot_of_a_lush_backyar_0.jpg: 640x640 1 drill, 2 vases, 229.8ms\n",
      "image 254/341 C:\\Users\\hp\\Desktop\\YOLOv11_union_100\\yolo_union_test\\images\\b8a9e101-000044.jpg: 384x640 3 phones, 165.1ms\n",
      "image 255/341 C:\\Users\\hp\\Desktop\\YOLOv11_union_100\\yolo_union_test\\images\\b8a9e101-000044_aug0.jpg: 384x640 3 phones, 144.2ms\n",
      "image 256/341 C:\\Users\\hp\\Desktop\\YOLOv11_union_100\\yolo_union_test\\images\\bb8b94c3-000100.jpg: 640x640 5 chairs, 1 table, 5 vases, 213.9ms\n",
      "image 257/341 C:\\Users\\hp\\Desktop\\YOLOv11_union_100\\yolo_union_test\\images\\bbf25cad-20250507_1455_Cozy_Garden_Snapshot_simple_compose_01jtncxq45e398hz04w66k4h0d.png: 640x448 1 barbecue, 1 bicycle, 4 chairs, 1 table, 403.4ms\n",
      "image 258/341 C:\\Users\\hp\\Desktop\\YOLOv11_union_100\\yolo_union_test\\images\\bc51fa0e-Flux_Dev_A_wideangle_overhead_view_from_a_security_camera_of_a_2_1.jpg: 640x640 1 chair, 2 drills, 1 table, 1 vase, 213.6ms\n",
      "image 259/341 C:\\Users\\hp\\Desktop\\YOLOv11_union_100\\yolo_union_test\\images\\bd69eba8-20250531_1612_Garden_Cam_View_simple_compose_01jwkawmd9fdjtrhh1467a0aah.png: 640x448 1 ladder, 153.0ms\n",
      "image 260/341 C:\\Users\\hp\\Desktop\\YOLOv11_union_100\\yolo_union_test\\images\\bf2de3c5-000043.jpg: 640x640 1 leaf_blower, 237.4ms\n",
      "image 261/341 C:\\Users\\hp\\Desktop\\YOLOv11_union_100\\yolo_union_test\\images\\c13a077e-000067.jpg: 640x640 (no detections), 242.0ms\n",
      "image 262/341 C:\\Users\\hp\\Desktop\\YOLOv11_union_100\\yolo_union_test\\images\\c1dde798-30.png: 416x640 1 barbecue, 398.4ms\n",
      "image 263/341 C:\\Users\\hp\\Desktop\\YOLOv11_union_100\\yolo_union_test\\images\\c2d68b2a-78.jpg: 640x640 1 motorcycle, 260.6ms\n",
      "image 264/341 C:\\Users\\hp\\Desktop\\YOLOv11_union_100\\yolo_union_test\\images\\c35bfb4c-000060.jpg: 640x448 1 phone, 191.9ms\n",
      "image 265/341 C:\\Users\\hp\\Desktop\\YOLOv11_union_100\\yolo_union_test\\images\\c35cb5a6-OIP_5.jpeg: 480x640 1 pressure_washer, 170.1ms\n",
      "image 266/341 C:\\Users\\hp\\Desktop\\YOLOv11_union_100\\yolo_union_test\\images\\c377645d-assets_task_01jwkfdkyrf8ztz1epn6yjqt07_1748705484_img_1_aug0.jpg: 448x640 1 chainsaw, 2 drills, 1 pet_house, 1 pressure_washer, 155.3ms\n",
      "image 267/341 C:\\Users\\hp\\Desktop\\YOLOv11_union_100\\yolo_union_test\\images\\c3a63854-000034.jpg: 640x608 1 toolbox, 253.2ms\n",
      "image 268/341 C:\\Users\\hp\\Desktop\\YOLOv11_union_100\\yolo_union_test\\images\\c41e7c78-000094.jpg: 480x640 3 benchs, 1 lamp, 174.7ms\n",
      "image 269/341 C:\\Users\\hp\\Desktop\\YOLOv11_union_100\\yolo_union_test\\images\\c518aed6-ChatGPT_Image_May_31_2025_at_01_06_44_PM.png: 640x640 1 laptop, 1 lawnmower, 1 pet_house, 2 statues, 1 toolbox, 1 trampoline, 1 umbrella, 198.4ms\n",
      "image 270/341 C:\\Users\\hp\\Desktop\\YOLOv11_union_100\\yolo_union_test\\images\\c5c8ede4-000043.jpg: 384x640 1 leaf_blower, 144.4ms\n",
      "image 271/341 C:\\Users\\hp\\Desktop\\YOLOv11_union_100\\yolo_union_test\\images\\c6048bfc-ChatGPT_Image_May_31_2025_at_02_24_06_PM.png: 448x640 1 car, 1 laptop, 1 lawnmower, 1 pet_house, 1 statue, 1 table, 1 toolbox, 1 umbrella, 158.6ms\n",
      "image 272/341 C:\\Users\\hp\\Desktop\\YOLOv11_union_100\\yolo_union_test\\images\\c7a9b6c6-22.png: 544x640 2 scooters, 470.1ms\n",
      "image 273/341 C:\\Users\\hp\\Desktop\\YOLOv11_union_100\\yolo_union_test\\images\\c940d05f-000018_aug1.jpg: 640x448 1 chainsaw, 232.0ms\n",
      "image 274/341 C:\\Users\\hp\\Desktop\\YOLOv11_union_100\\yolo_union_test\\images\\cc239720-55.jpg: 448x640 1 motorcycle, 164.8ms\n",
      "image 275/341 C:\\Users\\hp\\Desktop\\YOLOv11_union_100\\yolo_union_test\\images\\ccdd6fc9-000040.jpg: 480x640 (no detections), 189.3ms\n",
      "image 276/341 C:\\Users\\hp\\Desktop\\YOLOv11_union_100\\yolo_union_test\\images\\cd377bd8-000018.jpg: 640x544 1 umbrella, 248.2ms\n",
      "image 277/341 C:\\Users\\hp\\Desktop\\YOLOv11_union_100\\yolo_union_test\\images\\cd3f1db5-000038.jpg: 448x640 1 leaf_blower, 171.0ms\n",
      "image 278/341 C:\\Users\\hp\\Desktop\\YOLOv11_union_100\\yolo_union_test\\images\\cd4cfc1a-62.png: 576x640 (no detections), 226.1ms\n",
      "image 279/341 C:\\Users\\hp\\Desktop\\YOLOv11_union_100\\yolo_union_test\\images\\cf491c76-PHOTO-2025-05-07-10-30-20_2.jpg: 448x640 1 bench, 174.4ms\n",
      "image 280/341 C:\\Users\\hp\\Desktop\\YOLOv11_union_100\\yolo_union_test\\images\\d1ce49ff-000047.jpg: 640x640 1 leaf_blower, 208.9ms\n",
      "image 281/341 C:\\Users\\hp\\Desktop\\YOLOv11_union_100\\yolo_union_test\\images\\d1e3bc34-20250507_1505_Garden_Security_View_simple_compose_01jtndhhnpfppv645xkr2gf9r7.png: 448x640 1 car, 149.3ms\n",
      "image 282/341 C:\\Users\\hp\\Desktop\\YOLOv11_union_100\\yolo_union_test\\images\\d3a758a1-000036.jpg: 448x640 2 chairs, 1 sofa, 1 table, 160.0ms\n",
      "image 283/341 C:\\Users\\hp\\Desktop\\YOLOv11_union_100\\yolo_union_test\\images\\d3c7a31a-ChatGPT_Image_31_May_2025_13_39_11.png: 576x640 2 pressure_washers, 187.7ms\n",
      "image 284/341 C:\\Users\\hp\\Desktop\\YOLOv11_union_100\\yolo_union_test\\images\\d43b71f0-000041.jpg: 448x640 6 phones, 186.7ms\n",
      "image 285/341 C:\\Users\\hp\\Desktop\\YOLOv11_union_100\\yolo_union_test\\images\\d508c198-000036.jpg: 512x640 (no detections), 224.8ms\n",
      "image 286/341 C:\\Users\\hp\\Desktop\\YOLOv11_union_100\\yolo_union_test\\images\\d5c3c389-ccb399d0f7a7-leadchainsaws.jpg: 320x640 1 chainsaw, 157.4ms\n",
      "image 287/341 C:\\Users\\hp\\Desktop\\YOLOv11_union_100\\yolo_union_test\\images\\d7c373f4-mustakil_ev_bahce_dekorasyonu.jpg: 448x640 2 chairs, 1 table, 1 vase, 166.0ms\n",
      "image 288/341 C:\\Users\\hp\\Desktop\\YOLOv11_union_100\\yolo_union_test\\images\\d7d7387e-000074.jpg: 448x640 6 chairs, 482.9ms\n",
      "image 289/341 C:\\Users\\hp\\Desktop\\YOLOv11_union_100\\yolo_union_test\\images\\d7fb345b-MSA_200_chainsaw_Usage1_1024x10242x.webp: 640x640 2 chainsaws, 209.1ms\n",
      "image 290/341 C:\\Users\\hp\\Desktop\\YOLOv11_union_100\\yolo_union_test\\images\\d82865c4-000024_aug0.jpg: 448x640 1 chainsaw, 158.9ms\n",
      "image 291/341 C:\\Users\\hp\\Desktop\\YOLOv11_union_100\\yolo_union_test\\images\\d8b69405-WhatsApp_Grsel_2025-05-17_saat_19.30.19_70c1344e.jpg: 480x640 1 lawnmower, 156.6ms\n",
      "image 292/341 C:\\Users\\hp\\Desktop\\YOLOv11_union_100\\yolo_union_test\\images\\d9a6dedd-000051_aug1.jpg: 448x640 1 chainsaw, 163.8ms\n",
      "image 293/341 C:\\Users\\hp\\Desktop\\YOLOv11_union_100\\yolo_union_test\\images\\de10f9c5-36.png: 640x576 (no detections), 222.6ms\n",
      "image 294/341 C:\\Users\\hp\\Desktop\\YOLOv11_union_100\\yolo_union_test\\images\\de7fa2fc-000105.jpg: 384x640 1 lamp, 402.7ms\n",
      "image 295/341 C:\\Users\\hp\\Desktop\\YOLOv11_union_100\\yolo_union_test\\images\\de97956b-000016.jpg: 480x640 1 pet_house, 193.7ms\n",
      "image 296/341 C:\\Users\\hp\\Desktop\\YOLOv11_union_100\\yolo_union_test\\images\\ded0df40-34.png: 448x640 1 sofa, 3 tables, 160.2ms\n",
      "image 297/341 C:\\Users\\hp\\Desktop\\YOLOv11_union_100\\yolo_union_test\\images\\e19718a4-000113.jpg: 640x512 3 chairs, 211.4ms\n",
      "image 298/341 C:\\Users\\hp\\Desktop\\YOLOv11_union_100\\yolo_union_test\\images\\e1e52fd0-10.png: 416x640 1 bicycle, 187.7ms\n",
      "image 299/341 C:\\Users\\hp\\Desktop\\YOLOv11_union_100\\yolo_union_test\\images\\e21bd206-04.jpg: 640x480 2 chairs, 1 motorcycle, 221.7ms\n",
      "image 300/341 C:\\Users\\hp\\Desktop\\YOLOv11_union_100\\yolo_union_test\\images\\e2721968-000021.jpg: 480x640 (no detections), 433.2ms\n",
      "image 301/341 C:\\Users\\hp\\Desktop\\YOLOv11_union_100\\yolo_union_test\\images\\e2b02c39-000013.jpg: 448x640 1 leaf_blower, 212.5ms\n",
      "image 302/341 C:\\Users\\hp\\Desktop\\YOLOv11_union_100\\yolo_union_test\\images\\e2d75cb2-assets_task_01jwkefst8fmc9vxvrs9b5npb9_1748704513_img_1_aug1.jpg: 448x640 1 chainsaw, 1 drill, 1 pressure_washer, 1 toolbox, 165.8ms\n",
      "image 303/341 C:\\Users\\hp\\Desktop\\YOLOv11_union_100\\yolo_union_test\\images\\e30e46e0-ChatGPT_Image_May_31_2025_at_01_31_14_PM.png: 448x640 2 cars, 1 laptop, 1 lawnmower, 1 pet_house, 1 statue, 1 toolbox, 1 trampoline, 1 umbrella, 161.7ms\n",
      "image 304/341 C:\\Users\\hp\\Desktop\\YOLOv11_union_100\\yolo_union_test\\images\\e38ef466-51.png: 448x640 6 chairs, 1 table, 1 umbrella, 178.6ms\n",
      "image 305/341 C:\\Users\\hp\\Desktop\\YOLOv11_union_100\\yolo_union_test\\images\\e3ebbe7a-000061.jpg: 448x640 1 motorcycle, 168.0ms\n",
      "image 306/341 C:\\Users\\hp\\Desktop\\YOLOv11_union_100\\yolo_union_test\\images\\e4fb14a2-000204.jpg: 384x640 1 phone, 163.4ms\n",
      "image 307/341 C:\\Users\\hp\\Desktop\\YOLOv11_union_100\\yolo_union_test\\images\\e63dd75b-20250506_144401.jpg: 480x640 (no detections), 231.8ms\n",
      "image 308/341 C:\\Users\\hp\\Desktop\\YOLOv11_union_100\\yolo_union_test\\images\\e63f35d2-000030.jpg: 448x640 1 leaf_blower, 171.7ms\n",
      "image 309/341 C:\\Users\\hp\\Desktop\\YOLOv11_union_100\\yolo_union_test\\images\\e70ec9c4-000003.jpg: 320x640 3 sunbeds, 136.8ms\n",
      "image 310/341 C:\\Users\\hp\\Desktop\\YOLOv11_union_100\\yolo_union_test\\images\\e894bfb4-26.png: 448x640 7 scooters, 161.0ms\n",
      "image 311/341 C:\\Users\\hp\\Desktop\\YOLOv11_union_100\\yolo_union_test\\images\\e9e8fb11-ChatGPT_Image_May_17_2025_at_07_08_30_PM.png: 448x640 1 trampoline, 162.1ms\n",
      "image 312/341 C:\\Users\\hp\\Desktop\\YOLOv11_union_100\\yolo_union_test\\images\\ec7a63c4-OIP_6.jpeg: 480x640 1 pressure_washer, 181.3ms\n",
      "image 313/341 C:\\Users\\hp\\Desktop\\YOLOv11_union_100\\yolo_union_test\\images\\ecc74c2c-75.jpg: 640x512 4 motorcycles, 178.6ms\n",
      "image 314/341 C:\\Users\\hp\\Desktop\\YOLOv11_union_100\\yolo_union_test\\images\\ecf4195f-000170fvhbjn.jpg: 608x640 6 phones, 229.2ms\n",
      "image 315/341 C:\\Users\\hp\\Desktop\\YOLOv11_union_100\\yolo_union_test\\images\\ed1e34cb-000020.jpg: 640x544 14 sunbeds, 1 table, 1 umbrella, 269.8ms\n",
      "image 316/341 C:\\Users\\hp\\Desktop\\YOLOv11_union_100\\yolo_union_test\\images\\eded3d7f-ppppppp.jpeg: 576x640 (no detections), 514.5ms\n",
      "image 317/341 C:\\Users\\hp\\Desktop\\YOLOv11_union_100\\yolo_union_test\\images\\ee2875fe-ChatGPT_Image_May_31_2025_at_03_42_13_PM.png: 448x640 1 table, 1 toolbox, 155.3ms\n",
      "image 318/341 C:\\Users\\hp\\Desktop\\YOLOv11_union_100\\yolo_union_test\\images\\ee318c42-20250507_1505_Garden_Security_View_simple_compose_01jtndhhnnfqbtm3w71jgf8dhh.png: 448x640 1 bench, 1 laptop, 1 sofa, 1 table, 166.0ms\n",
      "image 319/341 C:\\Users\\hp\\Desktop\\YOLOv11_union_100\\yolo_union_test\\images\\ee54b06f-assets_task_01jwkf58jvezt8rzdqnsvf7ade_1748705213_img_1_aug0.jpg: 448x640 1 chainsaw, 1 drill, 1 pet_house, 1 pressure_washer, 177.8ms\n",
      "image 320/341 C:\\Users\\hp\\Desktop\\YOLOv11_union_100\\yolo_union_test\\images\\ee9305f5-69.png: 352x640 1 barbecue, 1 umbrella, 161.5ms\n",
      "image 321/341 C:\\Users\\hp\\Desktop\\YOLOv11_union_100\\yolo_union_test\\images\\eeffa3bf-000040.jpg: 576x640 6 phones, 466.6ms\n",
      "image 322/341 C:\\Users\\hp\\Desktop\\YOLOv11_union_100\\yolo_union_test\\images\\f0dfcdaf-000086.jpg: 640x544 4 chairs, 2 tables, 253.0ms\n",
      "image 323/341 C:\\Users\\hp\\Desktop\\YOLOv11_union_100\\yolo_union_test\\images\\f21c9834-000004.jpeg: 448x640 1 phone, 147.8ms\n",
      "image 324/341 C:\\Users\\hp\\Desktop\\YOLOv11_union_100\\yolo_union_test\\images\\f21fed8d-000055.jpg: 640x640 3 vases, 276.9ms\n",
      "image 325/341 C:\\Users\\hp\\Desktop\\YOLOv11_union_100\\yolo_union_test\\images\\f367d3c1-41.jpg: 384x640 1 umbrella, 157.3ms\n",
      "image 326/341 C:\\Users\\hp\\Desktop\\YOLOv11_union_100\\yolo_union_test\\images\\f4824e68-20250507_1505_Garden_Security_View_simple_compose_01jtndhhnmfa29cgqqn6g7xzgg.png: 448x640 1 laptop, 149.7ms\n",
      "image 327/341 C:\\Users\\hp\\Desktop\\YOLOv11_union_100\\yolo_union_test\\images\\f4cce14d-000017.jpg: 640x640 1 leaf_blower, 225.3ms\n",
      "image 328/341 C:\\Users\\hp\\Desktop\\YOLOv11_union_100\\yolo_union_test\\images\\f63c3a53-000007.jpg: 640x480 2 chairs, 208.6ms\n",
      "image 329/341 C:\\Users\\hp\\Desktop\\YOLOv11_union_100\\yolo_union_test\\images\\f6953e78-000001.jpg: 448x640 1 chainsaw, 161.5ms\n",
      "image 330/341 C:\\Users\\hp\\Desktop\\YOLOv11_union_100\\yolo_union_test\\images\\f6c588b1-000015.jpg: 448x640 11 chairs, 1 statue, 1 table, 309.6ms\n",
      "image 331/341 C:\\Users\\hp\\Desktop\\YOLOv11_union_100\\yolo_union_test\\images\\f6f74709-000043_aug1.jpg: 512x640 3 benchs, 1 table, 24 vases, 311.2ms\n",
      "image 332/341 C:\\Users\\hp\\Desktop\\YOLOv11_union_100\\yolo_union_test\\images\\f7123b83-27.png: 640x608 1 scooter, 244.1ms\n",
      "image 333/341 C:\\Users\\hp\\Desktop\\YOLOv11_union_100\\yolo_union_test\\images\\f731d342-000033.jpg: 512x640 1 chair, 1 lamp, 1 sofa, 1 table, 201.5ms\n",
      "image 334/341 C:\\Users\\hp\\Desktop\\YOLOv11_union_100\\yolo_union_test\\images\\f7f88043-SPR-stihl-vs-husqvarna-chainsaws-2218119-hero-B-fd0a9e4bc5894c5b8d334c_ulxdEh4.jpg: 448x640 2 chainsaws, 2 leaf_blowers, 155.6ms\n",
      "image 335/341 C:\\Users\\hp\\Desktop\\YOLOv11_union_100\\yolo_union_test\\images\\f8171125-000029.jpg: 640x480 1 toolbox, 192.6ms\n",
      "image 336/341 C:\\Users\\hp\\Desktop\\YOLOv11_union_100\\yolo_union_test\\images\\f9cab93b-download.jpeg: 416x640 1 pressure_washer, 193.4ms\n",
      "image 337/341 C:\\Users\\hp\\Desktop\\YOLOv11_union_100\\yolo_union_test\\images\\faeba882-20250531_1609_Ladder_in_Garden_Cam_simple_compose_01jwkaqwzgfwkt5fbct8hr4hs9.png: 640x448 1 ladder, 183.2ms\n",
      "image 338/341 C:\\Users\\hp\\Desktop\\YOLOv11_union_100\\yolo_union_test\\images\\fbbe748a-000108.jpg: 640x640 2 chairs, 1 lamp, 209.9ms\n",
      "image 339/341 C:\\Users\\hp\\Desktop\\YOLOv11_union_100\\yolo_union_test\\images\\fbcb6937-ChatGPT_Image_31_May_2025_13_15_48.png: 640x544 1 pressure_washer, 203.8ms\n",
      "image 340/341 C:\\Users\\hp\\Desktop\\YOLOv11_union_100\\yolo_union_test\\images\\fc92f4fe-000008.jpg: 448x640 1 leaf_blower, 156.4ms\n",
      "image 341/341 C:\\Users\\hp\\Desktop\\YOLOv11_union_100\\yolo_union_test\\images\\fdc3c1b4-ChatGPT_Image_May_31_2025_at_01_08_25_PM.png: 448x640 1 car, 1 laptop, 1 lawnmower, 1 pet_house, 1 statue, 1 toolbox, 1 trampoline, 1 umbrella, 153.5ms\n",
      "Speed: 7.5ms preprocess, 217.5ms inference, 2.0ms postprocess per image at shape (1, 3, 448, 640)\n",
      "Results saved to \u001b[1mC:\\Users\\hp\\Desktop\\YOLOv11_union_100\\test_results\\predictions\u001b[0m\n",
      "310 labels saved to C:\\Users\\hp\\Desktop\\YOLOv11_union_100\\test_results\\predictions\\labels\n",
      "✅ Test tamamlandı. Sonuçlar: C:\\Users\\hp\\Desktop\\YOLOv11_union_100\\test_results\\predictions\n"
     ]
    }
   ],
   "source": [
    "from ultralytics import YOLO\n",
    "import os\n",
    "\n",
    "base_dir = r\"C:\\Users\\hp\\Desktop\\YOLOv11_union_100\"  # 👈 kendi dizin yolunu buraya yazdın mı emin ol\n",
    "\n",
    "model = YOLO(\"runs/detect/train/weights/best.pt\")\n",
    "\n",
    "results = model.predict(\n",
    "    source=os.path.join(base_dir, \"yolo_union_test/images\"),\n",
    "    save=True,\n",
    "    save_txt=True,\n",
    "    project=os.path.join(base_dir, \"test_results\"),\n",
    "    name=\"predictions\",\n",
    "    conf=0.25\n",
    ")\n",
    "\n",
    "print(\"✅ Test tamamlandı. Sonuçlar:\", os.path.join(base_dir, \"test_results\", \"predictions\"))\n"
   ]
  },
  {
   "cell_type": "markdown",
   "id": "c5ad8046",
   "metadata": {},
   "source": [
    "# pickle elde etme"
   ]
  },
  {
   "cell_type": "markdown",
   "id": "6431fb3e",
   "metadata": {},
   "source": [
    "##  1. Pretrained model ile tahmin"
   ]
  },
  {
   "cell_type": "code",
   "execution_count": 10,
   "id": "5097f34d",
   "metadata": {},
   "outputs": [
    {
     "name": "stdout",
     "output_type": "stream",
     "text": [
      "✅ training_summary.pkl dosyası başarıyla oluşturuldu.\n",
      "✅ training_summary.pkl dosyası oluşturuldu.\n"
     ]
    }
   ],
   "source": [
    "from ultralytics import YOLO\n",
    "import pickle\n",
    "\n",
    "# Eğitilmiş modeli yeniden yükle\n",
    "model = YOLO(\"runs/detect/train/weights/best.pt\")  # trainX klasör adını kontrol et\n",
    "\n",
    "# Eğitim sonucunu simüle etmek için boş bir sözlük oluştur (çünkü eski training sonuçları artık yok)\n",
    "results = {\"note\": \"Eğitim sonucu burada bulunamadı, sadece class_names kaydedildi.\"}\n",
    "\n",
    "# Pickle dosyasını oluştur\n",
    "data = {\n",
    "    \"class_names\": model.names,\n",
    "    \"train_results\": results\n",
    "}\n",
    "\n",
    "with open(\"training_summary.pkl\", \"wb\") as f:\n",
    "    pickle.dump(data, f)\n",
    "\n",
    "print(\"✅ training_summary.pkl dosyası başarıyla oluşturuldu.\")\n",
    "\n",
    "print(\"✅ training_summary.pkl dosyası oluşturuldu.\")\n"
   ]
  },
  {
   "cell_type": "code",
   "execution_count": 1,
   "id": "98e06933",
   "metadata": {},
   "outputs": [
    {
     "name": "stdout",
     "output_type": "stream",
     "text": [
      "\n",
      "image 1/341 C:\\Users\\hp\\Desktop\\YOLOv11_union_100\\yolo_union_test\\images\\0034478e-000022.jpg: 640x640 1 airplane, 1 scissors, 516.3ms\n",
      "image 2/341 C:\\Users\\hp\\Desktop\\YOLOv11_union_100\\yolo_union_test\\images\\00be4579-000082.jpg: 640x448 1 dining table, 316.7ms\n",
      "image 3/341 C:\\Users\\hp\\Desktop\\YOLOv11_union_100\\yolo_union_test\\images\\023bf6b7-59.webp: 640x480 1 person, 1 motorcycle, 639.2ms\n",
      "image 4/341 C:\\Users\\hp\\Desktop\\YOLOv11_union_100\\yolo_union_test\\images\\034df7b0-20250531_2306_Garden_Ladder_View_simple_compose_01jwm2kbwfffvr9csqg26rb56m.png: 640x448 (no detections), 317.1ms\n",
      "image 5/341 C:\\Users\\hp\\Desktop\\YOLOv11_union_100\\yolo_union_test\\images\\036f1f53-1.png: 448x640 (no detections), 297.6ms\n",
      "image 6/341 C:\\Users\\hp\\Desktop\\YOLOv11_union_100\\yolo_union_test\\images\\03f1a1e8-ec0d4011-b139-4a9a-bca6-f25b823b2f76.jpeg: 640x448 (no detections), 251.0ms\n",
      "image 7/341 C:\\Users\\hp\\Desktop\\YOLOv11_union_100\\yolo_union_test\\images\\0418011c-000091.jpg: 576x640 1 suitcase, 416.9ms\n",
      "image 8/341 C:\\Users\\hp\\Desktop\\YOLOv11_union_100\\yolo_union_test\\images\\04512df2-000123.jpg: 448x640 8 persons, 3 bottles, 1 laptop, 1 cell phone, 265.8ms\n",
      "image 9/341 C:\\Users\\hp\\Desktop\\YOLOv11_union_100\\yolo_union_test\\images\\045d87d3-71TInwZNnPL._SL1000_.jpg: 640x640 1 person, 1 bottle, 623.4ms\n",
      "image 10/341 C:\\Users\\hp\\Desktop\\YOLOv11_union_100\\yolo_union_test\\images\\04ae42e9-000007.jpg: 352x640 4 chairs, 759.4ms\n",
      "image 11/341 C:\\Users\\hp\\Desktop\\YOLOv11_union_100\\yolo_union_test\\images\\053d4be6-000039.jpg: 640x640 2 cell phones, 428.0ms\n",
      "image 12/341 C:\\Users\\hp\\Desktop\\YOLOv11_union_100\\yolo_union_test\\images\\056d2176-000087.jpg: 640x288 2 cars, 229.0ms\n",
      "image 13/341 C:\\Users\\hp\\Desktop\\YOLOv11_union_100\\yolo_union_test\\images\\05bf348a-000025.jpg: 640x640 2 suitcases, 700.9ms\n",
      "image 14/341 C:\\Users\\hp\\Desktop\\YOLOv11_union_100\\yolo_union_test\\images\\05caf793-000151.jpg: 448x640 7 persons, 1 chair, 1 cell phone, 398.7ms\n",
      "image 15/341 C:\\Users\\hp\\Desktop\\YOLOv11_union_100\\yolo_union_test\\images\\05caf793-000151_aug1.jpg: 448x640 5 persons, 1 laptop, 251.8ms\n",
      "image 16/341 C:\\Users\\hp\\Desktop\\YOLOv11_union_100\\yolo_union_test\\images\\06e903f5-000045.jpg: 320x640 1 person, 1 baseball bat, 251.7ms\n",
      "image 17/341 C:\\Users\\hp\\Desktop\\YOLOv11_union_100\\yolo_union_test\\images\\078a9633-000207_aug0.jpg: 448x640 (no detections), 252.2ms\n",
      "image 18/341 C:\\Users\\hp\\Desktop\\YOLOv11_union_100\\yolo_union_test\\images\\078a9633-000207_aug1.jpg: 448x640 3 persons, 1 bottle, 1 cell phone, 258.8ms\n",
      "image 19/341 C:\\Users\\hp\\Desktop\\YOLOv11_union_100\\yolo_union_test\\images\\07f02a6d-000018.jpg: 448x640 2 persons, 249.7ms\n",
      "image 20/341 C:\\Users\\hp\\Desktop\\YOLOv11_union_100\\yolo_union_test\\images\\098d9f51-20250507_1459_Garden_with_Common_Items_simple_compose_01jtnd5kszfs3sxy_IEDxt5j.png: 448x640 1 bicycle, 1 car, 1 clock, 698.8ms\n",
      "image 21/341 C:\\Users\\hp\\Desktop\\YOLOv11_union_100\\yolo_union_test\\images\\09c7529a-Flux_Dev_A_wideangle_overhead_view_from_a_security_camera_of_a_0.jpg: 640x640 1 bench, 11 potted plants, 332.6ms\n",
      "image 22/341 C:\\Users\\hp\\Desktop\\YOLOv11_union_100\\yolo_union_test\\images\\09f0edb7-8.png: 384x640 (no detections), 288.4ms\n",
      "image 23/341 C:\\Users\\hp\\Desktop\\YOLOv11_union_100\\yolo_union_test\\images\\0a3da1ed-000156.jpg: 576x640 1 suitcase, 1 keyboard, 445.3ms\n",
      "image 24/341 C:\\Users\\hp\\Desktop\\YOLOv11_union_100\\yolo_union_test\\images\\0b04f359-000093.jpg: 640x640 (no detections), 806.9ms\n",
      "image 25/341 C:\\Users\\hp\\Desktop\\YOLOv11_union_100\\yolo_union_test\\images\\0b04f359-000093_aug0.jpg: 640x640 1 umbrella, 357.6ms\n",
      "image 26/341 C:\\Users\\hp\\Desktop\\YOLOv11_union_100\\yolo_union_test\\images\\0b29e16f-9.jpg: 448x640 (no detections), 251.2ms\n",
      "image 27/341 C:\\Users\\hp\\Desktop\\YOLOv11_union_100\\yolo_union_test\\images\\0b926a03-000013.jpg: 448x640 (no detections), 312.5ms\n",
      "image 28/341 C:\\Users\\hp\\Desktop\\YOLOv11_union_100\\yolo_union_test\\images\\0c0819b3-48.jpg: 448x640 (no detections), 260.1ms\n",
      "image 29/341 C:\\Users\\hp\\Desktop\\YOLOv11_union_100\\yolo_union_test\\images\\0c2babc0-45.jpg: 480x640 1 motorcycle, 643.1ms\n",
      "image 30/341 C:\\Users\\hp\\Desktop\\YOLOv11_union_100\\yolo_union_test\\images\\0c91721b-000044.jpg: 480x640 (no detections), 351.7ms\n",
      "image 31/341 C:\\Users\\hp\\Desktop\\YOLOv11_union_100\\yolo_union_test\\images\\0e2dd7ac-download_aug1.jpg: 384x640 1 person, 1 skateboard, 229.4ms\n",
      "image 32/341 C:\\Users\\hp\\Desktop\\YOLOv11_union_100\\yolo_union_test\\images\\10fd43d0-1693342968-ms250_act_3003_rsfy_fa22_dark10-edited_aug0.jpg: 512x640 1 person, 3 potted plants, 349.6ms\n",
      "image 33/341 C:\\Users\\hp\\Desktop\\YOLOv11_union_100\\yolo_union_test\\images\\111f1978-000005.jpg: 448x640 (no detections), 770.7ms\n",
      "image 34/341 C:\\Users\\hp\\Desktop\\YOLOv11_union_100\\yolo_union_test\\images\\11875d64-ChatGPT_Image_May_17_2025_at_07_08_20_PM.png: 448x640 (no detections), 421.4ms\n",
      "image 35/341 C:\\Users\\hp\\Desktop\\YOLOv11_union_100\\yolo_union_test\\images\\11fa2da4-000015.jpg: 480x640 1 bench, 273.8ms\n",
      "image 36/341 C:\\Users\\hp\\Desktop\\YOLOv11_union_100\\yolo_union_test\\images\\13325eb0-20250531_1612_Garden_Cam_View_simple_compose_01jwkawmdbeezrsemvg4n03fej.png: 640x448 1 bus, 318.1ms\n",
      "image 37/341 C:\\Users\\hp\\Desktop\\YOLOv11_union_100\\yolo_union_test\\images\\14112231-000015.jpg: 416x640 1 bench, 1 bottle, 1 dining table, 1 vase, 525.7ms\n",
      "image 38/341 C:\\Users\\hp\\Desktop\\YOLOv11_union_100\\yolo_union_test\\images\\1526dbba-creative_country_rustic_wedding_altar_for_outdoor.jpeg: 640x480 1 vase, 1005.8ms\n",
      "image 39/341 C:\\Users\\hp\\Desktop\\YOLOv11_union_100\\yolo_union_test\\images\\157a0599-20.jpg: 640x640 1 motorcycle, 512.0ms\n",
      "image 40/341 C:\\Users\\hp\\Desktop\\YOLOv11_union_100\\yolo_union_test\\images\\162a3bca-000009.jpg: 448x640 1 bench, 2 chairs, 3 potted plants, 250.3ms\n",
      "image 41/341 C:\\Users\\hp\\Desktop\\YOLOv11_union_100\\yolo_union_test\\images\\16c410f8-000010.jpg: 640x608 1 person, 1201.7ms\n",
      "image 42/341 C:\\Users\\hp\\Desktop\\YOLOv11_union_100\\yolo_union_test\\images\\1807939c-32.png: 640x448 (no detections), 264.1ms\n",
      "image 43/341 C:\\Users\\hp\\Desktop\\YOLOv11_union_100\\yolo_union_test\\images\\1971c82c-000006_aug0.jpg: 448x640 1 person, 2 clocks, 327.6ms\n",
      "image 44/341 C:\\Users\\hp\\Desktop\\YOLOv11_union_100\\yolo_union_test\\images\\1995a154-000025.jpg: 640x512 2 benchs, 1 chair, 390.4ms\n",
      "image 45/341 C:\\Users\\hp\\Desktop\\YOLOv11_union_100\\yolo_union_test\\images\\1a44c246-8.png: 448x640 3 persons, 336.4ms\n",
      "image 46/341 C:\\Users\\hp\\Desktop\\YOLOv11_union_100\\yolo_union_test\\images\\1b477b5e-75.jpg: 448x640 1 cat, 266.9ms\n",
      "image 47/341 C:\\Users\\hp\\Desktop\\YOLOv11_union_100\\yolo_union_test\\images\\1bb49515-ChatGPT_Image_May_31_2025_at_02_55_56_PM.png: 448x640 1 car, 1 bench, 2 umbrellas, 1 dining table, 618.0ms\n",
      "image 48/341 C:\\Users\\hp\\Desktop\\YOLOv11_union_100\\yolo_union_test\\images\\1c1799c0-000025.jpg: 448x640 1 microwave, 303.9ms\n",
      "image 49/341 C:\\Users\\hp\\Desktop\\YOLOv11_union_100\\yolo_union_test\\images\\1c6d0a01-assets_task_01jwkefst8fmc9vxvrs9b5npb9_1748704513_img_0.webp: 448x640 2 benchs, 1 suitcase, 263.8ms\n",
      "image 50/341 C:\\Users\\hp\\Desktop\\YOLOv11_union_100\\yolo_union_test\\images\\1ccb972f-000175.jpg: 640x640 2 vases, 540.8ms\n",
      "image 51/341 C:\\Users\\hp\\Desktop\\YOLOv11_union_100\\yolo_union_test\\images\\1cd07b05-assets_task_01jwkevrnwe3kajhqkf0x9vkqe_1748704901_img_1_aug1.jpg: 448x640 (no detections), 277.8ms\n",
      "image 52/341 C:\\Users\\hp\\Desktop\\YOLOv11_union_100\\yolo_union_test\\images\\1da50846-ChatGPT_Image_May_31_2025_at_01_43_16_PM.png: 448x640 1 car, 1 umbrella, 1 suitcase, 1 chair, 366.8ms\n",
      "image 53/341 C:\\Users\\hp\\Desktop\\YOLOv11_union_100\\yolo_union_test\\images\\1dd2d38e-assets_task_01jwkx18w8f3arm46g22hxcej1_1748719761_img_0_aug0.jpg: 448x640 1 train, 2 boats, 275.2ms\n",
      "image 54/341 C:\\Users\\hp\\Desktop\\YOLOv11_union_100\\yolo_union_test\\images\\1e708f70-28.jpg: 384x640 1 bench, 1 umbrella, 3 potted plants, 279.8ms\n",
      "image 55/341 C:\\Users\\hp\\Desktop\\YOLOv11_union_100\\yolo_union_test\\images\\1e9a81cb-000021.jpg: 640x448 1 dog, 3 umbrellas, 399.9ms\n",
      "image 56/341 C:\\Users\\hp\\Desktop\\YOLOv11_union_100\\yolo_union_test\\images\\1f001744-pexels-dodogr8-735855.jpg: 448x640 1 person, 629.5ms\n",
      "image 57/341 C:\\Users\\hp\\Desktop\\YOLOv11_union_100\\yolo_union_test\\images\\1f39d101-38.png: 480x640 (no detections), 305.3ms\n",
      "image 58/341 C:\\Users\\hp\\Desktop\\YOLOv11_union_100\\yolo_union_test\\images\\22a437a9-000196.jpg: 640x384 1 person, 1 suitcase, 324.3ms\n",
      "image 59/341 C:\\Users\\hp\\Desktop\\YOLOv11_union_100\\yolo_union_test\\images\\22d3a7b1-1000069747.jpg: 480x640 (no detections), 342.7ms\n",
      "image 60/341 C:\\Users\\hp\\Desktop\\YOLOv11_union_100\\yolo_union_test\\images\\2302ed03-000089.jpg: 640x512 1 couch, 1 potted plant, 367.0ms\n",
      "image 61/341 C:\\Users\\hp\\Desktop\\YOLOv11_union_100\\yolo_union_test\\images\\23aac5bb-000045.jpg: 480x640 1 chair, 286.8ms\n",
      "image 62/341 C:\\Users\\hp\\Desktop\\YOLOv11_union_100\\yolo_union_test\\images\\24096e09-000028.jpg: 384x640 1 person, 246.9ms\n",
      "image 63/341 C:\\Users\\hp\\Desktop\\YOLOv11_union_100\\yolo_union_test\\images\\249c3b42-20250507_1459_Garden_with_Common_Items_simple_compose_01jtnd5ksyeszaak_Nj1R03X.png: 448x640 1 bicycle, 1 sports ball, 2 skateboards, 3 chairs, 1 potted plant, 1 dining table, 1 keyboard, 298.1ms\n",
      "image 64/341 C:\\Users\\hp\\Desktop\\YOLOv11_union_100\\yolo_union_test\\images\\272a3118-34.jpg: 640x576 1 bicycle, 2 potted plants, 1190.0ms\n",
      "image 65/341 C:\\Users\\hp\\Desktop\\YOLOv11_union_100\\yolo_union_test\\images\\27774d20-20250531_2309_Vertical_Ladder_Garden_simple_compose_01jwm2s5d7earvhdpd7argtsnc.png: 640x448 8 potted plants, 789.4ms\n",
      "image 66/341 C:\\Users\\hp\\Desktop\\YOLOv11_union_100\\yolo_union_test\\images\\27cd1b60-000141.jpg: 480x640 1 bench, 2 bowls, 4 potted plants, 1 dining table, 391.8ms\n",
      "image 67/341 C:\\Users\\hp\\Desktop\\YOLOv11_union_100\\yolo_union_test\\images\\283776b4-38.jpg: 480x640 4 cars, 2 motorcycles, 345.0ms\n",
      "image 68/341 C:\\Users\\hp\\Desktop\\YOLOv11_union_100\\yolo_union_test\\images\\285aadf0-IMG_5274_-_Photo_de_Mon_jardin_-_Fleurs_et.jpeg: 640x448 1 potted plant, 281.7ms\n",
      "image 69/341 C:\\Users\\hp\\Desktop\\YOLOv11_union_100\\yolo_union_test\\images\\28f46464-000004.jpg: 448x640 (no detections), 311.8ms\n",
      "image 70/341 C:\\Users\\hp\\Desktop\\YOLOv11_union_100\\yolo_union_test\\images\\2900598b-pexels-abie-zerosix-441402-1748870.jpg: 640x448 1 potted plant, 263.2ms\n",
      "image 71/341 C:\\Users\\hp\\Desktop\\YOLOv11_union_100\\yolo_union_test\\images\\2a5d2f42-000034.jpg: 640x448 2 chairs, 1 couch, 7 potted plants, 279.3ms\n",
      "image 72/341 C:\\Users\\hp\\Desktop\\YOLOv11_union_100\\yolo_union_test\\images\\2ae76a33-000020.jpg: 480x640 4 persons, 1 cell phone, 262.9ms\n",
      "image 73/341 C:\\Users\\hp\\Desktop\\YOLOv11_union_100\\yolo_union_test\\images\\2b2349f3-000012.jpg: 512x640 4 persons, 3 skateboards, 1 cell phone, 378.7ms\n",
      "image 74/341 C:\\Users\\hp\\Desktop\\YOLOv11_union_100\\yolo_union_test\\images\\2b449fb9-000066.jpg: 448x640 3 persons, 3 bottles, 254.2ms\n",
      "image 75/341 C:\\Users\\hp\\Desktop\\YOLOv11_union_100\\yolo_union_test\\images\\2b7cc590-pexels-wendywei-1662571.jpg: 640x448 2 persons, 1 bicycle, 249.9ms\n",
      "image 76/341 C:\\Users\\hp\\Desktop\\YOLOv11_union_100\\yolo_union_test\\images\\2c0a5842-000072.jpg: 544x640 (no detections), 809.6ms\n",
      "image 77/341 C:\\Users\\hp\\Desktop\\YOLOv11_union_100\\yolo_union_test\\images\\2e200859-83.webp: 352x640 3 motorcycles, 1 bottle, 278.6ms\n",
      "image 78/341 C:\\Users\\hp\\Desktop\\YOLOv11_union_100\\yolo_union_test\\images\\2e827947-000076.jpg: 480x640 11 persons, 1 bicycle, 3 cars, 1 traffic light, 2 backpacks, 2 handbags, 330.8ms\n",
      "image 79/341 C:\\Users\\hp\\Desktop\\YOLOv11_union_100\\yolo_union_test\\images\\2f78d9fb-20250510_2120_Bo_Aile_Bahesi_simple_compose_01jtxt5cg7e9j9vk6946frqnqr.png: 640x448 5 chairs, 1 couch, 1 dining table, 475.2ms\n",
      "image 80/341 C:\\Users\\hp\\Desktop\\YOLOv11_union_100\\yolo_union_test\\images\\2fdee904-000103.jpg: 640x640 1 suitcase, 970.4ms\n",
      "image 81/341 C:\\Users\\hp\\Desktop\\YOLOv11_union_100\\yolo_union_test\\images\\302a116b-000090.jpg: 448x640 1 person, 1 bench, 1 sports ball, 3 chairs, 345.9ms\n",
      "image 82/341 C:\\Users\\hp\\Desktop\\YOLOv11_union_100\\yolo_union_test\\images\\307b8d13-pexels-h-h-227297-775870.jpg: 416x640 1 vase, 1671.3ms\n",
      "image 83/341 C:\\Users\\hp\\Desktop\\YOLOv11_union_100\\yolo_union_test\\images\\307e87d0-000034.jpg: 640x640 (no detections), 377.0ms\n",
      "image 84/341 C:\\Users\\hp\\Desktop\\YOLOv11_union_100\\yolo_union_test\\images\\3082ba93-000003.jpg: 480x640 (no detections), 324.4ms\n",
      "image 85/341 C:\\Users\\hp\\Desktop\\YOLOv11_union_100\\yolo_union_test\\images\\30b28815-000024.jpg: 640x544 (no detections), 420.2ms\n",
      "image 86/341 C:\\Users\\hp\\Desktop\\YOLOv11_union_100\\yolo_union_test\\images\\30ea0125-43.jpeg: 448x640 1 motorcycle, 306.9ms\n",
      "image 87/341 C:\\Users\\hp\\Desktop\\YOLOv11_union_100\\yolo_union_test\\images\\311208c5-ChatGPT_Image_May_31_2025_at_03_44_06_PM.png: 448x640 1 bench, 1 suitcase, 979.9ms\n",
      "image 88/341 C:\\Users\\hp\\Desktop\\YOLOv11_union_100\\yolo_union_test\\images\\31b22dec-67.png: 416x640 (no detections), 310.2ms\n",
      "image 89/341 C:\\Users\\hp\\Desktop\\YOLOv11_union_100\\yolo_union_test\\images\\3397f725-PHOTO-2025-05-07-10-30-20_1.jpg: 320x640 (no detections), 257.5ms\n",
      "image 90/341 C:\\Users\\hp\\Desktop\\YOLOv11_union_100\\yolo_union_test\\images\\33e932cb-ChatGPT_Image_May_31_2025_at_02_36_30_PM.png: 448x640 1 person, 1 car, 1 bench, 1 umbrella, 1 suitcase, 2 laptops, 278.7ms\n",
      "image 91/341 C:\\Users\\hp\\Desktop\\YOLOv11_union_100\\yolo_union_test\\images\\35844eb8-000023.jpg: 576x640 1 airplane, 2 traffic lights, 374.5ms\n",
      "image 92/341 C:\\Users\\hp\\Desktop\\YOLOv11_union_100\\yolo_union_test\\images\\3656036a-ChatGPT_Image_May_31_2025_at_01_29_15_PM.png: 640x640 2 persons, 1 car, 1 suitcase, 1 chair, 1 laptop, 1897.1ms\n",
      "image 93/341 C:\\Users\\hp\\Desktop\\YOLOv11_union_100\\yolo_union_test\\images\\37b6e307-000144.jpg: 480x640 1 mouse, 2 cell phones, 535.4ms\n",
      "image 94/341 C:\\Users\\hp\\Desktop\\YOLOv11_union_100\\yolo_union_test\\images\\37ebc296-8.jpg: 448x640 1 car, 368.7ms\n",
      "image 95/341 C:\\Users\\hp\\Desktop\\YOLOv11_union_100\\yolo_union_test\\images\\37f7dfc2-000015.jpg: 480x640 1 umbrella, 403.1ms\n",
      "image 96/341 C:\\Users\\hp\\Desktop\\YOLOv11_union_100\\yolo_union_test\\images\\383dbe6b-000102.jpg: 640x544 1 bowl, 2 couchs, 13 potted plants, 1 dining table, 1 vase, 384.9ms\n",
      "image 97/341 C:\\Users\\hp\\Desktop\\YOLOv11_union_100\\yolo_union_test\\images\\386a0c93-000042.jpg: 480x640 3 benchs, 1 chair, 272.2ms\n",
      "image 98/341 C:\\Users\\hp\\Desktop\\YOLOv11_union_100\\yolo_union_test\\images\\39279b81-000027.jpg: 448x640 1 person, 2 cars, 1040.6ms\n",
      "image 99/341 C:\\Users\\hp\\Desktop\\YOLOv11_union_100\\yolo_union_test\\images\\39d43833-000030.jpg: 448x640 1 person, 1 cell phone, 1309.3ms\n",
      "image 100/341 C:\\Users\\hp\\Desktop\\YOLOv11_union_100\\yolo_union_test\\images\\3aedb2f5-000003.jpg: 640x640 1 bench, 1 chair, 1 couch, 2 potted plants, 850.2ms\n",
      "image 101/341 C:\\Users\\hp\\Desktop\\YOLOv11_union_100\\yolo_union_test\\images\\3b11f0a3-39.jpg: 384x640 1 tv, 667.1ms\n",
      "image 102/341 C:\\Users\\hp\\Desktop\\YOLOv11_union_100\\yolo_union_test\\images\\3b693309-33.png: 640x512 1 person, 470.8ms\n",
      "image 103/341 C:\\Users\\hp\\Desktop\\YOLOv11_union_100\\yolo_union_test\\images\\3b7f2b0a-22.webp: 384x640 1 motorcycle, 1051.5ms\n",
      "image 104/341 C:\\Users\\hp\\Desktop\\YOLOv11_union_100\\yolo_union_test\\images\\3bdb6636-000018.jpg: 448x640 (no detections), 1539.8ms\n",
      "image 105/341 C:\\Users\\hp\\Desktop\\YOLOv11_union_100\\yolo_union_test\\images\\3d0bc37d-000026.jpg: 640x640 1 airplane, 1 cell phone, 2118.7ms\n",
      "image 106/341 C:\\Users\\hp\\Desktop\\YOLOv11_union_100\\yolo_union_test\\images\\3e705fb7-000087.jpg: 448x640 1 bench, 1 umbrella, 1 chair, 3 potted plants, 1 dining table, 593.1ms\n",
      "image 107/341 C:\\Users\\hp\\Desktop\\YOLOv11_union_100\\yolo_union_test\\images\\3fff0650-000001.jpg: 384x640 1 cup, 3 chairs, 1 couch, 3 potted plants, 3 dining tables, 511.0ms\n",
      "image 108/341 C:\\Users\\hp\\Desktop\\YOLOv11_union_100\\yolo_union_test\\images\\412ae48f-000032.jpg: 640x480 6 potted plants, 1 vase, 930.0ms\n",
      "image 109/341 C:\\Users\\hp\\Desktop\\YOLOv11_union_100\\yolo_union_test\\images\\42e60d07-000001.jpg: 512x640 1 person, 456.6ms\n",
      "image 110/341 C:\\Users\\hp\\Desktop\\YOLOv11_union_100\\yolo_union_test\\images\\42f96893-000015.jpg: 288x640 1 person, 1 cell phone, 227.7ms\n",
      "image 111/341 C:\\Users\\hp\\Desktop\\YOLOv11_union_100\\yolo_union_test\\images\\4323bf9d-000025.jpg: 448x640 1 person, 1 cell phone, 325.2ms\n",
      "image 112/341 C:\\Users\\hp\\Desktop\\YOLOv11_union_100\\yolo_union_test\\images\\439d8bb1-4.png: 448x640 (no detections), 2715.6ms\n",
      "image 113/341 C:\\Users\\hp\\Desktop\\YOLOv11_union_100\\yolo_union_test\\images\\43e2ac6e-10.png: 640x640 (no detections), 763.2ms\n",
      "image 114/341 C:\\Users\\hp\\Desktop\\YOLOv11_union_100\\yolo_union_test\\images\\4794166d-assets_task_01jwkfsaj2e9wb0gbx5sfjnz62_1748705874_img_1.webp: 448x640 7 potted plants, 261.8ms\n",
      "image 115/341 C:\\Users\\hp\\Desktop\\YOLOv11_union_100\\yolo_union_test\\images\\4794166d-assets_task_01jwkfsaj2e9wb0gbx5sfjnz62_1748705874_img_1_aug0.jpg: 448x640 3 potted plants, 550.1ms\n",
      "image 116/341 C:\\Users\\hp\\Desktop\\YOLOv11_union_100\\yolo_union_test\\images\\4ae47b9a-ChatGPT_Image_May_31_2025_at_02_10_58_PM.png: 448x640 1 person, 1 car, 1 boat, 316.1ms\n",
      "image 117/341 C:\\Users\\hp\\Desktop\\YOLOv11_union_100\\yolo_union_test\\images\\4b204475-ChatGPT_Image_9_May_2025_21_09_01.png: 448x640 1 motorcycle, 1 airplane, 1 truck, 240.6ms\n",
      "image 118/341 C:\\Users\\hp\\Desktop\\YOLOv11_union_100\\yolo_union_test\\images\\4baa0143-000028.jpg: 448x640 3 benchs, 2 potted plants, 279.9ms\n",
      "image 119/341 C:\\Users\\hp\\Desktop\\YOLOv11_union_100\\yolo_union_test\\images\\4c22c334-41.png: 448x640 (no detections), 2976.3ms\n",
      "image 120/341 C:\\Users\\hp\\Desktop\\YOLOv11_union_100\\yolo_union_test\\images\\4d9a1c0f-ChatGPT_Image_31_May_2025_13_43_42.png: 640x576 (no detections), 1272.0ms\n",
      "image 121/341 C:\\Users\\hp\\Desktop\\YOLOv11_union_100\\yolo_union_test\\images\\4de73775-000050.jpg: 480x640 2 chairs, 424.2ms\n",
      "image 122/341 C:\\Users\\hp\\Desktop\\YOLOv11_union_100\\yolo_union_test\\images\\4de81c43-000025.jpg: 640x640 1 airplane, 527.4ms\n",
      "image 123/341 C:\\Users\\hp\\Desktop\\YOLOv11_union_100\\yolo_union_test\\images\\4e5b215c-OIP_1.jpeg: 512x640 1 person, 1 car, 492.8ms\n",
      "image 124/341 C:\\Users\\hp\\Desktop\\YOLOv11_union_100\\yolo_union_test\\images\\4ef8a0bc-PHOTO-2025-05-07-10-30-20_3.jpg: 416x640 (no detections), 417.9ms\n",
      "image 125/341 C:\\Users\\hp\\Desktop\\YOLOv11_union_100\\yolo_union_test\\images\\4f8492ca-000005.jpg: 448x640 9 persons, 3 cell phones, 302.6ms\n",
      "image 126/341 C:\\Users\\hp\\Desktop\\YOLOv11_union_100\\yolo_union_test\\images\\4fc9efab-ChatGPT_Image_May_31_2025_at_12_50_36_PM.png: 448x640 1 person, 3 boats, 1 umbrella, 260.6ms\n",
      "image 127/341 C:\\Users\\hp\\Desktop\\YOLOv11_union_100\\yolo_union_test\\images\\4fd9c989-20ee8e65-59d0-4dae-a3eb-43b9136eef7e.jpeg: 640x480 (no detections), 284.6ms\n",
      "image 128/341 C:\\Users\\hp\\Desktop\\YOLOv11_union_100\\yolo_union_test\\images\\4ffa8a27-Escalera_de_madera_reciclada.jpeg: 640x416 2 vases, 525.9ms\n",
      "image 129/341 C:\\Users\\hp\\Desktop\\YOLOv11_union_100\\yolo_union_test\\images\\517e7b47-20250510_2120_Bo_Aile_Bahesi_simple_compose_01jtxt5cg6f3zbpr2hdj0cke3p.png: 640x448 2 umbrellas, 1 kite, 5 chairs, 1 couch, 2 dining tables, 323.6ms\n",
      "image 130/341 C:\\Users\\hp\\Desktop\\YOLOv11_union_100\\yolo_union_test\\images\\520c94eb-000057.jpg: 480x640 3 chairs, 607.8ms\n",
      "image 131/341 C:\\Users\\hp\\Desktop\\YOLOv11_union_100\\yolo_union_test\\images\\5343539a-000094.jpg: 640x640 1 bench, 1 potted plant, 540.8ms\n",
      "image 132/341 C:\\Users\\hp\\Desktop\\YOLOv11_union_100\\yolo_union_test\\images\\5481345d-50.png: 448x640 (no detections), 487.7ms\n",
      "image 133/341 C:\\Users\\hp\\Desktop\\YOLOv11_union_100\\yolo_union_test\\images\\54c7d727-000036.jpg: 448x640 1 bench, 3 chairs, 681.4ms\n",
      "image 134/341 C:\\Users\\hp\\Desktop\\YOLOv11_union_100\\yolo_union_test\\images\\55b9c815-000040.jpg: 448x640 1 person, 2 baseball bats, 436.8ms\n",
      "image 135/341 C:\\Users\\hp\\Desktop\\YOLOv11_union_100\\yolo_union_test\\images\\55f0f3e4-000001.jpg: 448x640 (no detections), 596.0ms\n",
      "image 136/341 C:\\Users\\hp\\Desktop\\YOLOv11_union_100\\yolo_union_test\\images\\56881870-PHOTO-2025-05-07-10-21-03_1.jpg: 384x640 (no detections), 1064.1ms\n",
      "image 137/341 C:\\Users\\hp\\Desktop\\YOLOv11_union_100\\yolo_union_test\\images\\573a034d-6.jpg: 640x480 1 bench, 1 potted plant, 617.5ms\n",
      "image 138/341 C:\\Users\\hp\\Desktop\\YOLOv11_union_100\\yolo_union_test\\images\\57f0eeda-53.jpg: 448x640 1 person, 1 bicycle, 448.8ms\n",
      "image 139/341 C:\\Users\\hp\\Desktop\\YOLOv11_union_100\\yolo_union_test\\images\\596f5047-63.png: 384x640 (no detections), 872.4ms\n",
      "image 140/341 C:\\Users\\hp\\Desktop\\YOLOv11_union_100\\yolo_union_test\\images\\5a790555-58.png: 480x640 1 bench, 467.9ms\n",
      "image 141/341 C:\\Users\\hp\\Desktop\\YOLOv11_union_100\\yolo_union_test\\images\\5b5c14fc-20.webp: 480x640 (no detections), 459.4ms\n",
      "image 142/341 C:\\Users\\hp\\Desktop\\YOLOv11_union_100\\yolo_union_test\\images\\5b76ffe8-000027.jpg: 384x640 1 bed, 255.6ms\n",
      "image 143/341 C:\\Users\\hp\\Desktop\\YOLOv11_union_100\\yolo_union_test\\images\\5bccd4a5-000029.jpg: 480x640 (no detections), 514.1ms\n",
      "image 144/341 C:\\Users\\hp\\Desktop\\YOLOv11_union_100\\yolo_union_test\\images\\5ce5819a-000123.jpg: 640x576 1 bench, 2141.4ms\n",
      "image 145/341 C:\\Users\\hp\\Desktop\\YOLOv11_union_100\\yolo_union_test\\images\\5d3b488d-000109.jpg: 640x480 1 bench, 2 kites, 340.9ms\n",
      "image 146/341 C:\\Users\\hp\\Desktop\\YOLOv11_union_100\\yolo_union_test\\images\\5e0626f3-ChatGPT_Image_May_31_2025_at_12_32_11_PM.png: 448x640 1 person, 2 benchs, 2 umbrellas, 1 suitcase, 1 chair, 1 laptop, 246.9ms\n",
      "image 147/341 C:\\Users\\hp\\Desktop\\YOLOv11_union_100\\yolo_union_test\\images\\5e28e408-000046.jpg: 384x640 1 person, 1 cell phone, 1079.8ms\n",
      "image 148/341 C:\\Users\\hp\\Desktop\\YOLOv11_union_100\\yolo_union_test\\images\\5f0b0e5d-000011.jpg: 640x576 1 bench, 1 orange, 672.7ms\n",
      "image 149/341 C:\\Users\\hp\\Desktop\\YOLOv11_union_100\\yolo_union_test\\images\\5f606663-assets_task_01jwke5nh4fkar2nk7sqvchkjt_1748704181_img_1.webp: 448x640 1 suitcase, 3 chairs, 6 potted plants, 1 dining table, 432.4ms\n",
      "image 150/341 C:\\Users\\hp\\Desktop\\YOLOv11_union_100\\yolo_union_test\\images\\5f606663-assets_task_01jwke5nh4fkar2nk7sqvchkjt_1748704181_img_1_aug0.jpg: 448x640 2 chairs, 4 potted plants, 346.7ms\n",
      "image 151/341 C:\\Users\\hp\\Desktop\\YOLOv11_union_100\\yolo_union_test\\images\\61666430-73.png: 576x640 (no detections), 747.5ms\n",
      "image 152/341 C:\\Users\\hp\\Desktop\\YOLOv11_union_100\\yolo_union_test\\images\\6193db88-60.png: 384x640 (no detections), 490.7ms\n",
      "image 153/341 C:\\Users\\hp\\Desktop\\YOLOv11_union_100\\yolo_union_test\\images\\61fcca71-27.jpg: 384x640 1 person, 3 benchs, 5 potted plants, 373.9ms\n",
      "image 154/341 C:\\Users\\hp\\Desktop\\YOLOv11_union_100\\yolo_union_test\\images\\62bac5ed-000104.jpg: 640x480 1 car, 1 potted plant, 376.6ms\n",
      "image 155/341 C:\\Users\\hp\\Desktop\\YOLOv11_union_100\\yolo_union_test\\images\\62f03543-29.png: 640x512 (no detections), 2740.5ms\n",
      "image 156/341 C:\\Users\\hp\\Desktop\\YOLOv11_union_100\\yolo_union_test\\images\\634a1141-OIP_2.jpeg: 576x640 (no detections), 917.2ms\n",
      "image 157/341 C:\\Users\\hp\\Desktop\\YOLOv11_union_100\\yolo_union_test\\images\\63c30959-000052.jpg: 448x640 5 persons, 1 umbrella, 2 cell phones, 492.6ms\n",
      "image 158/341 C:\\Users\\hp\\Desktop\\YOLOv11_union_100\\yolo_union_test\\images\\6451abbf-000018.jpg: 640x640 1 suitcase, 2 cell phones, 616.1ms\n",
      "image 159/341 C:\\Users\\hp\\Desktop\\YOLOv11_union_100\\yolo_union_test\\images\\64ee11a2-000064.jpg: 480x640 2 chairs, 10 potted plants, 755.3ms\n",
      "image 160/341 C:\\Users\\hp\\Desktop\\YOLOv11_union_100\\yolo_union_test\\images\\6521c56a-000065.jpg: 544x640 (no detections), 740.0ms\n",
      "image 161/341 C:\\Users\\hp\\Desktop\\YOLOv11_union_100\\yolo_union_test\\images\\6525daba-ChatGPT_Image_May_31_2025_at_03_18_43_PM.png: 448x640 1 person, 1 car, 2 umbrellas, 1 suitcase, 2 chairs, 1 dining table, 1 book, 318.4ms\n",
      "image 162/341 C:\\Users\\hp\\Desktop\\YOLOv11_union_100\\yolo_union_test\\images\\65bdb067-000074.jpg: 544x640 1 airplane, 585.5ms\n",
      "image 163/341 C:\\Users\\hp\\Desktop\\YOLOv11_union_100\\yolo_union_test\\images\\66135809-jhb.jpg: 384x640 3 persons, 2 cell phones, 326.6ms\n",
      "image 164/341 C:\\Users\\hp\\Desktop\\YOLOv11_union_100\\yolo_union_test\\images\\663b4d30-6.png: 448x640 1 umbrella, 325.1ms\n",
      "image 165/341 C:\\Users\\hp\\Desktop\\YOLOv11_union_100\\yolo_union_test\\images\\66c0a58c-000031.jpg: 640x640 (no detections), 394.2ms\n",
      "image 166/341 C:\\Users\\hp\\Desktop\\YOLOv11_union_100\\yolo_union_test\\images\\66cb5766-000084_aug0.jpg: 448x640 1 person, 1 cell phone, 247.3ms\n",
      "image 167/341 C:\\Users\\hp\\Desktop\\YOLOv11_union_100\\yolo_union_test\\images\\66e66907-000036.jpg: 448x640 1 person, 1 skateboard, 369.4ms\n",
      "image 168/341 C:\\Users\\hp\\Desktop\\YOLOv11_union_100\\yolo_union_test\\images\\66e66907-000036_aug1.jpg: 448x640 (no detections), 406.1ms\n",
      "image 169/341 C:\\Users\\hp\\Desktop\\YOLOv11_union_100\\yolo_union_test\\images\\680305a6-23.png: 416x640 (no detections), 792.5ms\n",
      "image 170/341 C:\\Users\\hp\\Desktop\\YOLOv11_union_100\\yolo_union_test\\images\\69d27eb2-20250507_1505_Garden_Security_View_simple_compose_01jtndhhnnfqbtm3w71jgf8dhh_1.png: 448x640 1 chair, 1 potted plant, 1 cell phone, 2 books, 784.0ms\n",
      "image 171/341 C:\\Users\\hp\\Desktop\\YOLOv11_union_100\\yolo_union_test\\images\\6b405520-jason-leung-QTC7ur_ZKS0-unsplash.jpg: 640x448 1 bicycle, 348.0ms\n",
      "image 172/341 C:\\Users\\hp\\Desktop\\YOLOv11_union_100\\yolo_union_test\\images\\6b65c7e0-000021.jpg: 640x640 1 chair, 1 potted plant, 1 vase, 559.1ms\n",
      "image 173/341 C:\\Users\\hp\\Desktop\\YOLOv11_union_100\\yolo_union_test\\images\\6d500f29-000012jn.jpg: 416x640 4 persons, 2 cell phones, 257.0ms\n",
      "image 174/341 C:\\Users\\hp\\Desktop\\YOLOv11_union_100\\yolo_union_test\\images\\6e02b538-000039_aug1.jpg: 384x640 1 person, 2 chairs, 1 potted plant, 1 dining table, 1 cell phone, 253.5ms\n",
      "image 175/341 C:\\Users\\hp\\Desktop\\YOLOv11_union_100\\yolo_union_test\\images\\6f0869d1-49.png: 448x640 (no detections), 502.1ms\n",
      "image 176/341 C:\\Users\\hp\\Desktop\\YOLOv11_union_100\\yolo_union_test\\images\\6f21aedb-000031.jpg: 448x640 2 persons, 1 bench, 176.2ms\n",
      "image 177/341 C:\\Users\\hp\\Desktop\\YOLOv11_union_100\\yolo_union_test\\images\\6fb557de-000049.jpg: 416x640 1 chair, 2 couchs, 2 beds, 164.7ms\n",
      "image 178/341 C:\\Users\\hp\\Desktop\\YOLOv11_union_100\\yolo_union_test\\images\\6fd68731-000008.jpg: 352x640 2 cars, 351.6ms\n",
      "image 179/341 C:\\Users\\hp\\Desktop\\YOLOv11_union_100\\yolo_union_test\\images\\71ce8e1a-pexels-iryna-stasiukova-53852-212185.jpg: 640x640 1 person, 323.7ms\n",
      "image 180/341 C:\\Users\\hp\\Desktop\\YOLOv11_union_100\\yolo_union_test\\images\\73665c20-Transform_an_old_ladder_into_a_place_to_hold.jpeg: 640x448 (no detections), 193.5ms\n",
      "image 181/341 C:\\Users\\hp\\Desktop\\YOLOv11_union_100\\yolo_union_test\\images\\73cd3be6-PHOTO-2025-05-07-14-38-31.jpg: 576x640 (no detections), 242.0ms\n",
      "image 182/341 C:\\Users\\hp\\Desktop\\YOLOv11_union_100\\yolo_union_test\\images\\73f30787-000034.jpg: 448x640 1 kite, 1 cell phone, 389.7ms\n",
      "image 183/341 C:\\Users\\hp\\Desktop\\YOLOv11_union_100\\yolo_union_test\\images\\7524c04e-000005.jpg: 640x640 2 cell phones, 256.1ms\n",
      "image 184/341 C:\\Users\\hp\\Desktop\\YOLOv11_union_100\\yolo_union_test\\images\\75e4dcfc-assets_task_01jwkebn19fe09rdf4h2bwgwgp_1748704372_img_1_aug1.jpg: 448x640 (no detections), 259.8ms\n",
      "image 185/341 C:\\Users\\hp\\Desktop\\YOLOv11_union_100\\yolo_union_test\\images\\771bf67b-d3269ee31978467fb42bf4e2.jpeg: 640x640 7 potted plants, 352.9ms\n",
      "image 186/341 C:\\Users\\hp\\Desktop\\YOLOv11_union_100\\yolo_union_test\\images\\7880975d-56.png: 640x640 1 bench, 471.5ms\n",
      "image 187/341 C:\\Users\\hp\\Desktop\\YOLOv11_union_100\\yolo_union_test\\images\\79d134bf-23.png: 512x640 1 bench, 793.7ms\n",
      "image 188/341 C:\\Users\\hp\\Desktop\\YOLOv11_union_100\\yolo_union_test\\images\\7a7601fd-20250507_1447_Backyard_Essentials_simple_compose_01jtnch0wwfqstgky4yqwfrgt7.png: 640x448 (no detections), 269.4ms\n",
      "image 189/341 C:\\Users\\hp\\Desktop\\YOLOv11_union_100\\yolo_union_test\\images\\7b651689-000002.jpg: 480x640 1 wine glass, 4 chairs, 7 potted plants, 1 dining table, 294.1ms\n",
      "image 190/341 C:\\Users\\hp\\Desktop\\YOLOv11_union_100\\yolo_union_test\\images\\7ce494a5-000012.jpg: 480x640 2 benchs, 978.0ms\n",
      "image 191/341 C:\\Users\\hp\\Desktop\\YOLOv11_union_100\\yolo_union_test\\images\\7ddeb41f-000006.jpg: 544x640 1 airplane, 1 scissors, 430.8ms\n",
      "image 192/341 C:\\Users\\hp\\Desktop\\YOLOv11_union_100\\yolo_union_test\\images\\7e547de1-assets_task_01jwkf58jvezt8rzdqnsvf7ade_1748705213_img_0_aug1.jpg: 448x640 1 potted plant, 276.9ms\n",
      "image 193/341 C:\\Users\\hp\\Desktop\\YOLOv11_union_100\\yolo_union_test\\images\\7ec83f30-Flux_Dev_A_wideangle_overhead_view_from_a_security_camera_of_a_3.jpg: 640x640 1 car, 14 potted plants, 530.9ms\n",
      "image 194/341 C:\\Users\\hp\\Desktop\\YOLOv11_union_100\\yolo_union_test\\images\\7f3e1561-24.png: 512x640 (no detections), 310.4ms\n",
      "image 195/341 C:\\Users\\hp\\Desktop\\YOLOv11_union_100\\yolo_union_test\\images\\80fd7d8b-000032.jpg: 448x640 1 person, 1032.1ms\n",
      "image 196/341 C:\\Users\\hp\\Desktop\\YOLOv11_union_100\\yolo_union_test\\images\\8137d146-OIP_1.jpeg: 640x448 1 motorcycle, 357.1ms\n",
      "image 197/341 C:\\Users\\hp\\Desktop\\YOLOv11_union_100\\yolo_union_test\\images\\8226d390-000035.jpg: 480x640 (no detections), 471.5ms\n",
      "image 198/341 C:\\Users\\hp\\Desktop\\YOLOv11_union_100\\yolo_union_test\\images\\836a5712-000045.jpg: 448x640 1 bench, 2 chairs, 1 potted plant, 1 dining table, 1068.7ms\n",
      "image 199/341 C:\\Users\\hp\\Desktop\\YOLOv11_union_100\\yolo_union_test\\images\\851f2d73-000079.jpg: 640x640 1 umbrella, 473.7ms\n",
      "image 200/341 C:\\Users\\hp\\Desktop\\YOLOv11_union_100\\yolo_union_test\\images\\860fbc2c-65.jpg: 640x640 1 motorcycle, 1 potted plant, 493.2ms\n",
      "image 201/341 C:\\Users\\hp\\Desktop\\YOLOv11_union_100\\yolo_union_test\\images\\863e74f9-000064.jpg: 640x640 1 umbrella, 400.8ms\n",
      "image 202/341 C:\\Users\\hp\\Desktop\\YOLOv11_union_100\\yolo_union_test\\images\\8686a6da-assets_task_01jwkxkbamemcat0x3m500hfba_1748720350_img_0_aug1.jpg: 448x640 (no detections), 365.6ms\n",
      "image 203/341 C:\\Users\\hp\\Desktop\\YOLOv11_union_100\\yolo_union_test\\images\\8686e5f8-assets_task_01jwkf12tkezwvcsncn2c8522b_1748705071_img_1_aug1.jpg: 448x640 (no detections), 876.0ms\n",
      "image 204/341 C:\\Users\\hp\\Desktop\\YOLOv11_union_100\\yolo_union_test\\images\\86c6e2e0-ChatGPT_Image_May_31_2025_at_02_01_44_PM.png: 448x640 1 person, 1 car, 1 boat, 1 bench, 1 suitcase, 306.7ms\n",
      "image 205/341 C:\\Users\\hp\\Desktop\\YOLOv11_union_100\\yolo_union_test\\images\\87d020db-000001.jpg: 640x512 2 benchs, 1 chair, 791.9ms\n",
      "image 206/341 C:\\Users\\hp\\Desktop\\YOLOv11_union_100\\yolo_union_test\\images\\8a8231a2-78.jpeg: 448x640 1 bicycle, 449.5ms\n",
      "image 207/341 C:\\Users\\hp\\Desktop\\YOLOv11_union_100\\yolo_union_test\\images\\8a9d342b-OIF.jpeg: 640x640 1 skateboard, 1970.5ms\n",
      "image 208/341 C:\\Users\\hp\\Desktop\\YOLOv11_union_100\\yolo_union_test\\images\\8b1cf6cc-assets_task_01jwkxkbamemcat0x3m500hfba_1748720350_img_1.webp: 448x640 1 bicycle, 1 chair, 1 potted plant, 1 dining table, 1 laptop, 2 keyboards, 340.1ms\n",
      "image 209/341 C:\\Users\\hp\\Desktop\\YOLOv11_union_100\\yolo_union_test\\images\\8b1cf6cc-assets_task_01jwkxkbamemcat0x3m500hfba_1748720350_img_1_aug0.jpg: 448x640 1 bicycle, 1221.8ms\n",
      "image 210/341 C:\\Users\\hp\\Desktop\\YOLOv11_union_100\\yolo_union_test\\images\\8ce0a077-000099.jpg: 384x640 5 persons, 1 handbag, 776.0ms\n",
      "image 211/341 C:\\Users\\hp\\Desktop\\YOLOv11_union_100\\yolo_union_test\\images\\8d23067f-pexels-ninobur-17209161.jpg: 448x640 1 person, 238.7ms\n",
      "image 212/341 C:\\Users\\hp\\Desktop\\YOLOv11_union_100\\yolo_union_test\\images\\8dcfb85c-9.png: 448x640 (no detections), 334.6ms\n",
      "image 213/341 C:\\Users\\hp\\Desktop\\YOLOv11_union_100\\yolo_union_test\\images\\8f569523-31.png: 640x416 (no detections), 777.2ms\n",
      "image 214/341 C:\\Users\\hp\\Desktop\\YOLOv11_union_100\\yolo_union_test\\images\\8fb8d8fe-000008.jpg: 640x480 1 bench, 1 potted plant, 359.1ms\n",
      "image 215/341 C:\\Users\\hp\\Desktop\\YOLOv11_union_100\\yolo_union_test\\images\\910cf6d5-33.jpg: 480x640 1 dog, 1 suitcase, 2 bottles, 1 chair, 280.7ms\n",
      "image 216/341 C:\\Users\\hp\\Desktop\\YOLOv11_union_100\\yolo_union_test\\images\\9174b319-20250507_1447_Backyard_Essentials_simple_compose_01jtnch0wxepn9g1g7csvhsebk.png: 640x448 1 bicycle, 3 chairs, 2 dining tables, 251.1ms\n",
      "image 217/341 C:\\Users\\hp\\Desktop\\YOLOv11_union_100\\yolo_union_test\\images\\91dd0660-37.jpg: 384x640 4 bicycles, 1 chair, 2 potted plants, 273.6ms\n",
      "image 218/341 C:\\Users\\hp\\Desktop\\YOLOv11_union_100\\yolo_union_test\\images\\92d1eb0e-18.png: 448x640 (no detections), 263.7ms\n",
      "image 219/341 C:\\Users\\hp\\Desktop\\YOLOv11_union_100\\yolo_union_test\\images\\930e66d0-000044.jpg: 384x640 8 chairs, 1 potted plant, 255.0ms\n",
      "image 220/341 C:\\Users\\hp\\Desktop\\YOLOv11_union_100\\yolo_union_test\\images\\93319aee-000018.jpg: 480x640 3 potted plants, 831.8ms\n",
      "image 221/341 C:\\Users\\hp\\Desktop\\YOLOv11_union_100\\yolo_union_test\\images\\9537188f-17.png: 640x512 (no detections), 344.5ms\n",
      "image 222/341 C:\\Users\\hp\\Desktop\\YOLOv11_union_100\\yolo_union_test\\images\\95b39ef0-000029.jpg: 384x640 1 person, 1 backpack, 1 baseball bat, 283.8ms\n",
      "image 223/341 C:\\Users\\hp\\Desktop\\YOLOv11_union_100\\yolo_union_test\\images\\969f2d10-ChatGPT_Image_May_31_2025_at_01_15_36_PM.png: 448x640 1 car, 1 fire hydrant, 1 umbrella, 2 suitcases, 2 chairs, 299.7ms\n",
      "image 224/341 C:\\Users\\hp\\Desktop\\YOLOv11_union_100\\yolo_union_test\\images\\972cfa1a-assets_task_01jwkebn19fe09rdf4h2bwgwgp_1748704372_img_0_aug1.jpg: 448x640 (no detections), 661.1ms\n",
      "image 225/341 C:\\Users\\hp\\Desktop\\YOLOv11_union_100\\yolo_union_test\\images\\97b17010-OIP_7.jpeg: 384x640 (no detections), 294.2ms\n",
      "image 226/341 C:\\Users\\hp\\Desktop\\YOLOv11_union_100\\yolo_union_test\\images\\98e51efe-2.png: 640x640 (no detections), 397.4ms\n",
      "image 227/341 C:\\Users\\hp\\Desktop\\YOLOv11_union_100\\yolo_union_test\\images\\99cabbf9-000035.jpg: 448x640 1 person, 3 chairs, 1 dining table, 2 cell phones, 265.2ms\n",
      "image 228/341 C:\\Users\\hp\\Desktop\\YOLOv11_union_100\\yolo_union_test\\images\\9afbb3e1-000063.jpg: 640x640 (no detections), 334.1ms\n",
      "image 229/341 C:\\Users\\hp\\Desktop\\YOLOv11_union_100\\yolo_union_test\\images\\9c947a6d-000037.jpg: 448x640 3 persons, 2 cell phones, 303.1ms\n",
      "image 230/341 C:\\Users\\hp\\Desktop\\YOLOv11_union_100\\yolo_union_test\\images\\9de3db75-16.png: 480x640 (no detections), 277.4ms\n",
      "image 231/341 C:\\Users\\hp\\Desktop\\YOLOv11_union_100\\yolo_union_test\\images\\9f4c9448-000008.jpg: 512x640 1 umbrella, 1 sandwich, 6 chairs, 2 dining tables, 299.9ms\n",
      "image 232/341 C:\\Users\\hp\\Desktop\\YOLOv11_union_100\\yolo_union_test\\images\\a015dca0-000028.jpg: 640x640 1 airplane, 410.5ms\n",
      "image 233/341 C:\\Users\\hp\\Desktop\\YOLOv11_union_100\\yolo_union_test\\images\\a2c66af0-74.png: 416x640 (no detections), 293.2ms\n",
      "image 234/341 C:\\Users\\hp\\Desktop\\YOLOv11_union_100\\yolo_union_test\\images\\a359addd-jean-carlo-emer-fc6TE2JWang-unsplash.jpg: 448x640 1 bench, 299.6ms\n",
      "image 235/341 C:\\Users\\hp\\Desktop\\YOLOv11_union_100\\yolo_union_test\\images\\a4c088eb-29503-E7oc7HT1iqYpsxZx_aug1.jpg: 640x480 (no detections), 299.7ms\n",
      "image 236/341 C:\\Users\\hp\\Desktop\\YOLOv11_union_100\\yolo_union_test\\images\\a4cfd465-000090.jpg: 448x640 (no detections), 278.0ms\n",
      "image 237/341 C:\\Users\\hp\\Desktop\\YOLOv11_union_100\\yolo_union_test\\images\\a54d8015-35.webp: 384x640 1 bicycle, 1 backpack, 1 bowl, 1 chair, 1 dining table, 303.4ms\n",
      "image 238/341 C:\\Users\\hp\\Desktop\\YOLOv11_union_100\\yolo_union_test\\images\\a6ffdea1-PHOTO-2025-05-07-10-30-20.jpg: 416x640 1 bench, 264.3ms\n",
      "image 239/341 C:\\Users\\hp\\Desktop\\YOLOv11_union_100\\yolo_union_test\\images\\a7cddc3c-assets_task_01jwkx18w8f3arm46g22hxcej1_1748719761_img_1_aug1.jpg: 448x640 1 potted plant, 318.1ms\n",
      "image 240/341 C:\\Users\\hp\\Desktop\\YOLOv11_union_100\\yolo_union_test\\images\\a8943c43-ChatGPT_Image_May_17_2025_at_07_08_24_PM.png: 448x640 3 chairs, 1 dining table, 330.0ms\n",
      "image 241/341 C:\\Users\\hp\\Desktop\\YOLOv11_union_100\\yolo_union_test\\images\\a8e7f262-PXL_20250414_162524055-1.webp: 480x640 1 person, 1 skateboard, 1 couch, 5 potted plants, 334.6ms\n",
      "image 242/341 C:\\Users\\hp\\Desktop\\YOLOv11_union_100\\yolo_union_test\\images\\a975e44d-000055.jpg: 480x640 2 persons, 2 dogs, 1 umbrella, 423.9ms\n",
      "image 243/341 C:\\Users\\hp\\Desktop\\YOLOv11_union_100\\yolo_union_test\\images\\abd01bce-000002.jpg: 480x640 1 person, 349.3ms\n",
      "image 244/341 C:\\Users\\hp\\Desktop\\YOLOv11_union_100\\yolo_union_test\\images\\ac375d66-000046.jpg: 480x640 2 umbrellas, 2 chairs, 1 couch, 1 potted plant, 419.3ms\n",
      "image 245/341 C:\\Users\\hp\\Desktop\\YOLOv11_union_100\\yolo_union_test\\images\\addfc9e1-000035.jpg: 640x448 1 person, 1 dining table, 338.4ms\n",
      "image 246/341 C:\\Users\\hp\\Desktop\\YOLOv11_union_100\\yolo_union_test\\images\\b0d23721-PHOTO-2025-05-07-14-38-31_2.jpg: 544x640 (no detections), 1460.6ms\n",
      "image 247/341 C:\\Users\\hp\\Desktop\\YOLOv11_union_100\\yolo_union_test\\images\\b0f7f0bb-000102.jpg: 640x640 (no detections), 536.8ms\n",
      "image 248/341 C:\\Users\\hp\\Desktop\\YOLOv11_union_100\\yolo_union_test\\images\\b1e23ee5-PHOTO-2025-05-07-15-03-45_2.jpg: 608x640 (no detections), 451.5ms\n",
      "image 249/341 C:\\Users\\hp\\Desktop\\YOLOv11_union_100\\yolo_union_test\\images\\b2b0f72b-44.jpg: 416x640 1 motorcycle, 278.2ms\n",
      "image 250/341 C:\\Users\\hp\\Desktop\\YOLOv11_union_100\\yolo_union_test\\images\\b2cd402f-000029.jpg: 448x640 8 chairs, 1 potted plant, 331.5ms\n",
      "image 251/341 C:\\Users\\hp\\Desktop\\YOLOv11_union_100\\yolo_union_test\\images\\b3247a87-000027.jpg: 480x640 1 bench, 292.0ms\n",
      "image 252/341 C:\\Users\\hp\\Desktop\\YOLOv11_union_100\\yolo_union_test\\images\\b4459884-Escalera_de_madera_reciclada.jpeg: 640x416 (no detections), 331.2ms\n",
      "image 253/341 C:\\Users\\hp\\Desktop\\YOLOv11_union_100\\yolo_union_test\\images\\b7959f64-Flux_Dev_A_serene_and_vibrant_wideangle_shot_of_a_lush_backyar_0.jpg: 640x640 1 cup, 4 potted plants, 561.5ms\n",
      "image 254/341 C:\\Users\\hp\\Desktop\\YOLOv11_union_100\\yolo_union_test\\images\\b8a9e101-000044.jpg: 384x640 4 persons, 3 cell phones, 390.4ms\n",
      "image 255/341 C:\\Users\\hp\\Desktop\\YOLOv11_union_100\\yolo_union_test\\images\\b8a9e101-000044_aug0.jpg: 384x640 4 persons, 3 cell phones, 293.2ms\n",
      "image 256/341 C:\\Users\\hp\\Desktop\\YOLOv11_union_100\\yolo_union_test\\images\\bb8b94c3-000100.jpg: 640x640 8 chairs, 7 potted plants, 1 dining table, 1 vase, 639.4ms\n",
      "image 257/341 C:\\Users\\hp\\Desktop\\YOLOv11_union_100\\yolo_union_test\\images\\bbf25cad-20250507_1455_Cozy_Garden_Snapshot_simple_compose_01jtncxq45e398hz04w66k4h0d.png: 640x448 1 umbrella, 1 potted plant, 763.9ms\n",
      "image 258/341 C:\\Users\\hp\\Desktop\\YOLOv11_union_100\\yolo_union_test\\images\\bc51fa0e-Flux_Dev_A_wideangle_overhead_view_from_a_security_camera_of_a_2_1.jpg: 640x640 1 bench, 1 skateboard, 2 chairs, 7 potted plants, 425.6ms\n",
      "image 259/341 C:\\Users\\hp\\Desktop\\YOLOv11_union_100\\yolo_union_test\\images\\bd69eba8-20250531_1612_Garden_Cam_View_simple_compose_01jwkawmd9fdjtrhh1467a0aah.png: 640x448 (no detections), 278.6ms\n",
      "image 260/341 C:\\Users\\hp\\Desktop\\YOLOv11_union_100\\yolo_union_test\\images\\bf2de3c5-000043.jpg: 640x640 1 person, 1 surfboard, 1 potted plant, 376.5ms\n",
      "image 261/341 C:\\Users\\hp\\Desktop\\YOLOv11_union_100\\yolo_union_test\\images\\c13a077e-000067.jpg: 640x640 1 toilet, 368.3ms\n",
      "image 262/341 C:\\Users\\hp\\Desktop\\YOLOv11_union_100\\yolo_union_test\\images\\c1dde798-30.png: 416x640 (no detections), 238.3ms\n",
      "image 263/341 C:\\Users\\hp\\Desktop\\YOLOv11_union_100\\yolo_union_test\\images\\c2d68b2a-78.jpg: 640x640 1 motorcycle, 1 bench, 330.3ms\n",
      "image 264/341 C:\\Users\\hp\\Desktop\\YOLOv11_union_100\\yolo_union_test\\images\\c35bfb4c-000060.jpg: 640x448 1 person, 1 tie, 1 cell phone, 253.6ms\n",
      "image 265/341 C:\\Users\\hp\\Desktop\\YOLOv11_union_100\\yolo_union_test\\images\\c35cb5a6-OIP_5.jpeg: 480x640 1 person, 1 car, 1 horse, 266.5ms\n",
      "image 266/341 C:\\Users\\hp\\Desktop\\YOLOv11_union_100\\yolo_union_test\\images\\c377645d-assets_task_01jwkfdkyrf8ztz1epn6yjqt07_1748705484_img_1_aug0.jpg: 448x640 11 potted plants, 242.3ms\n",
      "image 267/341 C:\\Users\\hp\\Desktop\\YOLOv11_union_100\\yolo_union_test\\images\\c3a63854-000034.jpg: 640x608 (no detections), 353.9ms\n",
      "image 268/341 C:\\Users\\hp\\Desktop\\YOLOv11_union_100\\yolo_union_test\\images\\c41e7c78-000094.jpg: 480x640 (no detections), 281.8ms\n",
      "image 269/341 C:\\Users\\hp\\Desktop\\YOLOv11_union_100\\yolo_union_test\\images\\c518aed6-ChatGPT_Image_May_31_2025_at_01_06_44_PM.png: 640x640 2 persons, 1 umbrella, 1 suitcase, 1 laptop, 545.0ms\n",
      "image 270/341 C:\\Users\\hp\\Desktop\\YOLOv11_union_100\\yolo_union_test\\images\\c5c8ede4-000043.jpg: 384x640 1 person, 1 baseball bat, 240.3ms\n",
      "image 271/341 C:\\Users\\hp\\Desktop\\YOLOv11_union_100\\yolo_union_test\\images\\c6048bfc-ChatGPT_Image_May_31_2025_at_02_24_06_PM.png: 448x640 1 person, 1 car, 1 bench, 2 umbrellas, 1 chair, 1 laptop, 250.4ms\n",
      "image 272/341 C:\\Users\\hp\\Desktop\\YOLOv11_union_100\\yolo_union_test\\images\\c7a9b6c6-22.png: 544x640 (no detections), 383.9ms\n",
      "image 273/341 C:\\Users\\hp\\Desktop\\YOLOv11_union_100\\yolo_union_test\\images\\c940d05f-000018_aug1.jpg: 640x448 (no detections), 528.3ms\n",
      "image 274/341 C:\\Users\\hp\\Desktop\\YOLOv11_union_100\\yolo_union_test\\images\\cc239720-55.jpg: 448x640 1 motorcycle, 288.1ms\n",
      "image 275/341 C:\\Users\\hp\\Desktop\\YOLOv11_union_100\\yolo_union_test\\images\\ccdd6fc9-000040.jpg: 480x640 1 person, 1 boat, 302.7ms\n",
      "image 276/341 C:\\Users\\hp\\Desktop\\YOLOv11_union_100\\yolo_union_test\\images\\cd377bd8-000018.jpg: 640x544 (no detections), 327.4ms\n",
      "image 277/341 C:\\Users\\hp\\Desktop\\YOLOv11_union_100\\yolo_union_test\\images\\cd3f1db5-000038.jpg: 448x640 1 person, 269.7ms\n",
      "image 278/341 C:\\Users\\hp\\Desktop\\YOLOv11_union_100\\yolo_union_test\\images\\cd4cfc1a-62.png: 576x640 (no detections), 374.5ms\n",
      "image 279/341 C:\\Users\\hp\\Desktop\\YOLOv11_union_100\\yolo_union_test\\images\\cf491c76-PHOTO-2025-05-07-10-30-20_2.jpg: 448x640 (no detections), 280.1ms\n",
      "image 280/341 C:\\Users\\hp\\Desktop\\YOLOv11_union_100\\yolo_union_test\\images\\d1ce49ff-000047.jpg: 640x640 1 person, 1 baseball bat, 605.0ms\n",
      "image 281/341 C:\\Users\\hp\\Desktop\\YOLOv11_union_100\\yolo_union_test\\images\\d1e3bc34-20250507_1505_Garden_Security_View_simple_compose_01jtndhhnpfppv645xkr2gf9r7.png: 448x640 1 bicycle, 1 car, 2 potted plants, 1 dining table, 1 book, 237.4ms\n",
      "image 282/341 C:\\Users\\hp\\Desktop\\YOLOv11_union_100\\yolo_union_test\\images\\d3a758a1-000036.jpg: 448x640 1 bench, 1 cup, 3 chairs, 1 dining table, 254.1ms\n",
      "image 283/341 C:\\Users\\hp\\Desktop\\YOLOv11_union_100\\yolo_union_test\\images\\d3c7a31a-ChatGPT_Image_31_May_2025_13_39_11.png: 576x640 1 chair, 315.2ms\n",
      "image 284/341 C:\\Users\\hp\\Desktop\\YOLOv11_union_100\\yolo_union_test\\images\\d43b71f0-000041.jpg: 448x640 5 persons, 1 cell phone, 295.4ms\n",
      "image 285/341 C:\\Users\\hp\\Desktop\\YOLOv11_union_100\\yolo_union_test\\images\\d508c198-000036.jpg: 512x640 (no detections), 304.2ms\n",
      "image 286/341 C:\\Users\\hp\\Desktop\\YOLOv11_union_100\\yolo_union_test\\images\\d5c3c389-ccb399d0f7a7-leadchainsaws.jpg: 320x640 1 person, 1 bottle, 258.4ms\n",
      "image 287/341 C:\\Users\\hp\\Desktop\\YOLOv11_union_100\\yolo_union_test\\images\\d7c373f4-mustakil_ev_bahce_dekorasyonu.jpg: 448x640 6 chairs, 8 potted plants, 1 dining table, 265.2ms\n",
      "image 288/341 C:\\Users\\hp\\Desktop\\YOLOv11_union_100\\yolo_union_test\\images\\d7d7387e-000074.jpg: 448x640 5 chairs, 2 potted plants, 261.6ms\n",
      "image 289/341 C:\\Users\\hp\\Desktop\\YOLOv11_union_100\\yolo_union_test\\images\\d7fb345b-MSA_200_chainsaw_Usage1_1024x10242x.webp: 640x640 1 person, 352.9ms\n",
      "image 290/341 C:\\Users\\hp\\Desktop\\YOLOv11_union_100\\yolo_union_test\\images\\d82865c4-000024_aug0.jpg: 448x640 2 boats, 249.5ms\n",
      "image 291/341 C:\\Users\\hp\\Desktop\\YOLOv11_union_100\\yolo_union_test\\images\\d8b69405-WhatsApp_Grsel_2025-05-17_saat_19.30.19_70c1344e.jpg: 480x640 (no detections), 866.4ms\n",
      "image 292/341 C:\\Users\\hp\\Desktop\\YOLOv11_union_100\\yolo_union_test\\images\\d9a6dedd-000051_aug1.jpg: 448x640 1 person, 1 surfboard, 289.3ms\n",
      "image 293/341 C:\\Users\\hp\\Desktop\\YOLOv11_union_100\\yolo_union_test\\images\\de10f9c5-36.png: 640x576 (no detections), 385.7ms\n",
      "image 294/341 C:\\Users\\hp\\Desktop\\YOLOv11_union_100\\yolo_union_test\\images\\de7fa2fc-000105.jpg: 384x640 (no detections), 318.8ms\n",
      "image 295/341 C:\\Users\\hp\\Desktop\\YOLOv11_union_100\\yolo_union_test\\images\\de97956b-000016.jpg: 480x640 1 umbrella, 268.4ms\n",
      "image 296/341 C:\\Users\\hp\\Desktop\\YOLOv11_union_100\\yolo_union_test\\images\\ded0df40-34.png: 448x640 (no detections), 310.6ms\n",
      "image 297/341 C:\\Users\\hp\\Desktop\\YOLOv11_union_100\\yolo_union_test\\images\\e19718a4-000113.jpg: 640x512 (no detections), 314.6ms\n",
      "image 298/341 C:\\Users\\hp\\Desktop\\YOLOv11_union_100\\yolo_union_test\\images\\e1e52fd0-10.png: 416x640 (no detections), 266.4ms\n",
      "image 299/341 C:\\Users\\hp\\Desktop\\YOLOv11_union_100\\yolo_union_test\\images\\e21bd206-04.jpg: 640x480 1 person, 1 bicycle, 382.4ms\n",
      "image 300/341 C:\\Users\\hp\\Desktop\\YOLOv11_union_100\\yolo_union_test\\images\\e2721968-000021.jpg: 480x640 2 persons, 295.2ms\n",
      "image 301/341 C:\\Users\\hp\\Desktop\\YOLOv11_union_100\\yolo_union_test\\images\\e2b02c39-000013.jpg: 448x640 1 person, 463.6ms\n",
      "image 302/341 C:\\Users\\hp\\Desktop\\YOLOv11_union_100\\yolo_union_test\\images\\e2d75cb2-assets_task_01jwkefst8fmc9vxvrs9b5npb9_1748704513_img_1_aug1.jpg: 448x640 1 suitcase, 246.5ms\n",
      "image 303/341 C:\\Users\\hp\\Desktop\\YOLOv11_union_100\\yolo_union_test\\images\\e30e46e0-ChatGPT_Image_May_31_2025_at_01_31_14_PM.png: 448x640 1 person, 1 car, 1 bench, 1 umbrella, 1 suitcase, 1 chair, 1 laptop, 249.0ms\n",
      "image 304/341 C:\\Users\\hp\\Desktop\\YOLOv11_union_100\\yolo_union_test\\images\\e38ef466-51.png: 448x640 1 umbrella, 244.0ms\n",
      "image 305/341 C:\\Users\\hp\\Desktop\\YOLOv11_union_100\\yolo_union_test\\images\\e3ebbe7a-000061.jpg: 448x640 1 fire hydrant, 526.7ms\n",
      "image 306/341 C:\\Users\\hp\\Desktop\\YOLOv11_union_100\\yolo_union_test\\images\\e4fb14a2-000204.jpg: 384x640 1 person, 1 potted plant, 1 cell phone, 320.2ms\n",
      "image 307/341 C:\\Users\\hp\\Desktop\\YOLOv11_union_100\\yolo_union_test\\images\\e63dd75b-20250506_144401.jpg: 480x640 1 bench, 301.1ms\n",
      "image 308/341 C:\\Users\\hp\\Desktop\\YOLOv11_union_100\\yolo_union_test\\images\\e63f35d2-000030.jpg: 448x640 1 person, 305.8ms\n",
      "image 309/341 C:\\Users\\hp\\Desktop\\YOLOv11_union_100\\yolo_union_test\\images\\e70ec9c4-000003.jpg: 320x640 1 bench, 2 chairs, 261.3ms\n",
      "image 310/341 C:\\Users\\hp\\Desktop\\YOLOv11_union_100\\yolo_union_test\\images\\e894bfb4-26.png: 448x640 (no detections), 275.6ms\n",
      "image 311/341 C:\\Users\\hp\\Desktop\\YOLOv11_union_100\\yolo_union_test\\images\\e9e8fb11-ChatGPT_Image_May_17_2025_at_07_08_30_PM.png: 448x640 1 umbrella, 430.6ms\n",
      "image 312/341 C:\\Users\\hp\\Desktop\\YOLOv11_union_100\\yolo_union_test\\images\\ec7a63c4-OIP_6.jpeg: 480x640 1 bicycle, 1 motorcycle, 357.0ms\n",
      "image 313/341 C:\\Users\\hp\\Desktop\\YOLOv11_union_100\\yolo_union_test\\images\\ecc74c2c-75.jpg: 640x512 5 motorcycles, 287.4ms\n",
      "image 314/341 C:\\Users\\hp\\Desktop\\YOLOv11_union_100\\yolo_union_test\\images\\ecf4195f-000170fvhbjn.jpg: 608x640 6 persons, 1 backpack, 3 chairs, 1 dining table, 1 tv, 3 cell phones, 387.7ms\n",
      "image 315/341 C:\\Users\\hp\\Desktop\\YOLOv11_union_100\\yolo_union_test\\images\\ed1e34cb-000020.jpg: 640x544 1 bench, 336.9ms\n",
      "image 316/341 C:\\Users\\hp\\Desktop\\YOLOv11_union_100\\yolo_union_test\\images\\eded3d7f-ppppppp.jpeg: 576x640 3 cars, 341.1ms\n",
      "image 317/341 C:\\Users\\hp\\Desktop\\YOLOv11_union_100\\yolo_union_test\\images\\ee2875fe-ChatGPT_Image_May_31_2025_at_03_42_13_PM.png: 448x640 1 bench, 1 chair, 242.7ms\n",
      "image 318/341 C:\\Users\\hp\\Desktop\\YOLOv11_union_100\\yolo_union_test\\images\\ee318c42-20250507_1505_Garden_Security_View_simple_compose_01jtndhhnnfqbtm3w71jgf8dhh.png: 448x640 1 bench, 1 potted plant, 228.4ms\n",
      "image 319/341 C:\\Users\\hp\\Desktop\\YOLOv11_union_100\\yolo_union_test\\images\\ee54b06f-assets_task_01jwkf58jvezt8rzdqnsvf7ade_1748705213_img_1_aug0.jpg: 448x640 1 fire hydrant, 1 bench, 2 potted plants, 254.1ms\n",
      "image 320/341 C:\\Users\\hp\\Desktop\\YOLOv11_union_100\\yolo_union_test\\images\\ee9305f5-69.png: 352x640 (no detections), 253.6ms\n",
      "image 321/341 C:\\Users\\hp\\Desktop\\YOLOv11_union_100\\yolo_union_test\\images\\eeffa3bf-000040.jpg: 576x640 6 persons, 298.6ms\n",
      "image 322/341 C:\\Users\\hp\\Desktop\\YOLOv11_union_100\\yolo_union_test\\images\\f0dfcdaf-000086.jpg: 640x544 1 chair, 1 potted plant, 579.4ms\n",
      "image 323/341 C:\\Users\\hp\\Desktop\\YOLOv11_union_100\\yolo_union_test\\images\\f21c9834-000004.jpeg: 448x640 1 person, 1 cell phone, 303.7ms\n",
      "image 324/341 C:\\Users\\hp\\Desktop\\YOLOv11_union_100\\yolo_union_test\\images\\f21fed8d-000055.jpg: 640x640 1 chair, 14 potted plants, 671.4ms\n",
      "image 325/341 C:\\Users\\hp\\Desktop\\YOLOv11_union_100\\yolo_union_test\\images\\f367d3c1-41.jpg: 384x640 (no detections), 459.8ms\n",
      "image 326/341 C:\\Users\\hp\\Desktop\\YOLOv11_union_100\\yolo_union_test\\images\\f4824e68-20250507_1505_Garden_Security_View_simple_compose_01jtndhhnmfa29cgqqn6g7xzgg.png: 448x640 1 umbrella, 343.3ms\n",
      "image 327/341 C:\\Users\\hp\\Desktop\\YOLOv11_union_100\\yolo_union_test\\images\\f4cce14d-000017.jpg: 640x640 1 baseball bat, 477.5ms\n",
      "image 328/341 C:\\Users\\hp\\Desktop\\YOLOv11_union_100\\yolo_union_test\\images\\f63c3a53-000007.jpg: 640x480 1 chair, 238.0ms\n",
      "image 329/341 C:\\Users\\hp\\Desktop\\YOLOv11_union_100\\yolo_union_test\\images\\f6953e78-000001.jpg: 448x640 1 person, 173.4ms\n",
      "image 330/341 C:\\Users\\hp\\Desktop\\YOLOv11_union_100\\yolo_union_test\\images\\f6c588b1-000015.jpg: 448x640 1 bench, 3 chairs, 210.6ms\n",
      "image 331/341 C:\\Users\\hp\\Desktop\\YOLOv11_union_100\\yolo_union_test\\images\\f6f74709-000043_aug1.jpg: 512x640 3 persons, 1142.2ms\n",
      "image 332/341 C:\\Users\\hp\\Desktop\\YOLOv11_union_100\\yolo_union_test\\images\\f7123b83-27.png: 640x608 (no detections), 835.9ms\n",
      "image 333/341 C:\\Users\\hp\\Desktop\\YOLOv11_union_100\\yolo_union_test\\images\\f731d342-000033.jpg: 512x640 1 bowl, 2 chairs, 1 couch, 9 potted plants, 1 dining table, 2 vases, 333.7ms\n",
      "image 334/341 C:\\Users\\hp\\Desktop\\YOLOv11_union_100\\yolo_union_test\\images\\f7f88043-SPR-stihl-vs-husqvarna-chainsaws-2218119-hero-B-fd0a9e4bc5894c5b8d334c_ulxdEh4.jpg: 448x640 1 bicycle, 1 airplane, 1 potted plant, 208.0ms\n",
      "image 335/341 C:\\Users\\hp\\Desktop\\YOLOv11_union_100\\yolo_union_test\\images\\f8171125-000029.jpg: 640x480 (no detections), 240.8ms\n",
      "image 336/341 C:\\Users\\hp\\Desktop\\YOLOv11_union_100\\yolo_union_test\\images\\f9cab93b-download.jpeg: 416x640 1 person, 601.2ms\n",
      "image 337/341 C:\\Users\\hp\\Desktop\\YOLOv11_union_100\\yolo_union_test\\images\\faeba882-20250531_1609_Ladder_in_Garden_Cam_simple_compose_01jwkaqwzgfwkt5fbct8hr4hs9.png: 640x448 1 keyboard, 527.8ms\n",
      "image 338/341 C:\\Users\\hp\\Desktop\\YOLOv11_union_100\\yolo_union_test\\images\\fbbe748a-000108.jpg: 640x640 1 bench, 1 dining table, 1 vase, 622.9ms\n",
      "image 339/341 C:\\Users\\hp\\Desktop\\YOLOv11_union_100\\yolo_union_test\\images\\fbcb6937-ChatGPT_Image_31_May_2025_13_15_48.png: 640x544 1 potted plant, 276.8ms\n",
      "image 340/341 C:\\Users\\hp\\Desktop\\YOLOv11_union_100\\yolo_union_test\\images\\fc92f4fe-000008.jpg: 448x640 1 baseball bat, 230.9ms\n",
      "image 341/341 C:\\Users\\hp\\Desktop\\YOLOv11_union_100\\yolo_union_test\\images\\fdc3c1b4-ChatGPT_Image_May_31_2025_at_01_08_25_PM.png: 448x640 1 person, 1 car, 1 bench, 1 umbrella, 1 suitcase, 1 dining table, 1 laptop, 326.2ms\n",
      "Speed: 15.1ms preprocess, 477.9ms inference, 3.5ms postprocess per image at shape (1, 3, 448, 640)\n",
      "Results saved to \u001b[1mC:\\Users\\hp\\Desktop\\YOLOv11_union_100\\test_results\\pretrained_predictions\u001b[0m\n",
      "251 labels saved to C:\\Users\\hp\\Desktop\\YOLOv11_union_100\\test_results\\pretrained_predictions\\labels\n",
      "✅ Pretrained model ile test tamamlandı.\n"
     ]
    }
   ],
   "source": [
    "from ultralytics import YOLO\n",
    "import os\n",
    "\n",
    "base_dir = r\"C:\\Users\\hp\\Desktop\\YOLOv11_union_100\"\n",
    "\n",
    "# Pretrained (fine-tune edilmemiş) modeli yükle\n",
    "pretrained_model = YOLO(\"yolo11n.pt\")\n",
    "\n",
    "# Test seti üzerinde tahmin yap\n",
    "results_pretrained = pretrained_model.predict(\n",
    "    source=os.path.join(base_dir, \"yolo_union_test/images\"),\n",
    "    save=True,\n",
    "    save_txt=True,\n",
    "    project=os.path.join(base_dir, \"test_results\"),\n",
    "    name=\"pretrained_predictions\",\n",
    "    conf=0.25\n",
    ")\n",
    "\n",
    "print(\"✅ Pretrained model ile test tamamlandı.\")\n"
   ]
  },
  {
   "cell_type": "code",
   "execution_count": 7,
   "id": "424fb0b4",
   "metadata": {},
   "outputs": [
    {
     "name": "stdout",
     "output_type": "stream",
     "text": [
      "Collecting mean_average_precision\n",
      "  Downloading mean_average_precision-2024.1.5.0-py3-none-any.whl.metadata (2.8 kB)\n",
      "Requirement already satisfied: numpy in c:\\users\\hp\\appdata\\local\\programs\\python\\python39\\lib\\site-packages (from mean_average_precision) (2.0.2)\n",
      "Requirement already satisfied: pandas in c:\\users\\hp\\appdata\\local\\programs\\python\\python39\\lib\\site-packages (from mean_average_precision) (2.3.0)\n",
      "Requirement already satisfied: python-dateutil>=2.8.2 in c:\\users\\hp\\appdata\\roaming\\python\\python39\\site-packages (from pandas->mean_average_precision) (2.9.0.post0)\n",
      "Requirement already satisfied: pytz>=2020.1 in c:\\users\\hp\\appdata\\local\\programs\\python\\python39\\lib\\site-packages (from pandas->mean_average_precision) (2025.2)\n",
      "Requirement already satisfied: tzdata>=2022.7 in c:\\users\\hp\\appdata\\local\\programs\\python\\python39\\lib\\site-packages (from pandas->mean_average_precision) (2025.2)\n",
      "Requirement already satisfied: six>=1.5 in c:\\users\\hp\\appdata\\roaming\\python\\python39\\site-packages (from python-dateutil>=2.8.2->pandas->mean_average_precision) (1.17.0)\n",
      "Downloading mean_average_precision-2024.1.5.0-py3-none-any.whl (14 kB)\n",
      "Installing collected packages: mean_average_precision\n",
      "Successfully installed mean_average_precision-2024.1.5.0\n"
     ]
    }
   ],
   "source": [
    "!C:\\Users\\hp\\AppData\\Local\\Programs\\Python\\Python39\\python.exe -m pip install mean_average_precision"
   ]
  },
  {
   "cell_type": "code",
   "execution_count": 12,
   "id": "ef2e6d2f",
   "metadata": {},
   "outputs": [
    {
     "name": "stderr",
     "output_type": "stream",
     "text": [
      "Dönüştürülüyor: 100%|██████████| 1159/1159 [00:02<00:00, 561.77it/s]"
     ]
    },
    {
     "name": "stdout",
     "output_type": "stream",
     "text": [
      "\n",
      "✅ 358 adet dosya oluşturuldu: C:\\Users\\hp\\Desktop\\YOLOv11_union_100\\labels_gt\n"
     ]
    },
    {
     "name": "stderr",
     "output_type": "stream",
     "text": [
      "\n"
     ]
    }
   ],
   "source": [
    "import os\n",
    "import json\n",
    "from tqdm import tqdm\n",
    "\n",
    "def coco_to_yolo(coco_json_path, output_txt_dir, image_dir, img_ext=\".jpg\"):\n",
    "    with open(coco_json_path, 'r') as f:\n",
    "        coco_data = json.load(f)\n",
    "\n",
    "    # ID -> filename eşlemesi\n",
    "    image_id_to_filename = {img['id']: img['file_name'] for img in coco_data['images']}\n",
    "    image_sizes = {\n",
    "        os.path.basename(img['file_name']): (img['width'], img['height'])\n",
    "        for img in coco_data['images']\n",
    "    }\n",
    "\n",
    "    # Klasör yoksa oluştur\n",
    "    os.makedirs(output_txt_dir, exist_ok=True)\n",
    "\n",
    "    # Her görsel için boş bir .txt dosyası oluştur\n",
    "    for full_filename in image_id_to_filename.values():\n",
    "        filename = os.path.basename(full_filename)\n",
    "        txt_name = os.path.splitext(filename)[0] + \".txt\"\n",
    "        txt_path = os.path.join(output_txt_dir, txt_name)\n",
    "        with open(txt_path, 'w') as f:\n",
    "            pass  # başta boş bırakıyoruz\n",
    "\n",
    "    # Her annotation satırını ilgili .txt dosyasına ekle\n",
    "    for ann in tqdm(coco_data['annotations'], desc=\"Dönüştürülüyor\"):\n",
    "        image_id = ann['image_id']\n",
    "        category_id = ann['category_id']\n",
    "        bbox = ann['bbox']  # [x, y, width, height]\n",
    "\n",
    "        full_filename = image_id_to_filename[image_id]\n",
    "        filename = os.path.basename(full_filename)\n",
    "        width, height = image_sizes[filename]\n",
    "\n",
    "        # COCO → YOLO: normalize edilmiş x_center, y_center, w, h\n",
    "        x, y, w, h = bbox\n",
    "        x_center = (x + w / 2) / width\n",
    "        y_center = (y + h / 2) / height\n",
    "        w /= width\n",
    "        h /= height\n",
    "\n",
    "        txt_filename = os.path.splitext(filename)[0] + \".txt\"\n",
    "        txt_path = os.path.join(output_txt_dir, txt_filename)\n",
    "\n",
    "        with open(txt_path, 'a') as f:\n",
    "            f.write(f\"{category_id} {x_center:.6f} {y_center:.6f} {w:.6f} {h:.6f}\\n\")\n",
    "\n",
    "    print(f\"\\n✅ {len(image_id_to_filename)} adet dosya oluşturuldu: {output_txt_dir}\")\n",
    "\n",
    "coco_to_yolo(\n",
    "    coco_json_path=r\"C:\\Users\\hp\\Desktop\\YOLOv11_union_100\\merged_annotations_cleaned_test.json\",\n",
    "    output_txt_dir=r\"C:\\Users\\hp\\Desktop\\YOLOv11_union_100\\labels_gt\",\n",
    "    image_dir=r\"C:\\Users\\hp\\Desktop\\YOLOv11_union_100\\yolo_union_test\\images\"\n",
    ")\n",
    "\n"
   ]
  },
  {
   "cell_type": "code",
   "execution_count": 13,
   "id": "d41352d9",
   "metadata": {},
   "outputs": [
    {
     "name": "stdout",
     "output_type": "stream",
     "text": [
      "Pretrained: {'TP': 336, 'GT': 924, 'PRED': 991, 'Precision': 0.3391, 'Recall': 0.3636, 'F1': 0.3509}\n",
      "Fine-tuned: {'TP': 756, 'GT': 1090, 'PRED': 967, 'Precision': 0.7818, 'Recall': 0.6936, 'F1': 0.7351}\n"
     ]
    }
   ],
   "source": [
    "res1 = evaluate(\n",
    "    gt_dir=r\"C:\\Users\\hp\\Desktop\\YOLOv11_union_100\\labels_gt\",\n",
    "    pred_dir=r\"C:\\Users\\hp\\Desktop\\YOLOv11_union_100\\test_results\\pretrained_predictions\\labels\"\n",
    ")\n",
    "\n",
    "res2 = evaluate(\n",
    "    gt_dir=r\"C:\\Users\\hp\\Desktop\\YOLOv11_union_100\\labels_gt\",\n",
    "    pred_dir=r\"C:\\Users\\hp\\Desktop\\YOLOv11_union_100\\test_results\\predictions\\labels\"\n",
    ")\n",
    "\n",
    "print(\"Pretrained:\", res1)\n",
    "print(\"Fine-tuned:\", res2)\n"
   ]
  },
  {
   "cell_type": "code",
   "execution_count": 16,
   "id": "1e3b401f",
   "metadata": {},
   "outputs": [
    {
     "name": "stdout",
     "output_type": "stream",
     "text": [
      "\n",
      "▶ Pretrained model mAP hesaplanıyor...\n",
      "Ultralytics 8.3.155  Python-3.9.1 torch-2.7.1+cpu CPU (Intel Core(TM) i5-6200U 2.30GHz)\n",
      "YOLO11n summary (fused): 100 layers, 2,616,248 parameters, 0 gradients, 6.5 GFLOPs\n",
      "\u001b[34m\u001b[1mval: \u001b[0mFast image access  (ping: 0.50.2 ms, read: 143.260.7 MB/s, size: 822.5 KB)\n"
     ]
    },
    {
     "name": "stderr",
     "output_type": "stream",
     "text": [
      "\u001b[34m\u001b[1mval: \u001b[0mScanning C:\\Users\\hp\\Desktop\\YOLOv11_union_100\\yolo_union_test\\labels... 341 images, 5 backgrounds, 2 corrupt: 100%|██████████| 341/341 [00:01<00:00, 197.24it/s]"
     ]
    },
    {
     "name": "stdout",
     "output_type": "stream",
     "text": [
      "\u001b[34m\u001b[1mval: \u001b[0mC:\\Users\\hp\\Desktop\\YOLOv11_union_100\\yolo_union_test\\images\\22d3a7b1-1000069747.jpg: corrupt JPEG restored and saved\n",
      "\u001b[34m\u001b[1mval: \u001b[0mC:\\Users\\hp\\Desktop\\YOLOv11_union_100\\yolo_union_test\\images\\412ae48f-000032.jpg: ignoring corrupt image/label: non-normalized or out of bounds coordinates [     1.6755      1.2999]\n",
      "\u001b[34m\u001b[1mval: \u001b[0mC:\\Users\\hp\\Desktop\\YOLOv11_union_100\\yolo_union_test\\images\\5d3b488d-000109.jpg: ignoring corrupt image/label: non-normalized or out of bounds coordinates [     1.0862       1.222]\n",
      "\u001b[34m\u001b[1mval: \u001b[0mC:\\Users\\hp\\Desktop\\YOLOv11_union_100\\yolo_union_test\\images\\e63dd75b-20250506_144401.jpg: corrupt JPEG restored and saved\n",
      "\u001b[34m\u001b[1mval: \u001b[0mNew cache created: C:\\Users\\hp\\Desktop\\YOLOv11_union_100\\yolo_union_test\\labels.cache\n"
     ]
    },
    {
     "name": "stderr",
     "output_type": "stream",
     "text": [
      "\n",
      "c:\\Users\\hp\\AppData\\Local\\Programs\\Python\\Python39\\lib\\site-packages\\torch\\utils\\data\\dataloader.py:665: UserWarning: 'pin_memory' argument is set as true but no accelerator is found, then device pinned memory won't be used.\n",
      "  warnings.warn(warn_msg)\n",
      "                 Class     Images  Instances      Box(P          R      mAP50  mAP50-95): 100%|██████████| 22/22 [02:16<00:00,  6.19s/it]\n"
     ]
    },
    {
     "name": "stdout",
     "output_type": "stream",
     "text": [
      "                   all        339       1076      0.277     0.0243     0.0137    0.00978\n",
      "                person         31         36          0          0   0.000397   0.000193\n",
      "               bicycle         15         21          0          0   0.000531   5.31e-05\n",
      "                   car         19         27          0          0   0.000231   0.000185\n",
      "            motorcycle         19         23     0.0318     0.0435    0.00666    0.00519\n",
      "              airplane         34         43      0.093     0.0233     0.0176     0.0148\n",
      "                   bus         73        221          0          0    0.00425    0.00194\n",
      "                 train         19         21          0          0          0          0\n",
      "                 truck         14         14          0          0    0.00748    0.00408\n",
      "                  boat         15         44          0          0          0          0\n",
      "         traffic light         22         23          0          0          0          0\n",
      "          fire hydrant         22         22          0          0     0.0036    0.00274\n",
      "             stop sign         32         33          0          0     0.0128     0.0107\n",
      "         parking meter         15         21          1          0          0          0\n",
      "                 bench         24         27      0.022     0.0741      0.013     0.0107\n",
      "                  bird         33         78          1          0          0          0\n",
      "                   cat         24         25          0          0    0.00268    0.00214\n",
      "                   dog         15         16          0          0          0          0\n",
      "                 horse         13         24          1          0     0.0114    0.00247\n",
      "                 sheep         23         26          1          0          0          0\n",
      "              elephant         22         27          1          0    0.00343    0.00274\n",
      "                  bear         21         44          1          0    0.00315    0.00125\n",
      "                 zebra         84         99          1          0     0.0111    0.00444\n",
      "               giraffe         32         35          0          0          0          0\n",
      "              backpack         12         12          0          0          0          0\n",
      "              umbrella         30         33      0.336      0.515      0.272        0.2\n",
      "               handbag         23         60          0          0          0          0\n",
      "                   tie         18         21          0          0          0          0\n",
      "Speed: 7.6ms preprocess, 306.4ms inference, 0.0ms loss, 5.6ms postprocess per image\n",
      "Results saved to \u001b[1mruns\\detect\\val3\u001b[0m\n",
      "\n",
      "▶ Fine-tuned model mAP hesaplanıyor...\n",
      "Ultralytics 8.3.155  Python-3.9.1 torch-2.7.1+cpu CPU (Intel Core(TM) i5-6200U 2.30GHz)\n",
      "YOLO11n summary (fused): 100 layers, 2,587,612 parameters, 0 gradients, 6.3 GFLOPs\n",
      "\u001b[34m\u001b[1mval: \u001b[0mFast image access  (ping: 0.20.0 ms, read: 99.478.6 MB/s, size: 2341.4 KB)\n"
     ]
    },
    {
     "name": "stderr",
     "output_type": "stream",
     "text": [
      "\u001b[34m\u001b[1mval: \u001b[0mScanning C:\\Users\\hp\\Desktop\\YOLOv11_union_100\\yolo_union_test\\labels.cache... 341 images, 5 backgrounds, 2 corrupt: 100%|██████████| 341/341 [00:00<?, ?it/s]"
     ]
    },
    {
     "name": "stdout",
     "output_type": "stream",
     "text": [
      "\u001b[34m\u001b[1mval: \u001b[0mC:\\Users\\hp\\Desktop\\YOLOv11_union_100\\yolo_union_test\\images\\22d3a7b1-1000069747.jpg: corrupt JPEG restored and saved\n",
      "\u001b[34m\u001b[1mval: \u001b[0mC:\\Users\\hp\\Desktop\\YOLOv11_union_100\\yolo_union_test\\images\\412ae48f-000032.jpg: ignoring corrupt image/label: non-normalized or out of bounds coordinates [     1.6755      1.2999]\n",
      "\u001b[34m\u001b[1mval: \u001b[0mC:\\Users\\hp\\Desktop\\YOLOv11_union_100\\yolo_union_test\\images\\5d3b488d-000109.jpg: ignoring corrupt image/label: non-normalized or out of bounds coordinates [     1.0862       1.222]\n",
      "\u001b[34m\u001b[1mval: \u001b[0mC:\\Users\\hp\\Desktop\\YOLOv11_union_100\\yolo_union_test\\images\\e63dd75b-20250506_144401.jpg: corrupt JPEG restored and saved\n"
     ]
    },
    {
     "name": "stderr",
     "output_type": "stream",
     "text": [
      "\n",
      "c:\\Users\\hp\\AppData\\Local\\Programs\\Python\\Python39\\lib\\site-packages\\torch\\utils\\data\\dataloader.py:665: UserWarning: 'pin_memory' argument is set as true but no accelerator is found, then device pinned memory won't be used.\n",
      "  warnings.warn(warn_msg)\n",
      "                 Class     Images  Instances      Box(P          R      mAP50  mAP50-95): 100%|██████████| 22/22 [01:45<00:00,  4.81s/it]\n"
     ]
    },
    {
     "name": "stdout",
     "output_type": "stream",
     "text": [
      "                   all        339       1076      0.888      0.687      0.757      0.626\n",
      "              barbecue         31         36      0.924      0.556      0.694      0.499\n",
      "                 bench         15         21       0.94      0.571      0.652      0.577\n",
      "               bicycle         19         27      0.949      0.444      0.757      0.538\n",
      "                   car         19         23          1      0.647       0.68      0.591\n",
      "              chainsaw         34         43      0.843      0.791      0.855      0.741\n",
      "                 chair         73        221       0.86      0.474      0.607      0.419\n",
      "                 drill         19         21      0.838       0.81      0.847      0.706\n",
      "                ladder         14         14      0.909          1      0.995      0.865\n",
      "                  lamp         15         44      0.536      0.136      0.165      0.118\n",
      "                laptop         22         23      0.905      0.826      0.834      0.779\n",
      "             lawnmower         22         22      0.946      0.804      0.899       0.85\n",
      "           leaf_blower         32         33       0.84      0.798      0.742      0.587\n",
      "            motorcycle         15         21      0.764          1      0.942      0.801\n",
      "             pet_house         24         27      0.989      0.815      0.912      0.764\n",
      "                 phone         33         78      0.984      0.812      0.924      0.697\n",
      "       pressure_washer         24         25      0.807       0.76      0.833      0.606\n",
      "         rocking_chair         15         16      0.963      0.438      0.575      0.447\n",
      "               scooter         13         24      0.942      0.674      0.884      0.631\n",
      "                  sofa         23         26      0.818      0.654      0.642      0.535\n",
      "                statue         22         27      0.926      0.741      0.754      0.627\n",
      "                sunbed         21         44      0.883      0.705      0.819      0.628\n",
      "                 table         84         99      0.868      0.566      0.632      0.501\n",
      "               toolbox         32         35      0.958      0.943      0.945      0.889\n",
      "            trampoline         12         12      0.968          1      0.995       0.94\n",
      "              umbrella         30         33      0.972      0.636      0.787      0.674\n",
      "                  vase         23         60       0.65      0.402      0.436      0.319\n",
      "           wheelbarrow         18         21          1      0.546      0.627      0.585\n",
      "Speed: 5.4ms preprocess, 244.1ms inference, 0.0ms loss, 2.5ms postprocess per image\n",
      "Results saved to \u001b[1mruns\\detect\\val4\u001b[0m\n",
      "\n",
      "📊 Pretrained mAP:\n",
      "mAP@0.5:      0.0137\n",
      "mAP@0.5:95:   0.0098\n",
      "\n",
      "📊 Fine-tuned mAP:\n",
      "mAP@0.5:      0.7568\n",
      "mAP@0.5:95:   0.6264\n"
     ]
    }
   ],
   "source": [
    "from ultralytics import YOLO\n",
    "import os\n",
    "\n",
    "base_dir = r\"C:\\Users\\hp\\Desktop\\YOLOv11_union_100\"\n",
    "yaml_path = os.path.join(base_dir, \"yolo_union_dataset.yaml\")\n",
    "\n",
    "pretrained = YOLO(\"yolo11n.pt\")\n",
    "print(\"\\n▶ Pretrained model mAP hesaplanıyor...\")\n",
    "pretrained_metrics = pretrained.val(data=yaml_path, split='test')\n",
    "\n",
    "finetuned = YOLO(os.path.join(base_dir, \"runs\", \"detect\", \"train\", \"weights\", \"best.pt\"))\n",
    "print(\"\\n▶ Fine-tuned model mAP hesaplanıyor...\")\n",
    "finetuned_metrics = finetuned.val(data=yaml_path, split='test')\n",
    "\n",
    "print(\"\\n📊 Pretrained mAP:\")\n",
    "print(f\"mAP@0.5:      {pretrained_metrics.box.map50:.4f}\")\n",
    "print(f\"mAP@0.5:95:   {pretrained_metrics.box.map:.4f}\")\n",
    "\n",
    "print(\"\\n📊 Fine-tuned mAP:\")\n",
    "print(f\"mAP@0.5:      {finetuned_metrics.box.map50:.4f}\")\n",
    "print(f\"mAP@0.5:95:   {finetuned_metrics.box.map:.4f}\")\n"
   ]
  },
  {
   "cell_type": "code",
   "execution_count": null,
   "id": "0bdc7f99",
   "metadata": {},
   "outputs": [],
   "source": []
  }
 ],
 "metadata": {
  "kernelspec": {
   "display_name": "Python 3",
   "language": "python",
   "name": "python3"
  },
  "language_info": {
   "codemirror_mode": {
    "name": "ipython",
    "version": 3
   },
   "file_extension": ".py",
   "mimetype": "text/x-python",
   "name": "python",
   "nbconvert_exporter": "python",
   "pygments_lexer": "ipython3",
   "version": "3.9.1"
  }
 },
 "nbformat": 4,
 "nbformat_minor": 5
}
